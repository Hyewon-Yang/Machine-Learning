{
  "nbformat": 4,
  "nbformat_minor": 0,
  "metadata": {
    "colab": {
      "name": "vanilla_gan.ipynb",
      "provenance": [],
      "authorship_tag": "ABX9TyNbGDbuRKSe1TKpmkFwaHlB",
      "include_colab_link": true
    },
    "kernelspec": {
      "name": "python3",
      "display_name": "Python 3"
    },
    "accelerator": "GPU",
    "widgets": {
      "application/vnd.jupyter.widget-state+json": {
        "575690adb05840569ca352b03fc10d59": {
          "model_module": "@jupyter-widgets/controls",
          "model_name": "HBoxModel",
          "state": {
            "_view_name": "HBoxView",
            "_dom_classes": [],
            "_model_name": "HBoxModel",
            "_view_module": "@jupyter-widgets/controls",
            "_model_module_version": "1.5.0",
            "_view_count": null,
            "_view_module_version": "1.5.0",
            "box_style": "",
            "layout": "IPY_MODEL_35851eaa4af9494cae11d421996b4da1",
            "_model_module": "@jupyter-widgets/controls",
            "children": [
              "IPY_MODEL_57a2fc84c39c4d55b8e5d94eb765ad10",
              "IPY_MODEL_d3efc10827a445cf9cc5da44f408ed93"
            ]
          }
        },
        "35851eaa4af9494cae11d421996b4da1": {
          "model_module": "@jupyter-widgets/base",
          "model_name": "LayoutModel",
          "state": {
            "_view_name": "LayoutView",
            "grid_template_rows": null,
            "right": null,
            "justify_content": null,
            "_view_module": "@jupyter-widgets/base",
            "overflow": null,
            "_model_module_version": "1.2.0",
            "_view_count": null,
            "flex_flow": null,
            "width": null,
            "min_width": null,
            "border": null,
            "align_items": null,
            "bottom": null,
            "_model_module": "@jupyter-widgets/base",
            "top": null,
            "grid_column": null,
            "overflow_y": null,
            "overflow_x": null,
            "grid_auto_flow": null,
            "grid_area": null,
            "grid_template_columns": null,
            "flex": null,
            "_model_name": "LayoutModel",
            "justify_items": null,
            "grid_row": null,
            "max_height": null,
            "align_content": null,
            "visibility": null,
            "align_self": null,
            "height": null,
            "min_height": null,
            "padding": null,
            "grid_auto_rows": null,
            "grid_gap": null,
            "max_width": null,
            "order": null,
            "_view_module_version": "1.2.0",
            "grid_template_areas": null,
            "object_position": null,
            "object_fit": null,
            "grid_auto_columns": null,
            "margin": null,
            "display": null,
            "left": null
          }
        },
        "57a2fc84c39c4d55b8e5d94eb765ad10": {
          "model_module": "@jupyter-widgets/controls",
          "model_name": "FloatProgressModel",
          "state": {
            "_view_name": "ProgressView",
            "style": "IPY_MODEL_a5aed7b8067d4e20a2243b702b2e01e5",
            "_dom_classes": [],
            "description": "",
            "_model_name": "FloatProgressModel",
            "bar_style": "info",
            "max": 1,
            "_view_module": "@jupyter-widgets/controls",
            "_model_module_version": "1.5.0",
            "value": 1,
            "_view_count": null,
            "_view_module_version": "1.5.0",
            "orientation": "horizontal",
            "min": 0,
            "description_tooltip": null,
            "_model_module": "@jupyter-widgets/controls",
            "layout": "IPY_MODEL_4b148082331b4435b76b6723b389fa8a"
          }
        },
        "d3efc10827a445cf9cc5da44f408ed93": {
          "model_module": "@jupyter-widgets/controls",
          "model_name": "HTMLModel",
          "state": {
            "_view_name": "HTMLView",
            "style": "IPY_MODEL_09f3ceff450a4843900d2312979e8b7c",
            "_dom_classes": [],
            "description": "",
            "_model_name": "HTMLModel",
            "placeholder": "​",
            "_view_module": "@jupyter-widgets/controls",
            "_model_module_version": "1.5.0",
            "value": " 9920512/? [00:19&lt;00:00, 1459135.09it/s]",
            "_view_count": null,
            "_view_module_version": "1.5.0",
            "description_tooltip": null,
            "_model_module": "@jupyter-widgets/controls",
            "layout": "IPY_MODEL_f2e0444a1f3748519ec424b23565cfee"
          }
        },
        "a5aed7b8067d4e20a2243b702b2e01e5": {
          "model_module": "@jupyter-widgets/controls",
          "model_name": "ProgressStyleModel",
          "state": {
            "_view_name": "StyleView",
            "_model_name": "ProgressStyleModel",
            "description_width": "initial",
            "_view_module": "@jupyter-widgets/base",
            "_model_module_version": "1.5.0",
            "_view_count": null,
            "_view_module_version": "1.2.0",
            "bar_color": null,
            "_model_module": "@jupyter-widgets/controls"
          }
        },
        "4b148082331b4435b76b6723b389fa8a": {
          "model_module": "@jupyter-widgets/base",
          "model_name": "LayoutModel",
          "state": {
            "_view_name": "LayoutView",
            "grid_template_rows": null,
            "right": null,
            "justify_content": null,
            "_view_module": "@jupyter-widgets/base",
            "overflow": null,
            "_model_module_version": "1.2.0",
            "_view_count": null,
            "flex_flow": null,
            "width": null,
            "min_width": null,
            "border": null,
            "align_items": null,
            "bottom": null,
            "_model_module": "@jupyter-widgets/base",
            "top": null,
            "grid_column": null,
            "overflow_y": null,
            "overflow_x": null,
            "grid_auto_flow": null,
            "grid_area": null,
            "grid_template_columns": null,
            "flex": null,
            "_model_name": "LayoutModel",
            "justify_items": null,
            "grid_row": null,
            "max_height": null,
            "align_content": null,
            "visibility": null,
            "align_self": null,
            "height": null,
            "min_height": null,
            "padding": null,
            "grid_auto_rows": null,
            "grid_gap": null,
            "max_width": null,
            "order": null,
            "_view_module_version": "1.2.0",
            "grid_template_areas": null,
            "object_position": null,
            "object_fit": null,
            "grid_auto_columns": null,
            "margin": null,
            "display": null,
            "left": null
          }
        },
        "09f3ceff450a4843900d2312979e8b7c": {
          "model_module": "@jupyter-widgets/controls",
          "model_name": "DescriptionStyleModel",
          "state": {
            "_view_name": "StyleView",
            "_model_name": "DescriptionStyleModel",
            "description_width": "",
            "_view_module": "@jupyter-widgets/base",
            "_model_module_version": "1.5.0",
            "_view_count": null,
            "_view_module_version": "1.2.0",
            "_model_module": "@jupyter-widgets/controls"
          }
        },
        "f2e0444a1f3748519ec424b23565cfee": {
          "model_module": "@jupyter-widgets/base",
          "model_name": "LayoutModel",
          "state": {
            "_view_name": "LayoutView",
            "grid_template_rows": null,
            "right": null,
            "justify_content": null,
            "_view_module": "@jupyter-widgets/base",
            "overflow": null,
            "_model_module_version": "1.2.0",
            "_view_count": null,
            "flex_flow": null,
            "width": null,
            "min_width": null,
            "border": null,
            "align_items": null,
            "bottom": null,
            "_model_module": "@jupyter-widgets/base",
            "top": null,
            "grid_column": null,
            "overflow_y": null,
            "overflow_x": null,
            "grid_auto_flow": null,
            "grid_area": null,
            "grid_template_columns": null,
            "flex": null,
            "_model_name": "LayoutModel",
            "justify_items": null,
            "grid_row": null,
            "max_height": null,
            "align_content": null,
            "visibility": null,
            "align_self": null,
            "height": null,
            "min_height": null,
            "padding": null,
            "grid_auto_rows": null,
            "grid_gap": null,
            "max_width": null,
            "order": null,
            "_view_module_version": "1.2.0",
            "grid_template_areas": null,
            "object_position": null,
            "object_fit": null,
            "grid_auto_columns": null,
            "margin": null,
            "display": null,
            "left": null
          }
        },
        "d197594829fd48f1ab56026303033392": {
          "model_module": "@jupyter-widgets/controls",
          "model_name": "HBoxModel",
          "state": {
            "_view_name": "HBoxView",
            "_dom_classes": [],
            "_model_name": "HBoxModel",
            "_view_module": "@jupyter-widgets/controls",
            "_model_module_version": "1.5.0",
            "_view_count": null,
            "_view_module_version": "1.5.0",
            "box_style": "",
            "layout": "IPY_MODEL_ff8ae380e3364cb2bddd354def8640ec",
            "_model_module": "@jupyter-widgets/controls",
            "children": [
              "IPY_MODEL_740e2eb4aaba49268bd8ff4500d98dbe",
              "IPY_MODEL_a2f3c7e0b2b74cf3b98c0955f01c6f43"
            ]
          }
        },
        "ff8ae380e3364cb2bddd354def8640ec": {
          "model_module": "@jupyter-widgets/base",
          "model_name": "LayoutModel",
          "state": {
            "_view_name": "LayoutView",
            "grid_template_rows": null,
            "right": null,
            "justify_content": null,
            "_view_module": "@jupyter-widgets/base",
            "overflow": null,
            "_model_module_version": "1.2.0",
            "_view_count": null,
            "flex_flow": null,
            "width": null,
            "min_width": null,
            "border": null,
            "align_items": null,
            "bottom": null,
            "_model_module": "@jupyter-widgets/base",
            "top": null,
            "grid_column": null,
            "overflow_y": null,
            "overflow_x": null,
            "grid_auto_flow": null,
            "grid_area": null,
            "grid_template_columns": null,
            "flex": null,
            "_model_name": "LayoutModel",
            "justify_items": null,
            "grid_row": null,
            "max_height": null,
            "align_content": null,
            "visibility": null,
            "align_self": null,
            "height": null,
            "min_height": null,
            "padding": null,
            "grid_auto_rows": null,
            "grid_gap": null,
            "max_width": null,
            "order": null,
            "_view_module_version": "1.2.0",
            "grid_template_areas": null,
            "object_position": null,
            "object_fit": null,
            "grid_auto_columns": null,
            "margin": null,
            "display": null,
            "left": null
          }
        },
        "740e2eb4aaba49268bd8ff4500d98dbe": {
          "model_module": "@jupyter-widgets/controls",
          "model_name": "FloatProgressModel",
          "state": {
            "_view_name": "ProgressView",
            "style": "IPY_MODEL_b4c6985d667c4841a472996a43e5384f",
            "_dom_classes": [],
            "description": "",
            "_model_name": "FloatProgressModel",
            "bar_style": "success",
            "max": 1,
            "_view_module": "@jupyter-widgets/controls",
            "_model_module_version": "1.5.0",
            "value": 1,
            "_view_count": null,
            "_view_module_version": "1.5.0",
            "orientation": "horizontal",
            "min": 0,
            "description_tooltip": null,
            "_model_module": "@jupyter-widgets/controls",
            "layout": "IPY_MODEL_aed8d4d311e44e6daf773d6e6164467e"
          }
        },
        "a2f3c7e0b2b74cf3b98c0955f01c6f43": {
          "model_module": "@jupyter-widgets/controls",
          "model_name": "HTMLModel",
          "state": {
            "_view_name": "HTMLView",
            "style": "IPY_MODEL_3d2f6fae4f7e4233bcf1e1e9742bf55a",
            "_dom_classes": [],
            "description": "",
            "_model_name": "HTMLModel",
            "placeholder": "​",
            "_view_module": "@jupyter-widgets/controls",
            "_model_module_version": "1.5.0",
            "value": " 32768/? [00:00&lt;00:00, 33207.99it/s]",
            "_view_count": null,
            "_view_module_version": "1.5.0",
            "description_tooltip": null,
            "_model_module": "@jupyter-widgets/controls",
            "layout": "IPY_MODEL_73cdfa13578b43b4b4ae32b3dd2c0882"
          }
        },
        "b4c6985d667c4841a472996a43e5384f": {
          "model_module": "@jupyter-widgets/controls",
          "model_name": "ProgressStyleModel",
          "state": {
            "_view_name": "StyleView",
            "_model_name": "ProgressStyleModel",
            "description_width": "initial",
            "_view_module": "@jupyter-widgets/base",
            "_model_module_version": "1.5.0",
            "_view_count": null,
            "_view_module_version": "1.2.0",
            "bar_color": null,
            "_model_module": "@jupyter-widgets/controls"
          }
        },
        "aed8d4d311e44e6daf773d6e6164467e": {
          "model_module": "@jupyter-widgets/base",
          "model_name": "LayoutModel",
          "state": {
            "_view_name": "LayoutView",
            "grid_template_rows": null,
            "right": null,
            "justify_content": null,
            "_view_module": "@jupyter-widgets/base",
            "overflow": null,
            "_model_module_version": "1.2.0",
            "_view_count": null,
            "flex_flow": null,
            "width": null,
            "min_width": null,
            "border": null,
            "align_items": null,
            "bottom": null,
            "_model_module": "@jupyter-widgets/base",
            "top": null,
            "grid_column": null,
            "overflow_y": null,
            "overflow_x": null,
            "grid_auto_flow": null,
            "grid_area": null,
            "grid_template_columns": null,
            "flex": null,
            "_model_name": "LayoutModel",
            "justify_items": null,
            "grid_row": null,
            "max_height": null,
            "align_content": null,
            "visibility": null,
            "align_self": null,
            "height": null,
            "min_height": null,
            "padding": null,
            "grid_auto_rows": null,
            "grid_gap": null,
            "max_width": null,
            "order": null,
            "_view_module_version": "1.2.0",
            "grid_template_areas": null,
            "object_position": null,
            "object_fit": null,
            "grid_auto_columns": null,
            "margin": null,
            "display": null,
            "left": null
          }
        },
        "3d2f6fae4f7e4233bcf1e1e9742bf55a": {
          "model_module": "@jupyter-widgets/controls",
          "model_name": "DescriptionStyleModel",
          "state": {
            "_view_name": "StyleView",
            "_model_name": "DescriptionStyleModel",
            "description_width": "",
            "_view_module": "@jupyter-widgets/base",
            "_model_module_version": "1.5.0",
            "_view_count": null,
            "_view_module_version": "1.2.0",
            "_model_module": "@jupyter-widgets/controls"
          }
        },
        "73cdfa13578b43b4b4ae32b3dd2c0882": {
          "model_module": "@jupyter-widgets/base",
          "model_name": "LayoutModel",
          "state": {
            "_view_name": "LayoutView",
            "grid_template_rows": null,
            "right": null,
            "justify_content": null,
            "_view_module": "@jupyter-widgets/base",
            "overflow": null,
            "_model_module_version": "1.2.0",
            "_view_count": null,
            "flex_flow": null,
            "width": null,
            "min_width": null,
            "border": null,
            "align_items": null,
            "bottom": null,
            "_model_module": "@jupyter-widgets/base",
            "top": null,
            "grid_column": null,
            "overflow_y": null,
            "overflow_x": null,
            "grid_auto_flow": null,
            "grid_area": null,
            "grid_template_columns": null,
            "flex": null,
            "_model_name": "LayoutModel",
            "justify_items": null,
            "grid_row": null,
            "max_height": null,
            "align_content": null,
            "visibility": null,
            "align_self": null,
            "height": null,
            "min_height": null,
            "padding": null,
            "grid_auto_rows": null,
            "grid_gap": null,
            "max_width": null,
            "order": null,
            "_view_module_version": "1.2.0",
            "grid_template_areas": null,
            "object_position": null,
            "object_fit": null,
            "grid_auto_columns": null,
            "margin": null,
            "display": null,
            "left": null
          }
        },
        "ab4a8eabf1334b54b3f110335c9324f7": {
          "model_module": "@jupyter-widgets/controls",
          "model_name": "HBoxModel",
          "state": {
            "_view_name": "HBoxView",
            "_dom_classes": [],
            "_model_name": "HBoxModel",
            "_view_module": "@jupyter-widgets/controls",
            "_model_module_version": "1.5.0",
            "_view_count": null,
            "_view_module_version": "1.5.0",
            "box_style": "",
            "layout": "IPY_MODEL_3f5502fc47cc4eacbec44ca7b74019fe",
            "_model_module": "@jupyter-widgets/controls",
            "children": [
              "IPY_MODEL_35be596a5bc044f48611896cb9af7734",
              "IPY_MODEL_243fd03cbc434aeaae5de1dd5d73a90c"
            ]
          }
        },
        "3f5502fc47cc4eacbec44ca7b74019fe": {
          "model_module": "@jupyter-widgets/base",
          "model_name": "LayoutModel",
          "state": {
            "_view_name": "LayoutView",
            "grid_template_rows": null,
            "right": null,
            "justify_content": null,
            "_view_module": "@jupyter-widgets/base",
            "overflow": null,
            "_model_module_version": "1.2.0",
            "_view_count": null,
            "flex_flow": null,
            "width": null,
            "min_width": null,
            "border": null,
            "align_items": null,
            "bottom": null,
            "_model_module": "@jupyter-widgets/base",
            "top": null,
            "grid_column": null,
            "overflow_y": null,
            "overflow_x": null,
            "grid_auto_flow": null,
            "grid_area": null,
            "grid_template_columns": null,
            "flex": null,
            "_model_name": "LayoutModel",
            "justify_items": null,
            "grid_row": null,
            "max_height": null,
            "align_content": null,
            "visibility": null,
            "align_self": null,
            "height": null,
            "min_height": null,
            "padding": null,
            "grid_auto_rows": null,
            "grid_gap": null,
            "max_width": null,
            "order": null,
            "_view_module_version": "1.2.0",
            "grid_template_areas": null,
            "object_position": null,
            "object_fit": null,
            "grid_auto_columns": null,
            "margin": null,
            "display": null,
            "left": null
          }
        },
        "35be596a5bc044f48611896cb9af7734": {
          "model_module": "@jupyter-widgets/controls",
          "model_name": "FloatProgressModel",
          "state": {
            "_view_name": "ProgressView",
            "style": "IPY_MODEL_02fa9f7c6dd549a897a7562593365711",
            "_dom_classes": [],
            "description": "",
            "_model_name": "FloatProgressModel",
            "bar_style": "success",
            "max": 1,
            "_view_module": "@jupyter-widgets/controls",
            "_model_module_version": "1.5.0",
            "value": 1,
            "_view_count": null,
            "_view_module_version": "1.5.0",
            "orientation": "horizontal",
            "min": 0,
            "description_tooltip": null,
            "_model_module": "@jupyter-widgets/controls",
            "layout": "IPY_MODEL_2e4f76f69fa44e1a9a136352b99681bf"
          }
        },
        "243fd03cbc434aeaae5de1dd5d73a90c": {
          "model_module": "@jupyter-widgets/controls",
          "model_name": "HTMLModel",
          "state": {
            "_view_name": "HTMLView",
            "style": "IPY_MODEL_ee5e876022ee4fb394aa52b1fe5922e9",
            "_dom_classes": [],
            "description": "",
            "_model_name": "HTMLModel",
            "placeholder": "​",
            "_view_module": "@jupyter-widgets/controls",
            "_model_module_version": "1.5.0",
            "value": " 1654784/? [00:00&lt;00:00, 2308571.51it/s]",
            "_view_count": null,
            "_view_module_version": "1.5.0",
            "description_tooltip": null,
            "_model_module": "@jupyter-widgets/controls",
            "layout": "IPY_MODEL_4a4967cd2f1145dd8346f2f0476952ed"
          }
        },
        "02fa9f7c6dd549a897a7562593365711": {
          "model_module": "@jupyter-widgets/controls",
          "model_name": "ProgressStyleModel",
          "state": {
            "_view_name": "StyleView",
            "_model_name": "ProgressStyleModel",
            "description_width": "initial",
            "_view_module": "@jupyter-widgets/base",
            "_model_module_version": "1.5.0",
            "_view_count": null,
            "_view_module_version": "1.2.0",
            "bar_color": null,
            "_model_module": "@jupyter-widgets/controls"
          }
        },
        "2e4f76f69fa44e1a9a136352b99681bf": {
          "model_module": "@jupyter-widgets/base",
          "model_name": "LayoutModel",
          "state": {
            "_view_name": "LayoutView",
            "grid_template_rows": null,
            "right": null,
            "justify_content": null,
            "_view_module": "@jupyter-widgets/base",
            "overflow": null,
            "_model_module_version": "1.2.0",
            "_view_count": null,
            "flex_flow": null,
            "width": null,
            "min_width": null,
            "border": null,
            "align_items": null,
            "bottom": null,
            "_model_module": "@jupyter-widgets/base",
            "top": null,
            "grid_column": null,
            "overflow_y": null,
            "overflow_x": null,
            "grid_auto_flow": null,
            "grid_area": null,
            "grid_template_columns": null,
            "flex": null,
            "_model_name": "LayoutModel",
            "justify_items": null,
            "grid_row": null,
            "max_height": null,
            "align_content": null,
            "visibility": null,
            "align_self": null,
            "height": null,
            "min_height": null,
            "padding": null,
            "grid_auto_rows": null,
            "grid_gap": null,
            "max_width": null,
            "order": null,
            "_view_module_version": "1.2.0",
            "grid_template_areas": null,
            "object_position": null,
            "object_fit": null,
            "grid_auto_columns": null,
            "margin": null,
            "display": null,
            "left": null
          }
        },
        "ee5e876022ee4fb394aa52b1fe5922e9": {
          "model_module": "@jupyter-widgets/controls",
          "model_name": "DescriptionStyleModel",
          "state": {
            "_view_name": "StyleView",
            "_model_name": "DescriptionStyleModel",
            "description_width": "",
            "_view_module": "@jupyter-widgets/base",
            "_model_module_version": "1.5.0",
            "_view_count": null,
            "_view_module_version": "1.2.0",
            "_model_module": "@jupyter-widgets/controls"
          }
        },
        "4a4967cd2f1145dd8346f2f0476952ed": {
          "model_module": "@jupyter-widgets/base",
          "model_name": "LayoutModel",
          "state": {
            "_view_name": "LayoutView",
            "grid_template_rows": null,
            "right": null,
            "justify_content": null,
            "_view_module": "@jupyter-widgets/base",
            "overflow": null,
            "_model_module_version": "1.2.0",
            "_view_count": null,
            "flex_flow": null,
            "width": null,
            "min_width": null,
            "border": null,
            "align_items": null,
            "bottom": null,
            "_model_module": "@jupyter-widgets/base",
            "top": null,
            "grid_column": null,
            "overflow_y": null,
            "overflow_x": null,
            "grid_auto_flow": null,
            "grid_area": null,
            "grid_template_columns": null,
            "flex": null,
            "_model_name": "LayoutModel",
            "justify_items": null,
            "grid_row": null,
            "max_height": null,
            "align_content": null,
            "visibility": null,
            "align_self": null,
            "height": null,
            "min_height": null,
            "padding": null,
            "grid_auto_rows": null,
            "grid_gap": null,
            "max_width": null,
            "order": null,
            "_view_module_version": "1.2.0",
            "grid_template_areas": null,
            "object_position": null,
            "object_fit": null,
            "grid_auto_columns": null,
            "margin": null,
            "display": null,
            "left": null
          }
        },
        "78a27454b22044ff8c1f4998c159b08c": {
          "model_module": "@jupyter-widgets/controls",
          "model_name": "HBoxModel",
          "state": {
            "_view_name": "HBoxView",
            "_dom_classes": [],
            "_model_name": "HBoxModel",
            "_view_module": "@jupyter-widgets/controls",
            "_model_module_version": "1.5.0",
            "_view_count": null,
            "_view_module_version": "1.5.0",
            "box_style": "",
            "layout": "IPY_MODEL_68b95cd187eb464cbf5b0f5c4421d0f7",
            "_model_module": "@jupyter-widgets/controls",
            "children": [
              "IPY_MODEL_24eefeef529c4399878209076b9e1d64",
              "IPY_MODEL_06acda5abdab45c4a2d3c6a35aabf4cf"
            ]
          }
        },
        "68b95cd187eb464cbf5b0f5c4421d0f7": {
          "model_module": "@jupyter-widgets/base",
          "model_name": "LayoutModel",
          "state": {
            "_view_name": "LayoutView",
            "grid_template_rows": null,
            "right": null,
            "justify_content": null,
            "_view_module": "@jupyter-widgets/base",
            "overflow": null,
            "_model_module_version": "1.2.0",
            "_view_count": null,
            "flex_flow": null,
            "width": null,
            "min_width": null,
            "border": null,
            "align_items": null,
            "bottom": null,
            "_model_module": "@jupyter-widgets/base",
            "top": null,
            "grid_column": null,
            "overflow_y": null,
            "overflow_x": null,
            "grid_auto_flow": null,
            "grid_area": null,
            "grid_template_columns": null,
            "flex": null,
            "_model_name": "LayoutModel",
            "justify_items": null,
            "grid_row": null,
            "max_height": null,
            "align_content": null,
            "visibility": null,
            "align_self": null,
            "height": null,
            "min_height": null,
            "padding": null,
            "grid_auto_rows": null,
            "grid_gap": null,
            "max_width": null,
            "order": null,
            "_view_module_version": "1.2.0",
            "grid_template_areas": null,
            "object_position": null,
            "object_fit": null,
            "grid_auto_columns": null,
            "margin": null,
            "display": null,
            "left": null
          }
        },
        "24eefeef529c4399878209076b9e1d64": {
          "model_module": "@jupyter-widgets/controls",
          "model_name": "FloatProgressModel",
          "state": {
            "_view_name": "ProgressView",
            "style": "IPY_MODEL_ab6e78b79fcd4aeb954eb8f91ad877bf",
            "_dom_classes": [],
            "description": "  0%",
            "_model_name": "FloatProgressModel",
            "bar_style": "info",
            "max": 1,
            "_view_module": "@jupyter-widgets/controls",
            "_model_module_version": "1.5.0",
            "value": 0,
            "_view_count": null,
            "_view_module_version": "1.5.0",
            "orientation": "horizontal",
            "min": 0,
            "description_tooltip": null,
            "_model_module": "@jupyter-widgets/controls",
            "layout": "IPY_MODEL_c0f2cdbab7b64e04a0580816d21a274e"
          }
        },
        "06acda5abdab45c4a2d3c6a35aabf4cf": {
          "model_module": "@jupyter-widgets/controls",
          "model_name": "HTMLModel",
          "state": {
            "_view_name": "HTMLView",
            "style": "IPY_MODEL_411f6ec3536c4ffd94de6746d01336e7",
            "_dom_classes": [],
            "description": "",
            "_model_name": "HTMLModel",
            "placeholder": "​",
            "_view_module": "@jupyter-widgets/controls",
            "_model_module_version": "1.5.0",
            "value": " 0/4542 [00:00&lt;?, ?it/s]",
            "_view_count": null,
            "_view_module_version": "1.5.0",
            "description_tooltip": null,
            "_model_module": "@jupyter-widgets/controls",
            "layout": "IPY_MODEL_b6c73b7468bb4678bd61640337276108"
          }
        },
        "ab6e78b79fcd4aeb954eb8f91ad877bf": {
          "model_module": "@jupyter-widgets/controls",
          "model_name": "ProgressStyleModel",
          "state": {
            "_view_name": "StyleView",
            "_model_name": "ProgressStyleModel",
            "description_width": "initial",
            "_view_module": "@jupyter-widgets/base",
            "_model_module_version": "1.5.0",
            "_view_count": null,
            "_view_module_version": "1.2.0",
            "bar_color": null,
            "_model_module": "@jupyter-widgets/controls"
          }
        },
        "c0f2cdbab7b64e04a0580816d21a274e": {
          "model_module": "@jupyter-widgets/base",
          "model_name": "LayoutModel",
          "state": {
            "_view_name": "LayoutView",
            "grid_template_rows": null,
            "right": null,
            "justify_content": null,
            "_view_module": "@jupyter-widgets/base",
            "overflow": null,
            "_model_module_version": "1.2.0",
            "_view_count": null,
            "flex_flow": null,
            "width": null,
            "min_width": null,
            "border": null,
            "align_items": null,
            "bottom": null,
            "_model_module": "@jupyter-widgets/base",
            "top": null,
            "grid_column": null,
            "overflow_y": null,
            "overflow_x": null,
            "grid_auto_flow": null,
            "grid_area": null,
            "grid_template_columns": null,
            "flex": null,
            "_model_name": "LayoutModel",
            "justify_items": null,
            "grid_row": null,
            "max_height": null,
            "align_content": null,
            "visibility": null,
            "align_self": null,
            "height": null,
            "min_height": null,
            "padding": null,
            "grid_auto_rows": null,
            "grid_gap": null,
            "max_width": null,
            "order": null,
            "_view_module_version": "1.2.0",
            "grid_template_areas": null,
            "object_position": null,
            "object_fit": null,
            "grid_auto_columns": null,
            "margin": null,
            "display": null,
            "left": null
          }
        },
        "411f6ec3536c4ffd94de6746d01336e7": {
          "model_module": "@jupyter-widgets/controls",
          "model_name": "DescriptionStyleModel",
          "state": {
            "_view_name": "StyleView",
            "_model_name": "DescriptionStyleModel",
            "description_width": "",
            "_view_module": "@jupyter-widgets/base",
            "_model_module_version": "1.5.0",
            "_view_count": null,
            "_view_module_version": "1.2.0",
            "_model_module": "@jupyter-widgets/controls"
          }
        },
        "b6c73b7468bb4678bd61640337276108": {
          "model_module": "@jupyter-widgets/base",
          "model_name": "LayoutModel",
          "state": {
            "_view_name": "LayoutView",
            "grid_template_rows": null,
            "right": null,
            "justify_content": null,
            "_view_module": "@jupyter-widgets/base",
            "overflow": null,
            "_model_module_version": "1.2.0",
            "_view_count": null,
            "flex_flow": null,
            "width": null,
            "min_width": null,
            "border": null,
            "align_items": null,
            "bottom": null,
            "_model_module": "@jupyter-widgets/base",
            "top": null,
            "grid_column": null,
            "overflow_y": null,
            "overflow_x": null,
            "grid_auto_flow": null,
            "grid_area": null,
            "grid_template_columns": null,
            "flex": null,
            "_model_name": "LayoutModel",
            "justify_items": null,
            "grid_row": null,
            "max_height": null,
            "align_content": null,
            "visibility": null,
            "align_self": null,
            "height": null,
            "min_height": null,
            "padding": null,
            "grid_auto_rows": null,
            "grid_gap": null,
            "max_width": null,
            "order": null,
            "_view_module_version": "1.2.0",
            "grid_template_areas": null,
            "object_position": null,
            "object_fit": null,
            "grid_auto_columns": null,
            "margin": null,
            "display": null,
            "left": null
          }
        },
        "b0499748ec7f490eb17b97310817fbea": {
          "model_module": "@jupyter-widgets/controls",
          "model_name": "HBoxModel",
          "state": {
            "_view_name": "HBoxView",
            "_dom_classes": [],
            "_model_name": "HBoxModel",
            "_view_module": "@jupyter-widgets/controls",
            "_model_module_version": "1.5.0",
            "_view_count": null,
            "_view_module_version": "1.5.0",
            "box_style": "",
            "layout": "IPY_MODEL_4fa6d21a972040ff947b323e568735bb",
            "_model_module": "@jupyter-widgets/controls",
            "children": [
              "IPY_MODEL_542c63788ac1499bb193211c09896016",
              "IPY_MODEL_7cbe4c79333f4067a3099104b917bc89"
            ]
          }
        },
        "4fa6d21a972040ff947b323e568735bb": {
          "model_module": "@jupyter-widgets/base",
          "model_name": "LayoutModel",
          "state": {
            "_view_name": "LayoutView",
            "grid_template_rows": null,
            "right": null,
            "justify_content": null,
            "_view_module": "@jupyter-widgets/base",
            "overflow": null,
            "_model_module_version": "1.2.0",
            "_view_count": null,
            "flex_flow": null,
            "width": null,
            "min_width": null,
            "border": null,
            "align_items": null,
            "bottom": null,
            "_model_module": "@jupyter-widgets/base",
            "top": null,
            "grid_column": null,
            "overflow_y": null,
            "overflow_x": null,
            "grid_auto_flow": null,
            "grid_area": null,
            "grid_template_columns": null,
            "flex": null,
            "_model_name": "LayoutModel",
            "justify_items": null,
            "grid_row": null,
            "max_height": null,
            "align_content": null,
            "visibility": null,
            "align_self": null,
            "height": null,
            "min_height": null,
            "padding": null,
            "grid_auto_rows": null,
            "grid_gap": null,
            "max_width": null,
            "order": null,
            "_view_module_version": "1.2.0",
            "grid_template_areas": null,
            "object_position": null,
            "object_fit": null,
            "grid_auto_columns": null,
            "margin": null,
            "display": null,
            "left": null
          }
        },
        "542c63788ac1499bb193211c09896016": {
          "model_module": "@jupyter-widgets/controls",
          "model_name": "FloatProgressModel",
          "state": {
            "_view_name": "ProgressView",
            "style": "IPY_MODEL_97a6fc2b4bef4dac98553f4ff10e8e73",
            "_dom_classes": [],
            "description": "100%",
            "_model_name": "FloatProgressModel",
            "bar_style": "success",
            "max": 95628359,
            "_view_module": "@jupyter-widgets/controls",
            "_model_module_version": "1.5.0",
            "value": 95628359,
            "_view_count": null,
            "_view_module_version": "1.5.0",
            "orientation": "horizontal",
            "min": 0,
            "description_tooltip": null,
            "_model_module": "@jupyter-widgets/controls",
            "layout": "IPY_MODEL_5a68a2f144c7481d918324ba456a3205"
          }
        },
        "7cbe4c79333f4067a3099104b917bc89": {
          "model_module": "@jupyter-widgets/controls",
          "model_name": "HTMLModel",
          "state": {
            "_view_name": "HTMLView",
            "style": "IPY_MODEL_2b6015aaa5f144acacdedd138558eb10",
            "_dom_classes": [],
            "description": "",
            "_model_name": "HTMLModel",
            "placeholder": "​",
            "_view_module": "@jupyter-widgets/controls",
            "_model_module_version": "1.5.0",
            "value": " 91.2M/91.2M [00:03&lt;00:00, 24.1MB/s]",
            "_view_count": null,
            "_view_module_version": "1.5.0",
            "description_tooltip": null,
            "_model_module": "@jupyter-widgets/controls",
            "layout": "IPY_MODEL_6241d5e3db3a44b38636ced82afdfcd2"
          }
        },
        "97a6fc2b4bef4dac98553f4ff10e8e73": {
          "model_module": "@jupyter-widgets/controls",
          "model_name": "ProgressStyleModel",
          "state": {
            "_view_name": "StyleView",
            "_model_name": "ProgressStyleModel",
            "description_width": "initial",
            "_view_module": "@jupyter-widgets/base",
            "_model_module_version": "1.5.0",
            "_view_count": null,
            "_view_module_version": "1.2.0",
            "bar_color": null,
            "_model_module": "@jupyter-widgets/controls"
          }
        },
        "5a68a2f144c7481d918324ba456a3205": {
          "model_module": "@jupyter-widgets/base",
          "model_name": "LayoutModel",
          "state": {
            "_view_name": "LayoutView",
            "grid_template_rows": null,
            "right": null,
            "justify_content": null,
            "_view_module": "@jupyter-widgets/base",
            "overflow": null,
            "_model_module_version": "1.2.0",
            "_view_count": null,
            "flex_flow": null,
            "width": null,
            "min_width": null,
            "border": null,
            "align_items": null,
            "bottom": null,
            "_model_module": "@jupyter-widgets/base",
            "top": null,
            "grid_column": null,
            "overflow_y": null,
            "overflow_x": null,
            "grid_auto_flow": null,
            "grid_area": null,
            "grid_template_columns": null,
            "flex": null,
            "_model_name": "LayoutModel",
            "justify_items": null,
            "grid_row": null,
            "max_height": null,
            "align_content": null,
            "visibility": null,
            "align_self": null,
            "height": null,
            "min_height": null,
            "padding": null,
            "grid_auto_rows": null,
            "grid_gap": null,
            "max_width": null,
            "order": null,
            "_view_module_version": "1.2.0",
            "grid_template_areas": null,
            "object_position": null,
            "object_fit": null,
            "grid_auto_columns": null,
            "margin": null,
            "display": null,
            "left": null
          }
        },
        "2b6015aaa5f144acacdedd138558eb10": {
          "model_module": "@jupyter-widgets/controls",
          "model_name": "DescriptionStyleModel",
          "state": {
            "_view_name": "StyleView",
            "_model_name": "DescriptionStyleModel",
            "description_width": "",
            "_view_module": "@jupyter-widgets/base",
            "_model_module_version": "1.5.0",
            "_view_count": null,
            "_view_module_version": "1.2.0",
            "_model_module": "@jupyter-widgets/controls"
          }
        },
        "6241d5e3db3a44b38636ced82afdfcd2": {
          "model_module": "@jupyter-widgets/base",
          "model_name": "LayoutModel",
          "state": {
            "_view_name": "LayoutView",
            "grid_template_rows": null,
            "right": null,
            "justify_content": null,
            "_view_module": "@jupyter-widgets/base",
            "overflow": null,
            "_model_module_version": "1.2.0",
            "_view_count": null,
            "flex_flow": null,
            "width": null,
            "min_width": null,
            "border": null,
            "align_items": null,
            "bottom": null,
            "_model_module": "@jupyter-widgets/base",
            "top": null,
            "grid_column": null,
            "overflow_y": null,
            "overflow_x": null,
            "grid_auto_flow": null,
            "grid_area": null,
            "grid_template_columns": null,
            "flex": null,
            "_model_name": "LayoutModel",
            "justify_items": null,
            "grid_row": null,
            "max_height": null,
            "align_content": null,
            "visibility": null,
            "align_self": null,
            "height": null,
            "min_height": null,
            "padding": null,
            "grid_auto_rows": null,
            "grid_gap": null,
            "max_width": null,
            "order": null,
            "_view_module_version": "1.2.0",
            "grid_template_areas": null,
            "object_position": null,
            "object_fit": null,
            "grid_auto_columns": null,
            "margin": null,
            "display": null,
            "left": null
          }
        }
      }
    }
  },
  "cells": [
    {
      "cell_type": "markdown",
      "metadata": {
        "id": "view-in-github",
        "colab_type": "text"
      },
      "source": [
        "<a href=\"https://colab.research.google.com/github/Seouyang/Today-I-Learned/blob/master/vanilla_gan.ipynb\" target=\"_parent\"><img src=\"https://colab.research.google.com/assets/colab-badge.svg\" alt=\"Open In Colab\"/></a>"
      ]
    },
    {
      "cell_type": "markdown",
      "metadata": {
        "id": "EqA5dqjPqZ9X"
      },
      "source": [
        "# Generative Adversarial Network (GAN)"
      ]
    },
    {
      "cell_type": "code",
      "metadata": {
        "colab": {
          "base_uri": "https://localhost:8080/"
        },
        "id": "L-Yxq7NCqY2T",
        "outputId": "2fd8ebec-e29b-4fb2-ef3d-9c466112505d"
      },
      "source": [
        "!nvidia-smi"
      ],
      "execution_count": 1,
      "outputs": [
        {
          "output_type": "stream",
          "text": [
            "Thu Feb  4 06:12:00 2021       \n",
            "+-----------------------------------------------------------------------------+\n",
            "| NVIDIA-SMI 460.39       Driver Version: 418.67       CUDA Version: 10.1     |\n",
            "|-------------------------------+----------------------+----------------------+\n",
            "| GPU  Name        Persistence-M| Bus-Id        Disp.A | Volatile Uncorr. ECC |\n",
            "| Fan  Temp  Perf  Pwr:Usage/Cap|         Memory-Usage | GPU-Util  Compute M. |\n",
            "|                               |                      |               MIG M. |\n",
            "|===============================+======================+======================|\n",
            "|   0  Tesla T4            Off  | 00000000:00:04.0 Off |                    0 |\n",
            "| N/A   67C    P8    12W /  70W |      0MiB / 15079MiB |      0%      Default |\n",
            "|                               |                      |                 ERR! |\n",
            "+-------------------------------+----------------------+----------------------+\n",
            "                                                                               \n",
            "+-----------------------------------------------------------------------------+\n",
            "| Processes:                                                                  |\n",
            "|  GPU   GI   CI        PID   Type   Process name                  GPU Memory |\n",
            "|        ID   ID                                                   Usage      |\n",
            "|=============================================================================|\n",
            "|  No running processes found                                                 |\n",
            "+-----------------------------------------------------------------------------+\n"
          ],
          "name": "stdout"
        }
      ]
    },
    {
      "cell_type": "code",
      "metadata": {
        "id": "yY1hrD81qyTZ"
      },
      "source": [
        "import os\r\n",
        "import random\r\n",
        "os.environ['CUDA_VISIBLE_DEVICES'] = '0'"
      ],
      "execution_count": 2,
      "outputs": []
    },
    {
      "cell_type": "code",
      "metadata": {
        "id": "7hjg19Osq8I3"
      },
      "source": [
        "import numpy as np\r\n",
        "import matplotlib.pyplot as plt\r\n",
        "import matplotlib.animation as animation\r\n",
        "import imageio\r\n",
        "from IPython.display import HTML\r\n",
        "\r\n",
        "import torch\r\n",
        "import torch.nn as nn\r\n",
        "import torch.nn.parallel\r\n",
        "import torch.backends.cudnn as cudnn\r\n",
        "import torch.optim as optim\r\n",
        "import torch.utils.data\r\n",
        "import torchvision.datasets as dset\r\n",
        "import torchvision.transforms as transforms\r\n",
        "import torchvision.utils as vutils\r\n",
        "from torchvision.utils import make_grid"
      ],
      "execution_count": 3,
      "outputs": []
    },
    {
      "cell_type": "code",
      "metadata": {
        "id": "jpvTbgLNrHBn"
      },
      "source": [
        "if not os.path.exists('./checkpoint'):\r\n",
        "  os.mkdir('./checkpoint')\r\n",
        "if not os.path.exists('./dataset'):\r\n",
        "  os.mkdir('./dataset')\r\n",
        "if not os.path.exists('./img'):\r\n",
        "  os.mkdir('./img')\r\n",
        "if not os.path.exists('./img/real'):\r\n",
        "  os.mkdir('./img/real')\r\n",
        "if not os.path.exists('./img/fake'):\r\n",
        "  os.mkdir('./img/fake')"
      ],
      "execution_count": 4,
      "outputs": []
    },
    {
      "cell_type": "code",
      "metadata": {
        "id": "UezU_0vOrhOY"
      },
      "source": [
        "def vis_image(image):\r\n",
        "  plt.imshow(image[0].detach().cpu().numpy(), cmap='gray') #visualize the first image from the torch tensor\r\n",
        "  plt.show()"
      ],
      "execution_count": 5,
      "outputs": []
    },
    {
      "cell_type": "code",
      "metadata": {
        "id": "Vx7aUOsjrzz-"
      },
      "source": [
        "def save_gif(training_progress_images, images):\r\n",
        "  img_grid = make_grid(images.data)\r\n",
        "  img_grid = np.transpose(img_grid.detach().cpu().numpy(), (1, 2, 0))\r\n",
        "  img_grid = 255. * img_grid\r\n",
        "  img_grid = img_grid.astype(np.uint8)\r\n",
        "  training_progress_images.append(img_grid)\r\n",
        "  imageio.mimsave('./img/training_progress.gif', training_progress_images)\r\n",
        "  return training_progress_images"
      ],
      "execution_count": 6,
      "outputs": []
    },
    {
      "cell_type": "code",
      "metadata": {
        "id": "jcduCAvPsli4"
      },
      "source": [
        "def vis_gif(training_progress_images):\r\n",
        "    fig = plt.figure()\r\n",
        "    ims = []\r\n",
        "    for i in range(len(training_progress_images)):\r\n",
        "        im = plt.imshow(training_progress_images[i], animated=True)\r\n",
        "        ims.append([im])\r\n",
        "    ani = animation.ArtistAnimation(fig, ims, interval=50, blit=True, repeat_delay=1000)\r\n",
        "    html = ani.to_html5_video()\r\n",
        "    HTML(html)"
      ],
      "execution_count": 17,
      "outputs": []
    },
    {
      "cell_type": "code",
      "metadata": {
        "id": "4JIZTmfXuP0n"
      },
      "source": [
        "def plot_gif(training_progress_images, plot_length=10):\r\n",
        "  plt.close()\r\n",
        "  fig = plt.figure()\r\n",
        "  total_len = len(training_progress_images)\r\n",
        "  for i in range(plot_length):\r\n",
        "    im = plt.imshow(training_progress_images[int(total_len/plot_length)*i])\r\n",
        "    plt.show()"
      ],
      "execution_count": 8,
      "outputs": []
    },
    {
      "cell_type": "code",
      "metadata": {
        "id": "wUrcD4jfuote"
      },
      "source": [
        "def save_image_list(dataset, real):\r\n",
        "  if real:\r\n",
        "    base_path = './img/real'\r\n",
        "  else:\r\n",
        "    base_path = './img/fake'\r\n",
        "  \r\n",
        "  dataset_path = []\r\n",
        "\r\n",
        "  for i in range(len(dataset)):\r\n",
        "    save_path = f'{base_path}/image_{i}.png'\r\n",
        "    dataset_path.append(save_path)\r\n",
        "    vutils.save_image(dataset[i], save_path)\r\n",
        "    \r\n",
        "  return base_path"
      ],
      "execution_count": 9,
      "outputs": []
    },
    {
      "cell_type": "code",
      "metadata": {
        "colab": {
          "base_uri": "https://localhost:8080/",
          "height": 419,
          "referenced_widgets": [
            "575690adb05840569ca352b03fc10d59",
            "35851eaa4af9494cae11d421996b4da1",
            "57a2fc84c39c4d55b8e5d94eb765ad10",
            "d3efc10827a445cf9cc5da44f408ed93",
            "a5aed7b8067d4e20a2243b702b2e01e5",
            "4b148082331b4435b76b6723b389fa8a",
            "09f3ceff450a4843900d2312979e8b7c",
            "f2e0444a1f3748519ec424b23565cfee",
            "d197594829fd48f1ab56026303033392",
            "ff8ae380e3364cb2bddd354def8640ec",
            "740e2eb4aaba49268bd8ff4500d98dbe",
            "a2f3c7e0b2b74cf3b98c0955f01c6f43",
            "b4c6985d667c4841a472996a43e5384f",
            "aed8d4d311e44e6daf773d6e6164467e",
            "3d2f6fae4f7e4233bcf1e1e9742bf55a",
            "73cdfa13578b43b4b4ae32b3dd2c0882",
            "ab4a8eabf1334b54b3f110335c9324f7",
            "3f5502fc47cc4eacbec44ca7b74019fe",
            "35be596a5bc044f48611896cb9af7734",
            "243fd03cbc434aeaae5de1dd5d73a90c",
            "02fa9f7c6dd549a897a7562593365711",
            "2e4f76f69fa44e1a9a136352b99681bf",
            "ee5e876022ee4fb394aa52b1fe5922e9",
            "4a4967cd2f1145dd8346f2f0476952ed",
            "78a27454b22044ff8c1f4998c159b08c",
            "68b95cd187eb464cbf5b0f5c4421d0f7",
            "24eefeef529c4399878209076b9e1d64",
            "06acda5abdab45c4a2d3c6a35aabf4cf",
            "ab6e78b79fcd4aeb954eb8f91ad877bf",
            "c0f2cdbab7b64e04a0580816d21a274e",
            "411f6ec3536c4ffd94de6746d01336e7",
            "b6c73b7468bb4678bd61640337276108"
          ]
        },
        "id": "uILDmlPZvEtw",
        "outputId": "45570cfe-7e28-4107-be27-327fb1bef667"
      },
      "source": [
        "dataset = dset.MNIST(root='./dataset', download=True, transform=transforms.Compose([transforms.ToTensor()]))\r\n",
        "dataloader = torch.utils.data.DataLoader(dataset, batch_size=128, shuffle=True, num_workers=2)"
      ],
      "execution_count": 10,
      "outputs": [
        {
          "output_type": "stream",
          "text": [
            "Downloading http://yann.lecun.com/exdb/mnist/train-images-idx3-ubyte.gz to ./dataset/MNIST/raw/train-images-idx3-ubyte.gz\n"
          ],
          "name": "stdout"
        },
        {
          "output_type": "display_data",
          "data": {
            "application/vnd.jupyter.widget-view+json": {
              "model_id": "575690adb05840569ca352b03fc10d59",
              "version_minor": 0,
              "version_major": 2
            },
            "text/plain": [
              "HBox(children=(FloatProgress(value=1.0, bar_style='info', max=1.0), HTML(value='')))"
            ]
          },
          "metadata": {
            "tags": []
          }
        },
        {
          "output_type": "stream",
          "text": [
            "Extracting ./dataset/MNIST/raw/train-images-idx3-ubyte.gz to ./dataset/MNIST/raw\n",
            "Downloading http://yann.lecun.com/exdb/mnist/train-labels-idx1-ubyte.gz to ./dataset/MNIST/raw/train-labels-idx1-ubyte.gz\n"
          ],
          "name": "stdout"
        },
        {
          "output_type": "display_data",
          "data": {
            "application/vnd.jupyter.widget-view+json": {
              "model_id": "d197594829fd48f1ab56026303033392",
              "version_minor": 0,
              "version_major": 2
            },
            "text/plain": [
              "HBox(children=(FloatProgress(value=1.0, bar_style='info', max=1.0), HTML(value='')))"
            ]
          },
          "metadata": {
            "tags": []
          }
        },
        {
          "output_type": "stream",
          "text": [
            "Extracting ./dataset/MNIST/raw/train-labels-idx1-ubyte.gz to ./dataset/MNIST/raw\n",
            "Downloading http://yann.lecun.com/exdb/mnist/t10k-images-idx3-ubyte.gz to ./dataset/MNIST/raw/t10k-images-idx3-ubyte.gz\n"
          ],
          "name": "stdout"
        },
        {
          "output_type": "display_data",
          "data": {
            "application/vnd.jupyter.widget-view+json": {
              "model_id": "ab4a8eabf1334b54b3f110335c9324f7",
              "version_minor": 0,
              "version_major": 2
            },
            "text/plain": [
              "HBox(children=(FloatProgress(value=1.0, bar_style='info', max=1.0), HTML(value='')))"
            ]
          },
          "metadata": {
            "tags": []
          }
        },
        {
          "output_type": "stream",
          "text": [
            "Extracting ./dataset/MNIST/raw/t10k-images-idx3-ubyte.gz to ./dataset/MNIST/raw\n",
            "Downloading http://yann.lecun.com/exdb/mnist/t10k-labels-idx1-ubyte.gz to ./dataset/MNIST/raw/t10k-labels-idx1-ubyte.gz\n",
            "\n",
            "\n"
          ],
          "name": "stdout"
        },
        {
          "output_type": "display_data",
          "data": {
            "application/vnd.jupyter.widget-view+json": {
              "model_id": "78a27454b22044ff8c1f4998c159b08c",
              "version_minor": 0,
              "version_major": 2
            },
            "text/plain": [
              "HBox(children=(FloatProgress(value=1.0, bar_style='info', max=1.0), HTML(value='')))"
            ]
          },
          "metadata": {
            "tags": []
          }
        },
        {
          "output_type": "stream",
          "text": [
            "Extracting ./dataset/MNIST/raw/t10k-labels-idx1-ubyte.gz to ./dataset/MNIST/raw\n",
            "Processing...\n",
            "Done!\n"
          ],
          "name": "stdout"
        },
        {
          "output_type": "stream",
          "text": [
            "/usr/local/lib/python3.6/dist-packages/torchvision/datasets/mnist.py:480: UserWarning: The given NumPy array is not writeable, and PyTorch does not support non-writeable tensors. This means you can write to the underlying (supposedly non-writeable) NumPy array using the tensor. You may want to copy the array to protect its data or make it writeable before converting it to a tensor. This type of warning will be suppressed for the rest of this program. (Triggered internally at  /pytorch/torch/csrc/utils/tensor_numpy.cpp:141.)\n",
            "  return torch.from_numpy(parsed.astype(m[2], copy=False)).view(*s)\n"
          ],
          "name": "stderr"
        }
      ]
    },
    {
      "cell_type": "code",
      "metadata": {
        "id": "sMxaKSGVvg3t"
      },
      "source": [
        "#Generator\r\n",
        "class Generator(nn.Module):\r\n",
        "  def __init__(self):\r\n",
        "    super(Generator, self).__init__()\r\n",
        "    self.main = nn.Sequential(\r\n",
        "        nn.Linear(100, 256),\r\n",
        "        nn.ReLU(),\r\n",
        "        nn.Linear(256, 256),\r\n",
        "        nn.ReLU(),\r\n",
        "        nn.Linear(256, 784),\r\n",
        "        nn.Sigmoid()\r\n",
        "    )\r\n",
        "  \r\n",
        "  def forward(self, input):\r\n",
        "    output = self.main(input)\r\n",
        "    output = output.view(-1, 1, 28, 28)\r\n",
        "    return output"
      ],
      "execution_count": 11,
      "outputs": []
    },
    {
      "cell_type": "code",
      "metadata": {
        "id": "25ZIqcMVwKas"
      },
      "source": [
        "#Discriminator\r\n",
        "class Discriminator(nn.Module):\r\n",
        "  def __init__(self):\r\n",
        "    super(Discriminator, self).__init__()\r\n",
        "    self.main = nn.Sequential(\r\n",
        "        nn.Linear(784, 256),\r\n",
        "        nn.LeakyReLU(0.2),\r\n",
        "        nn.Linear(256, 256),\r\n",
        "        nn.LeakyReLU(0.2),\r\n",
        "        nn.Linear(256, 1), #binary classification\r\n",
        "        nn.Sigmoid()\r\n",
        "    )\r\n",
        "  \r\n",
        "  def forward(self, input):\r\n",
        "    input = input.view(-1, 28*28)\r\n",
        "    output = self.main(input)\r\n",
        "    output = output.squeeze(dim=1)\r\n",
        "    return output"
      ],
      "execution_count": 12,
      "outputs": []
    },
    {
      "cell_type": "code",
      "metadata": {
        "id": "vQpHAUnvxBrr"
      },
      "source": [
        "netG = Generator().cuda()\r\n",
        "netD = Discriminator().cuda()\r\n",
        "\r\n",
        "optimizerD = optim.Adam(netD.parameters(), lr=0.0002)\r\n",
        "optimizerG = optim.Adam(netG.parameters(), lr=0.0002)"
      ],
      "execution_count": 13,
      "outputs": []
    },
    {
      "cell_type": "code",
      "metadata": {
        "id": "8_LJhr50xPPF"
      },
      "source": [
        "noise = torch.randn(128, 100).cuda()"
      ],
      "execution_count": 14,
      "outputs": []
    },
    {
      "cell_type": "markdown",
      "metadata": {
        "id": "S9Ww2AqD7KDk"
      },
      "source": [
        "Update D network: Maximize $log(D(x))+log(1-D(G(z)))$\r\n",
        "\r\n",
        "Update G network: Maximize $log(D(G(z)))$"
      ]
    },
    {
      "cell_type": "code",
      "metadata": {
        "colab": {
          "base_uri": "https://localhost:8080/"
        },
        "id": "cjuwC3fKxW1d",
        "outputId": "4b3257db-523e-46a4-e83d-5d3dd1a70d96"
      },
      "source": [
        "fixed_noise = torch.randn(128, 100).cuda()\r\n",
        "criterion = nn.BCELoss()\r\n",
        "\r\n",
        "n_epoch = 200\r\n",
        "training_progress_images_list = []\r\n",
        "for epoch in range(n_epoch):\r\n",
        "  for i, (data, _) in enumerate(dataloader):\r\n",
        "    #update D\r\n",
        "    #train with real\r\n",
        "    netD.zero_grad()\r\n",
        "    data = data.cuda()\r\n",
        "    batch_size = data.size(0)\r\n",
        "    label = torch.ones((batch_size,)).cuda()\r\n",
        "    output = netD(data)\r\n",
        "    errD_real = criterion(output, label)\r\n",
        "    D_x = output.mean().item()\r\n",
        "\r\n",
        "    #train with fake\r\n",
        "    noise = torch.randn(batch_size, 100).cuda()\r\n",
        "    fake = netG(noise)\r\n",
        "    label = torch.zeros((batch_size,)).cuda()\r\n",
        "    output = netD(fake.detach()) #detach fake image from gradient computation to prevent gradient flows to generator and make only discriminator updated\r\n",
        "    errD_fake = criterion(output, label)\r\n",
        "    D_G_z1 = output.mean().item()\r\n",
        "\r\n",
        "    #loss backward\r\n",
        "    errD = errD_real + errD_fake\r\n",
        "    errD.backward()\r\n",
        "    optimizerD.step()\r\n",
        "\r\n",
        "    #update G\r\n",
        "    #train with fake\r\n",
        "    netG.zero_grad()\r\n",
        "    label = torch.ones((batch_size,)).cuda()\r\n",
        "    output = netD(fake)\r\n",
        "    errG = criterion(output, label)\r\n",
        "    D_G_z2 = output.mean().item()\r\n",
        "\r\n",
        "    #loss backward\r\n",
        "    errG.backward()\r\n",
        "    optimizerG.step()\r\n",
        "  \r\n",
        "  print('[%d/%d] Loss_D: %.4f Loss_G: %.4f D(x): %.4f D(G(z)): %.4f / %.4f' % (epoch, n_epoch, errD.item(), errG.item(), D_x, D_G_z1, D_G_z2))\r\n",
        "\r\n",
        "  fake = netG(fixed_noise)\r\n",
        "  training_progress_images_list = save_gif(training_progress_images_list, fake)\r\n",
        "\r\n",
        "  torch.save(netG.state_dict(), './checkpoint/netG_epoch_%d.pth' % (epoch))\r\n",
        "  torch.save(netD.state_dict(), './checkpoint/netD_epoch_%d.pth' % (epoch))"
      ],
      "execution_count": 15,
      "outputs": [
        {
          "output_type": "stream",
          "text": [
            "[0/200] Loss_D: 0.0453 Loss_G: 5.9038 D(x): 0.9711 D(G(z)): 0.0104 / 0.0029\n",
            "[1/200] Loss_D: 0.0113 Loss_G: 6.6197 D(x): 0.9930 D(G(z)): 0.0019 / 0.0013\n",
            "[2/200] Loss_D: 0.0104 Loss_G: 7.3087 D(x): 0.9920 D(G(z)): 0.0011 / 0.0007\n",
            "[3/200] Loss_D: 0.0038 Loss_G: 7.0205 D(x): 0.9997 D(G(z)): 0.0034 / 0.0009\n",
            "[4/200] Loss_D: 0.0186 Loss_G: 7.2951 D(x): 0.9915 D(G(z)): 0.0028 / 0.0012\n",
            "[5/200] Loss_D: 0.0060 Loss_G: 7.2349 D(x): 0.9999 D(G(z)): 0.0059 / 0.0011\n",
            "[6/200] Loss_D: 0.0020 Loss_G: 7.5121 D(x): 0.9996 D(G(z)): 0.0016 / 0.0008\n",
            "[7/200] Loss_D: 0.0031 Loss_G: 7.9306 D(x): 0.9998 D(G(z)): 0.0029 / 0.0008\n",
            "[8/200] Loss_D: 0.0111 Loss_G: 7.6981 D(x): 0.9957 D(G(z)): 0.0061 / 0.0031\n",
            "[9/200] Loss_D: 0.0110 Loss_G: 7.1013 D(x): 0.9999 D(G(z)): 0.0108 / 0.0015\n",
            "[10/200] Loss_D: 0.0022 Loss_G: 10.6771 D(x): 0.9993 D(G(z)): 0.0015 / 0.0003\n",
            "[11/200] Loss_D: 0.0046 Loss_G: 7.9935 D(x): 1.0000 D(G(z)): 0.0045 / 0.0008\n",
            "[12/200] Loss_D: 0.0003 Loss_G: 11.0169 D(x): 0.9999 D(G(z)): 0.0002 / 0.0001\n",
            "[13/200] Loss_D: 0.0041 Loss_G: 8.9194 D(x): 1.0000 D(G(z)): 0.0040 / 0.0005\n",
            "[14/200] Loss_D: 0.0010 Loss_G: 10.5025 D(x): 0.9999 D(G(z)): 0.0008 / 0.0001\n",
            "[15/200] Loss_D: 0.0158 Loss_G: 9.8820 D(x): 0.9919 D(G(z)): 0.0013 / 0.0006\n",
            "[16/200] Loss_D: 0.1067 Loss_G: 10.0710 D(x): 0.9766 D(G(z)): 0.0054 / 0.0020\n",
            "[17/200] Loss_D: 0.0056 Loss_G: 8.2046 D(x): 0.9987 D(G(z)): 0.0042 / 0.0017\n",
            "[18/200] Loss_D: 0.0139 Loss_G: 10.4083 D(x): 0.9947 D(G(z)): 0.0064 / 0.0010\n",
            "[19/200] Loss_D: 0.0056 Loss_G: 8.2116 D(x): 0.9994 D(G(z)): 0.0049 / 0.0018\n",
            "[20/200] Loss_D: 0.0457 Loss_G: 5.8988 D(x): 0.9936 D(G(z)): 0.0315 / 0.0136\n",
            "[21/200] Loss_D: 0.0203 Loss_G: 7.9118 D(x): 0.9994 D(G(z)): 0.0178 / 0.0033\n",
            "[22/200] Loss_D: 0.0576 Loss_G: 6.1245 D(x): 0.9870 D(G(z)): 0.0251 / 0.0097\n",
            "[23/200] Loss_D: 0.0175 Loss_G: 8.4795 D(x): 0.9903 D(G(z)): 0.0051 / 0.0031\n",
            "[24/200] Loss_D: 0.0425 Loss_G: 9.1295 D(x): 0.9974 D(G(z)): 0.0196 / 0.0059\n",
            "[25/200] Loss_D: 0.0477 Loss_G: 7.2333 D(x): 0.9771 D(G(z)): 0.0087 / 0.0041\n",
            "[26/200] Loss_D: 0.1158 Loss_G: 7.7093 D(x): 0.9594 D(G(z)): 0.0180 / 0.0110\n",
            "[27/200] Loss_D: 0.1125 Loss_G: 6.2340 D(x): 0.9724 D(G(z)): 0.0264 / 0.0091\n",
            "[28/200] Loss_D: 0.0498 Loss_G: 6.1009 D(x): 0.9852 D(G(z)): 0.0303 / 0.0179\n",
            "[29/200] Loss_D: 0.1115 Loss_G: 6.0292 D(x): 0.9916 D(G(z)): 0.0598 / 0.0337\n",
            "[30/200] Loss_D: 0.0398 Loss_G: 7.2777 D(x): 0.9800 D(G(z)): 0.0102 / 0.0073\n",
            "[31/200] Loss_D: 0.0940 Loss_G: 6.2538 D(x): 0.9621 D(G(z)): 0.0246 / 0.0152\n",
            "[32/200] Loss_D: 0.1048 Loss_G: 6.1927 D(x): 0.9791 D(G(z)): 0.0489 / 0.0246\n",
            "[33/200] Loss_D: 0.1303 Loss_G: 6.0283 D(x): 0.9487 D(G(z)): 0.0299 / 0.0304\n",
            "[34/200] Loss_D: 0.1419 Loss_G: 5.3107 D(x): 0.9787 D(G(z)): 0.0793 / 0.0297\n",
            "[35/200] Loss_D: 0.2024 Loss_G: 5.4178 D(x): 0.9356 D(G(z)): 0.0603 / 0.0323\n",
            "[36/200] Loss_D: 0.0770 Loss_G: 4.8808 D(x): 0.9907 D(G(z)): 0.0541 / 0.0364\n",
            "[37/200] Loss_D: 0.1753 Loss_G: 5.4121 D(x): 0.9465 D(G(z)): 0.0592 / 0.0345\n",
            "[38/200] Loss_D: 0.2009 Loss_G: 4.1686 D(x): 0.9786 D(G(z)): 0.1133 / 0.0764\n",
            "[39/200] Loss_D: 0.2091 Loss_G: 4.6530 D(x): 0.9552 D(G(z)): 0.1026 / 0.0415\n",
            "[40/200] Loss_D: 0.1410 Loss_G: 4.8521 D(x): 0.9565 D(G(z)): 0.0577 / 0.0403\n",
            "[41/200] Loss_D: 0.2241 Loss_G: 4.5355 D(x): 0.9345 D(G(z)): 0.0407 / 0.0379\n",
            "[42/200] Loss_D: 0.2392 Loss_G: 3.9541 D(x): 0.9221 D(G(z)): 0.0892 / 0.0669\n",
            "[43/200] Loss_D: 0.4065 Loss_G: 3.5616 D(x): 0.8955 D(G(z)): 0.1521 / 0.1031\n",
            "[44/200] Loss_D: 0.3543 Loss_G: 3.4342 D(x): 0.8978 D(G(z)): 0.1123 / 0.0952\n",
            "[45/200] Loss_D: 0.3443 Loss_G: 3.3432 D(x): 0.8801 D(G(z)): 0.1166 / 0.1006\n",
            "[46/200] Loss_D: 0.3647 Loss_G: 3.2384 D(x): 0.8983 D(G(z)): 0.1421 / 0.0796\n",
            "[47/200] Loss_D: 0.4915 Loss_G: 2.9272 D(x): 0.8255 D(G(z)): 0.1177 / 0.1123\n",
            "[48/200] Loss_D: 0.4559 Loss_G: 2.7071 D(x): 0.8760 D(G(z)): 0.1311 / 0.1355\n",
            "[49/200] Loss_D: 0.4419 Loss_G: 3.5459 D(x): 0.8340 D(G(z)): 0.0779 / 0.0678\n",
            "[50/200] Loss_D: 0.5625 Loss_G: 2.9272 D(x): 0.8826 D(G(z)): 0.1769 / 0.1398\n",
            "[51/200] Loss_D: 0.4203 Loss_G: 2.4802 D(x): 0.9095 D(G(z)): 0.1801 / 0.1576\n",
            "[52/200] Loss_D: 0.5404 Loss_G: 2.2610 D(x): 0.8773 D(G(z)): 0.2222 / 0.2152\n",
            "[53/200] Loss_D: 0.4614 Loss_G: 2.4148 D(x): 0.8903 D(G(z)): 0.1980 / 0.1667\n",
            "[54/200] Loss_D: 0.4747 Loss_G: 2.7509 D(x): 0.8611 D(G(z)): 0.1213 / 0.1239\n",
            "[55/200] Loss_D: 0.3656 Loss_G: 3.5594 D(x): 0.8723 D(G(z)): 0.0859 / 0.0524\n",
            "[56/200] Loss_D: 0.6186 Loss_G: 2.8374 D(x): 0.7913 D(G(z)): 0.1114 / 0.1159\n",
            "[57/200] Loss_D: 0.5545 Loss_G: 2.7136 D(x): 0.7938 D(G(z)): 0.1136 / 0.1113\n",
            "[58/200] Loss_D: 0.5177 Loss_G: 2.9653 D(x): 0.8097 D(G(z)): 0.1212 / 0.0995\n",
            "[59/200] Loss_D: 0.6716 Loss_G: 2.1944 D(x): 0.8319 D(G(z)): 0.2336 / 0.1961\n",
            "[60/200] Loss_D: 0.3583 Loss_G: 2.7812 D(x): 0.8749 D(G(z)): 0.1318 / 0.0997\n",
            "[61/200] Loss_D: 0.5514 Loss_G: 2.7552 D(x): 0.8272 D(G(z)): 0.1401 / 0.1277\n",
            "[62/200] Loss_D: 0.5101 Loss_G: 2.4973 D(x): 0.8443 D(G(z)): 0.1452 / 0.1555\n",
            "[63/200] Loss_D: 0.5260 Loss_G: 2.2910 D(x): 0.8118 D(G(z)): 0.1433 / 0.1485\n",
            "[64/200] Loss_D: 0.4790 Loss_G: 2.2087 D(x): 0.8972 D(G(z)): 0.1903 / 0.1867\n",
            "[65/200] Loss_D: 0.6410 Loss_G: 2.5628 D(x): 0.8024 D(G(z)): 0.1649 / 0.1449\n",
            "[66/200] Loss_D: 0.5738 Loss_G: 2.3855 D(x): 0.7984 D(G(z)): 0.1615 / 0.1449\n",
            "[67/200] Loss_D: 0.6141 Loss_G: 1.9149 D(x): 0.8496 D(G(z)): 0.2132 / 0.2139\n",
            "[68/200] Loss_D: 0.4601 Loss_G: 2.3356 D(x): 0.8421 D(G(z)): 0.1607 / 0.1391\n",
            "[69/200] Loss_D: 0.5298 Loss_G: 2.4252 D(x): 0.8466 D(G(z)): 0.1851 / 0.1461\n",
            "[70/200] Loss_D: 0.4938 Loss_G: 2.2592 D(x): 0.8816 D(G(z)): 0.1885 / 0.1595\n",
            "[71/200] Loss_D: 0.5700 Loss_G: 2.2092 D(x): 0.8193 D(G(z)): 0.1694 / 0.1537\n",
            "[72/200] Loss_D: 0.5124 Loss_G: 1.9160 D(x): 0.8756 D(G(z)): 0.2234 / 0.2141\n",
            "[73/200] Loss_D: 0.7284 Loss_G: 2.4434 D(x): 0.7518 D(G(z)): 0.1291 / 0.1488\n",
            "[74/200] Loss_D: 0.4912 Loss_G: 2.5584 D(x): 0.8070 D(G(z)): 0.1319 / 0.1179\n",
            "[75/200] Loss_D: 0.4912 Loss_G: 2.0077 D(x): 0.8959 D(G(z)): 0.2454 / 0.1943\n",
            "[76/200] Loss_D: 0.7437 Loss_G: 2.0316 D(x): 0.7631 D(G(z)): 0.2065 / 0.1993\n",
            "[77/200] Loss_D: 0.5556 Loss_G: 2.4962 D(x): 0.8181 D(G(z)): 0.1585 / 0.1332\n",
            "[78/200] Loss_D: 0.6357 Loss_G: 2.0848 D(x): 0.7471 D(G(z)): 0.1559 / 0.1700\n",
            "[79/200] Loss_D: 0.6071 Loss_G: 1.8315 D(x): 0.8085 D(G(z)): 0.2165 / 0.2268\n",
            "[80/200] Loss_D: 0.5994 Loss_G: 1.8786 D(x): 0.8265 D(G(z)): 0.1991 / 0.2149\n",
            "[81/200] Loss_D: 0.7598 Loss_G: 2.2821 D(x): 0.7503 D(G(z)): 0.1885 / 0.1765\n",
            "[82/200] Loss_D: 0.5656 Loss_G: 2.1104 D(x): 0.8221 D(G(z)): 0.1707 / 0.1700\n",
            "[83/200] Loss_D: 0.6960 Loss_G: 1.9803 D(x): 0.7708 D(G(z)): 0.2018 / 0.1990\n",
            "[84/200] Loss_D: 0.7219 Loss_G: 1.9448 D(x): 0.8192 D(G(z)): 0.2715 / 0.2226\n",
            "[85/200] Loss_D: 0.7370 Loss_G: 1.7471 D(x): 0.8221 D(G(z)): 0.2690 / 0.2550\n",
            "[86/200] Loss_D: 0.5561 Loss_G: 2.2457 D(x): 0.8063 D(G(z)): 0.1715 / 0.1635\n",
            "[87/200] Loss_D: 0.5319 Loss_G: 2.3287 D(x): 0.8275 D(G(z)): 0.1579 / 0.1454\n",
            "[88/200] Loss_D: 0.4540 Loss_G: 2.2173 D(x): 0.8292 D(G(z)): 0.1538 / 0.1545\n",
            "[89/200] Loss_D: 0.6905 Loss_G: 2.1719 D(x): 0.7754 D(G(z)): 0.2083 / 0.1632\n",
            "[90/200] Loss_D: 0.6280 Loss_G: 2.1036 D(x): 0.8201 D(G(z)): 0.2207 / 0.2011\n",
            "[91/200] Loss_D: 0.5420 Loss_G: 2.1886 D(x): 0.8499 D(G(z)): 0.2114 / 0.1744\n",
            "[92/200] Loss_D: 0.5295 Loss_G: 2.0654 D(x): 0.8166 D(G(z)): 0.1630 / 0.1859\n",
            "[93/200] Loss_D: 0.6110 Loss_G: 2.2276 D(x): 0.7818 D(G(z)): 0.1578 / 0.1553\n",
            "[94/200] Loss_D: 0.7051 Loss_G: 1.8665 D(x): 0.8081 D(G(z)): 0.2586 / 0.2334\n",
            "[95/200] Loss_D: 0.6473 Loss_G: 1.9414 D(x): 0.7832 D(G(z)): 0.2255 / 0.2082\n",
            "[96/200] Loss_D: 0.6890 Loss_G: 2.2280 D(x): 0.7681 D(G(z)): 0.1771 / 0.1507\n",
            "[97/200] Loss_D: 0.6457 Loss_G: 1.8998 D(x): 0.8212 D(G(z)): 0.2356 / 0.2246\n",
            "[98/200] Loss_D: 0.7101 Loss_G: 1.8778 D(x): 0.8248 D(G(z)): 0.2698 / 0.2143\n",
            "[99/200] Loss_D: 0.5492 Loss_G: 2.2161 D(x): 0.8017 D(G(z)): 0.1646 / 0.1591\n",
            "[100/200] Loss_D: 0.6385 Loss_G: 2.2229 D(x): 0.8066 D(G(z)): 0.1858 / 0.1615\n",
            "[101/200] Loss_D: 0.6856 Loss_G: 1.9077 D(x): 0.7720 D(G(z)): 0.2063 / 0.1984\n",
            "[102/200] Loss_D: 0.6456 Loss_G: 1.8944 D(x): 0.7809 D(G(z)): 0.2141 / 0.2013\n",
            "[103/200] Loss_D: 0.7224 Loss_G: 1.7985 D(x): 0.7637 D(G(z)): 0.2331 / 0.2251\n",
            "[104/200] Loss_D: 0.6606 Loss_G: 2.1712 D(x): 0.7887 D(G(z)): 0.1989 / 0.1692\n",
            "[105/200] Loss_D: 0.7360 Loss_G: 2.0812 D(x): 0.7642 D(G(z)): 0.1977 / 0.1974\n",
            "[106/200] Loss_D: 0.6553 Loss_G: 1.7986 D(x): 0.8171 D(G(z)): 0.2554 / 0.2256\n",
            "[107/200] Loss_D: 0.6602 Loss_G: 1.9919 D(x): 0.8152 D(G(z)): 0.2353 / 0.1975\n",
            "[108/200] Loss_D: 0.6820 Loss_G: 2.0276 D(x): 0.7582 D(G(z)): 0.1855 / 0.1775\n",
            "[109/200] Loss_D: 0.7387 Loss_G: 1.9779 D(x): 0.7501 D(G(z)): 0.2196 / 0.1956\n",
            "[110/200] Loss_D: 0.6175 Loss_G: 2.0901 D(x): 0.7792 D(G(z)): 0.1699 / 0.1722\n",
            "[111/200] Loss_D: 0.7185 Loss_G: 2.1791 D(x): 0.7412 D(G(z)): 0.1690 / 0.1546\n",
            "[112/200] Loss_D: 0.7095 Loss_G: 1.6413 D(x): 0.7853 D(G(z)): 0.2686 / 0.2403\n",
            "[113/200] Loss_D: 0.5164 Loss_G: 2.0272 D(x): 0.8256 D(G(z)): 0.1853 / 0.1787\n",
            "[114/200] Loss_D: 0.7598 Loss_G: 1.8756 D(x): 0.7670 D(G(z)): 0.2195 / 0.2156\n",
            "[115/200] Loss_D: 0.5840 Loss_G: 1.6310 D(x): 0.8749 D(G(z)): 0.2883 / 0.2557\n",
            "[116/200] Loss_D: 0.5247 Loss_G: 1.9730 D(x): 0.8075 D(G(z)): 0.1817 / 0.1735\n",
            "[117/200] Loss_D: 0.7580 Loss_G: 1.9164 D(x): 0.7760 D(G(z)): 0.2148 / 0.2065\n",
            "[118/200] Loss_D: 0.6539 Loss_G: 2.0902 D(x): 0.8139 D(G(z)): 0.2280 / 0.1860\n",
            "[119/200] Loss_D: 0.6989 Loss_G: 1.8751 D(x): 0.7408 D(G(z)): 0.1958 / 0.2069\n",
            "[120/200] Loss_D: 0.6383 Loss_G: 2.0437 D(x): 0.7977 D(G(z)): 0.2152 / 0.1859\n",
            "[121/200] Loss_D: 0.6599 Loss_G: 1.9856 D(x): 0.8064 D(G(z)): 0.2334 / 0.1960\n",
            "[122/200] Loss_D: 0.6191 Loss_G: 2.1725 D(x): 0.8001 D(G(z)): 0.2130 / 0.1829\n",
            "[123/200] Loss_D: 0.5545 Loss_G: 1.7236 D(x): 0.8687 D(G(z)): 0.2582 / 0.2454\n",
            "[124/200] Loss_D: 0.6967 Loss_G: 1.7456 D(x): 0.7972 D(G(z)): 0.2532 / 0.2340\n",
            "[125/200] Loss_D: 0.6404 Loss_G: 2.0319 D(x): 0.7759 D(G(z)): 0.1848 / 0.1849\n",
            "[126/200] Loss_D: 0.8029 Loss_G: 1.6759 D(x): 0.7939 D(G(z)): 0.2969 / 0.2665\n",
            "[127/200] Loss_D: 0.6881 Loss_G: 1.5985 D(x): 0.8017 D(G(z)): 0.2335 / 0.2557\n",
            "[128/200] Loss_D: 0.5795 Loss_G: 2.0571 D(x): 0.7844 D(G(z)): 0.1743 / 0.1777\n",
            "[129/200] Loss_D: 0.5846 Loss_G: 1.9950 D(x): 0.8129 D(G(z)): 0.2040 / 0.1892\n",
            "[130/200] Loss_D: 0.5574 Loss_G: 2.1178 D(x): 0.8247 D(G(z)): 0.1709 / 0.1733\n",
            "[131/200] Loss_D: 0.7520 Loss_G: 1.8638 D(x): 0.7680 D(G(z)): 0.2379 / 0.2202\n",
            "[132/200] Loss_D: 0.6627 Loss_G: 2.0680 D(x): 0.7375 D(G(z)): 0.1609 / 0.1823\n",
            "[133/200] Loss_D: 0.5955 Loss_G: 1.8165 D(x): 0.8424 D(G(z)): 0.2445 / 0.2274\n",
            "[134/200] Loss_D: 0.4932 Loss_G: 2.0510 D(x): 0.8530 D(G(z)): 0.1994 / 0.1876\n",
            "[135/200] Loss_D: 0.6401 Loss_G: 2.0299 D(x): 0.7752 D(G(z)): 0.2025 / 0.1789\n",
            "[136/200] Loss_D: 0.7407 Loss_G: 1.9680 D(x): 0.7416 D(G(z)): 0.2098 / 0.1955\n",
            "[137/200] Loss_D: 0.7632 Loss_G: 1.7660 D(x): 0.7701 D(G(z)): 0.2398 / 0.2449\n",
            "[138/200] Loss_D: 0.6820 Loss_G: 2.1573 D(x): 0.7972 D(G(z)): 0.2335 / 0.1807\n",
            "[139/200] Loss_D: 0.6515 Loss_G: 2.3559 D(x): 0.7683 D(G(z)): 0.1740 / 0.1436\n",
            "[140/200] Loss_D: 0.7674 Loss_G: 1.8053 D(x): 0.7482 D(G(z)): 0.2231 / 0.2213\n",
            "[141/200] Loss_D: 0.5376 Loss_G: 2.1812 D(x): 0.8138 D(G(z)): 0.1710 / 0.1591\n",
            "[142/200] Loss_D: 0.4948 Loss_G: 1.9116 D(x): 0.8779 D(G(z)): 0.2259 / 0.2075\n",
            "[143/200] Loss_D: 0.5741 Loss_G: 1.7890 D(x): 0.8370 D(G(z)): 0.2241 / 0.2301\n",
            "[144/200] Loss_D: 0.6293 Loss_G: 1.9715 D(x): 0.8081 D(G(z)): 0.2184 / 0.1822\n",
            "[145/200] Loss_D: 0.7234 Loss_G: 1.8083 D(x): 0.7715 D(G(z)): 0.2111 / 0.2160\n",
            "[146/200] Loss_D: 0.6395 Loss_G: 2.0060 D(x): 0.7586 D(G(z)): 0.1829 / 0.1941\n",
            "[147/200] Loss_D: 0.6868 Loss_G: 2.0417 D(x): 0.7721 D(G(z)): 0.1815 / 0.1887\n",
            "[148/200] Loss_D: 0.5864 Loss_G: 2.1889 D(x): 0.8250 D(G(z)): 0.1957 / 0.1779\n",
            "[149/200] Loss_D: 0.5684 Loss_G: 1.7187 D(x): 0.8199 D(G(z)): 0.2039 / 0.2342\n",
            "[150/200] Loss_D: 0.6349 Loss_G: 2.2721 D(x): 0.7629 D(G(z)): 0.1499 / 0.1610\n",
            "[151/200] Loss_D: 0.5810 Loss_G: 2.1764 D(x): 0.8481 D(G(z)): 0.2158 / 0.1803\n",
            "[152/200] Loss_D: 0.6414 Loss_G: 1.9944 D(x): 0.7666 D(G(z)): 0.1694 / 0.1788\n",
            "[153/200] Loss_D: 0.7446 Loss_G: 2.1104 D(x): 0.7894 D(G(z)): 0.2302 / 0.1953\n",
            "[154/200] Loss_D: 0.6482 Loss_G: 2.0532 D(x): 0.7873 D(G(z)): 0.2104 / 0.1887\n",
            "[155/200] Loss_D: 0.6412 Loss_G: 1.9770 D(x): 0.7873 D(G(z)): 0.2118 / 0.1957\n",
            "[156/200] Loss_D: 0.6459 Loss_G: 2.2895 D(x): 0.7468 D(G(z)): 0.1549 / 0.1567\n",
            "[157/200] Loss_D: 0.6915 Loss_G: 2.1060 D(x): 0.7724 D(G(z)): 0.1880 / 0.1756\n",
            "[158/200] Loss_D: 0.5731 Loss_G: 1.7752 D(x): 0.8317 D(G(z)): 0.2357 / 0.2278\n",
            "[159/200] Loss_D: 0.6636 Loss_G: 2.1128 D(x): 0.7784 D(G(z)): 0.1784 / 0.1824\n",
            "[160/200] Loss_D: 0.6224 Loss_G: 1.9220 D(x): 0.7998 D(G(z)): 0.2029 / 0.2006\n",
            "[161/200] Loss_D: 0.5397 Loss_G: 1.8933 D(x): 0.8596 D(G(z)): 0.2249 / 0.2085\n",
            "[162/200] Loss_D: 0.7776 Loss_G: 1.9079 D(x): 0.7400 D(G(z)): 0.2268 / 0.2162\n",
            "[163/200] Loss_D: 0.7983 Loss_G: 2.1029 D(x): 0.6869 D(G(z)): 0.1379 / 0.1650\n",
            "[164/200] Loss_D: 0.5768 Loss_G: 2.1356 D(x): 0.7899 D(G(z)): 0.1595 / 0.1645\n",
            "[165/200] Loss_D: 0.7136 Loss_G: 1.7941 D(x): 0.7734 D(G(z)): 0.2291 / 0.2297\n",
            "[166/200] Loss_D: 0.6738 Loss_G: 1.9246 D(x): 0.7490 D(G(z)): 0.1795 / 0.1898\n",
            "[167/200] Loss_D: 0.6689 Loss_G: 1.8443 D(x): 0.8022 D(G(z)): 0.2238 / 0.2422\n",
            "[168/200] Loss_D: 0.7003 Loss_G: 1.7610 D(x): 0.7526 D(G(z)): 0.1940 / 0.2275\n",
            "[169/200] Loss_D: 0.6240 Loss_G: 1.7315 D(x): 0.7666 D(G(z)): 0.1756 / 0.2164\n",
            "[170/200] Loss_D: 0.6262 Loss_G: 2.1527 D(x): 0.7857 D(G(z)): 0.1718 / 0.1629\n",
            "[171/200] Loss_D: 0.6323 Loss_G: 2.2071 D(x): 0.7626 D(G(z)): 0.1671 / 0.1646\n",
            "[172/200] Loss_D: 0.8118 Loss_G: 1.9201 D(x): 0.7589 D(G(z)): 0.2091 / 0.1972\n",
            "[173/200] Loss_D: 0.5412 Loss_G: 2.0472 D(x): 0.8215 D(G(z)): 0.1724 / 0.1644\n",
            "[174/200] Loss_D: 0.6670 Loss_G: 1.8992 D(x): 0.8017 D(G(z)): 0.2301 / 0.1973\n",
            "[175/200] Loss_D: 0.6192 Loss_G: 2.2308 D(x): 0.7834 D(G(z)): 0.1771 / 0.1573\n",
            "[176/200] Loss_D: 0.6264 Loss_G: 1.9464 D(x): 0.8310 D(G(z)): 0.2301 / 0.2089\n",
            "[177/200] Loss_D: 0.6297 Loss_G: 1.9605 D(x): 0.8106 D(G(z)): 0.2195 / 0.2029\n",
            "[178/200] Loss_D: 0.7113 Loss_G: 2.1234 D(x): 0.7344 D(G(z)): 0.1909 / 0.1935\n",
            "[179/200] Loss_D: 0.6011 Loss_G: 2.2745 D(x): 0.7587 D(G(z)): 0.1253 / 0.1425\n",
            "[180/200] Loss_D: 0.6299 Loss_G: 2.0799 D(x): 0.7670 D(G(z)): 0.1650 / 0.1717\n",
            "[181/200] Loss_D: 0.5762 Loss_G: 2.0572 D(x): 0.7908 D(G(z)): 0.1630 / 0.1791\n",
            "[182/200] Loss_D: 0.6126 Loss_G: 2.1064 D(x): 0.7703 D(G(z)): 0.1703 / 0.1768\n",
            "[183/200] Loss_D: 0.5836 Loss_G: 2.0937 D(x): 0.8021 D(G(z)): 0.1731 / 0.1687\n",
            "[184/200] Loss_D: 0.6554 Loss_G: 1.6746 D(x): 0.7900 D(G(z)): 0.2318 / 0.2404\n",
            "[185/200] Loss_D: 0.6605 Loss_G: 2.1281 D(x): 0.7893 D(G(z)): 0.1759 / 0.1680\n",
            "[186/200] Loss_D: 0.6051 Loss_G: 2.0508 D(x): 0.7819 D(G(z)): 0.1934 / 0.1846\n",
            "[187/200] Loss_D: 0.6263 Loss_G: 1.8372 D(x): 0.8056 D(G(z)): 0.2019 / 0.2043\n",
            "[188/200] Loss_D: 0.5891 Loss_G: 2.2297 D(x): 0.7947 D(G(z)): 0.1724 / 0.1569\n",
            "[189/200] Loss_D: 0.7037 Loss_G: 1.7443 D(x): 0.7878 D(G(z)): 0.2454 / 0.2397\n",
            "[190/200] Loss_D: 0.5192 Loss_G: 2.4862 D(x): 0.7997 D(G(z)): 0.1277 / 0.1146\n",
            "[191/200] Loss_D: 0.5517 Loss_G: 2.0919 D(x): 0.8493 D(G(z)): 0.2149 / 0.1773\n",
            "[192/200] Loss_D: 0.6472 Loss_G: 1.9875 D(x): 0.8109 D(G(z)): 0.2292 / 0.1868\n",
            "[193/200] Loss_D: 0.6092 Loss_G: 2.1308 D(x): 0.7742 D(G(z)): 0.1518 / 0.1740\n",
            "[194/200] Loss_D: 0.5986 Loss_G: 1.9338 D(x): 0.8021 D(G(z)): 0.1960 / 0.1954\n",
            "[195/200] Loss_D: 0.5753 Loss_G: 1.8988 D(x): 0.8271 D(G(z)): 0.2089 / 0.2017\n",
            "[196/200] Loss_D: 0.5768 Loss_G: 2.1285 D(x): 0.8131 D(G(z)): 0.1888 / 0.1659\n",
            "[197/200] Loss_D: 0.6217 Loss_G: 2.0366 D(x): 0.7659 D(G(z)): 0.1665 / 0.1808\n",
            "[198/200] Loss_D: 0.7457 Loss_G: 1.8901 D(x): 0.7924 D(G(z)): 0.2544 / 0.2121\n",
            "[199/200] Loss_D: 0.6596 Loss_G: 1.9076 D(x): 0.7793 D(G(z)): 0.1923 / 0.2165\n"
          ],
          "name": "stdout"
        }
      ]
    },
    {
      "cell_type": "code",
      "metadata": {
        "colab": {
          "base_uri": "https://localhost:8080/",
          "height": 1000
        },
        "id": "rYOpXdla9fd1",
        "outputId": "60e4f5e8-5d68-4ebc-d0f7-e8f82a62bd14"
      },
      "source": [
        "#visualize generated samples\r\n",
        "vis_gif(training_progress_images_list)\r\n",
        "plot_gif(training_progress_images_list)"
      ],
      "execution_count": 20,
      "outputs": [
        {
          "output_type": "display_data",
          "data": {
            "image/png": "[encoded data removed]",
            "text/plain": [
              "<Figure size 432x288 with 1 Axes>"
            ]
          },
          "metadata": {
            "tags": [],
            "needs_background": "light"
          }
        },
        {
          "output_type": "display_data",
          "data": {
            "image/png": "[encoded data removed]",
            "text/plain": [
              "<Figure size 432x288 with 1 Axes>"
            ]
          },
          "metadata": {
            "tags": [],
            "needs_background": "light"
          }
        },
        {
          "output_type": "display_data",
          "data": {
            "image/png": "[encoded data removed]",
            "text/plain": [
              "<Figure size 432x288 with 1 Axes>"
            ]
          },
          "metadata": {
            "tags": [],
            "needs_background": "light"
          }
        },
        {
          "output_type": "display_data",
          "data": {
            "image/png": "[encoded data removed]",
            "text/plain": [
              "<Figure size 432x288 with 1 Axes>"
            ]
          },
          "metadata": {
            "tags": [],
            "needs_background": "light"
          }
        },
        {
          "output_type": "display_data",
          "data": {
            "image/png": "[encoded data removed]",
            "text/plain": [
              "<Figure size 432x288 with 1 Axes>"
            ]
          },
          "metadata": {
            "tags": [],
            "needs_background": "light"
          }
        },
        {
          "output_type": "display_data",
          "data": {
            "image/png": "[encoded data removed]",
            "text/plain": [
              "<Figure size 432x288 with 1 Axes>"
            ]
          },
          "metadata": {
            "tags": [],
            "needs_background": "light"
          }
        },
        {
          "output_type": "display_data",
          "data": {
            "image/png": "[encoded data removed]",
            "text/plain": [
              "<Figure size 432x288 with 1 Axes>"
            ]
          },
          "metadata": {
            "tags": [],
            "needs_background": "light"
          }
        },
        {
          "output_type": "display_data",
          "data": {
            "image/png": "[encoded data removed]",
            "text/plain": [
              "<Figure size 432x288 with 1 Axes>"
            ]
          },
          "metadata": {
            "tags": [],
            "needs_background": "light"
          }
        },
        {
          "output_type": "display_data",
          "data": {
            "image/png": "[encoded data removed]",
            "text/plain": [
              "<Figure size 432x288 with 1 Axes>"
            ]
          },
          "metadata": {
            "tags": [],
            "needs_background": "light"
          }
        },
        {
          "output_type": "display_data",
          "data": {
            "image/png": "[encoded data removed]",
            "text/plain": [
              "<Figure size 432x288 with 1 Axes>"
            ]
          },
          "metadata": {
            "tags": [],
            "needs_background": "light"
          }
        }
      ]
    },
    {
      "cell_type": "markdown",
      "metadata": {
        "id": "d22c7Gx491yl"
      },
      "source": [
        "**Evaluation using FID score**\r\n",
        "\r\n",
        "FID score measures the distance between real dataset and fake dataset in feature space of Inception pretrained network. From the extracted features of real and fake dataset, we can compute mean and covariance of each features to calculate the distance between distributions."
      ]
    },
    {
      "cell_type": "code",
      "metadata": {
        "colab": {
          "base_uri": "https://localhost:8080/"
        },
        "id": "2FnHkHdc-bw0",
        "outputId": "0508d597-a9d9-4767-b66b-0dfa828e464a"
      },
      "source": [
        "#load FID score function from github\r\n",
        "!wget --no-check-certificate 'https://docs.google.com/uc?export=download&id=1InzR1qylS3Air4IvpS9CoamqJ0r9bqQg' -O inception.py\r\n",
        "!wget --no-check-certificate 'https://docs.google.com/uc?export=download&id=1AtTxnuasIaSTTmI9MI7k8ugY8KJ1cw3Y' -O fid_score.py"
      ],
      "execution_count": 21,
      "outputs": [
        {
          "output_type": "stream",
          "text": [
            "--2021-02-04 08:12:22--  https://docs.google.com/uc?export=download&id=1InzR1qylS3Air4IvpS9CoamqJ0r9bqQg\n",
            "Resolving docs.google.com (docs.google.com)... 74.125.142.102, 74.125.142.138, 74.125.142.101, ...\n",
            "Connecting to docs.google.com (docs.google.com)|74.125.142.102|:443... connected.\n",
            "HTTP request sent, awaiting response... 302 Moved Temporarily\n",
            "Location: https://doc-0k-6s-docs.googleusercontent.com/docs/securesc/ha0ro937gcuc7l7deffksulhg5h7mbp1/uprktt7l6olpvbp2n8r89dk5k6qaqmdo/1612426275000/05323530314538631540/*/1InzR1qylS3Air4IvpS9CoamqJ0r9bqQg?e=download [following]\n",
            "Warning: wildcards not supported in HTTP.\n",
            "--2021-02-04 08:12:22--  https://doc-0k-6s-docs.googleusercontent.com/docs/securesc/ha0ro937gcuc7l7deffksulhg5h7mbp1/uprktt7l6olpvbp2n8r89dk5k6qaqmdo/1612426275000/05323530314538631540/*/1InzR1qylS3Air4IvpS9CoamqJ0r9bqQg?e=download\n",
            "Resolving doc-0k-6s-docs.googleusercontent.com (doc-0k-6s-docs.googleusercontent.com)... 74.125.142.132, 2607:f8b0:400e:c08::84\n",
            "Connecting to doc-0k-6s-docs.googleusercontent.com (doc-0k-6s-docs.googleusercontent.com)|74.125.142.132|:443... connected.\n",
            "HTTP request sent, awaiting response... 200 OK\n",
            "Length: 12178 (12K) [text/x-python-script]\n",
            "Saving to: ‘inception.py’\n",
            "\n",
            "inception.py        100%[===================>]  11.89K  --.-KB/s    in 0s      \n",
            "\n",
            "2021-02-04 08:12:23 (87.3 MB/s) - ‘inception.py’ saved [12178/12178]\n",
            "\n",
            "--2021-02-04 08:12:23--  https://docs.google.com/uc?export=download&id=1AtTxnuasIaSTTmI9MI7k8ugY8KJ1cw3Y\n",
            "Resolving docs.google.com (docs.google.com)... 74.125.197.113, 74.125.197.139, 74.125.197.100, ...\n",
            "Connecting to docs.google.com (docs.google.com)|74.125.197.113|:443... connected.\n",
            "HTTP request sent, awaiting response... 302 Moved Temporarily\n",
            "Location: https://doc-08-6s-docs.googleusercontent.com/docs/securesc/ha0ro937gcuc7l7deffksulhg5h7mbp1/8139c895bt8b2ge9bki37s4vovfvg59g/1612426275000/05323530314538631540/*/1AtTxnuasIaSTTmI9MI7k8ugY8KJ1cw3Y?e=download [following]\n",
            "Warning: wildcards not supported in HTTP.\n",
            "--2021-02-04 08:12:23--  https://doc-08-6s-docs.googleusercontent.com/docs/securesc/ha0ro937gcuc7l7deffksulhg5h7mbp1/8139c895bt8b2ge9bki37s4vovfvg59g/1612426275000/05323530314538631540/*/1AtTxnuasIaSTTmI9MI7k8ugY8KJ1cw3Y?e=download\n",
            "Resolving doc-08-6s-docs.googleusercontent.com (doc-08-6s-docs.googleusercontent.com)... 74.125.142.132, 2607:f8b0:400e:c08::84\n",
            "Connecting to doc-08-6s-docs.googleusercontent.com (doc-08-6s-docs.googleusercontent.com)|74.125.142.132|:443... connected.\n",
            "HTTP request sent, awaiting response... 200 OK\n",
            "Length: 8156 (8.0K) [text/x-python-script]\n",
            "Saving to: ‘fid_score.py’\n",
            "\n",
            "fid_score.py        100%[===================>]   7.96K  --.-KB/s    in 0s      \n",
            "\n",
            "2021-02-04 08:12:23 (54.5 MB/s) - ‘fid_score.py’ saved [8156/8156]\n",
            "\n"
          ],
          "name": "stdout"
        }
      ]
    },
    {
      "cell_type": "code",
      "metadata": {
        "id": "kO3jPbvv-gxT"
      },
      "source": [
        "from fid_score import calculate_fid_given_paths"
      ],
      "execution_count": 22,
      "outputs": []
    },
    {
      "cell_type": "code",
      "metadata": {
        "id": "TtivvBK3-njr"
      },
      "source": [
        "test_dataset = dset.MNIST(root='./dataset', download=True, train=False, transform=transforms.Compose([transforms.ToTensor()]))\r\n",
        "dataloader = torch.utils.data.DataLoader(test_dataset, batch_size=50, shuffle=True, num_workers=2)\r\n",
        "\r\n",
        "for i, (data, _) in enumerate(dataloader):\r\n",
        "  real_dataset = data\r\n",
        "  break\r\n",
        "\r\n",
        "noise = torch.randn(50, 100).cuda()\r\n",
        "fake_dataset = netG(noise)"
      ],
      "execution_count": 23,
      "outputs": []
    },
    {
      "cell_type": "code",
      "metadata": {
        "id": "AzZDoFza_vNL"
      },
      "source": [
        "real_image_path_list = save_image_list(real_dataset, True)\r\n",
        "fake_image_path_list = save_image_list(fake_dataset, False)"
      ],
      "execution_count": 24,
      "outputs": []
    },
    {
      "cell_type": "code",
      "metadata": {
        "colab": {
          "base_uri": "https://localhost:8080/",
          "height": 140,
          "referenced_widgets": [
            "b0499748ec7f490eb17b97310817fbea",
            "4fa6d21a972040ff947b323e568735bb",
            "542c63788ac1499bb193211c09896016",
            "7cbe4c79333f4067a3099104b917bc89",
            "97a6fc2b4bef4dac98553f4ff10e8e73",
            "5a68a2f144c7481d918324ba456a3205",
            "2b6015aaa5f144acacdedd138558eb10",
            "6241d5e3db3a44b38636ced82afdfcd2"
          ]
        },
        "id": "OqezosZm_37j",
        "outputId": "7cccabd2-75f3-4d9a-d726-bb5c0ce40114"
      },
      "source": [
        "fid_value = calculate_fid_given_paths([real_image_path_list, fake_image_path_list], 50, True, 2048)\r\n",
        "print(f'FID score: {fid_value}')"
      ],
      "execution_count": 25,
      "outputs": [
        {
          "output_type": "stream",
          "text": [
            "Downloading: \"https://github.com/mseitzer/pytorch-fid/releases/download/fid_weights/pt_inception-2015-12-05-6726825d.pth\" to /root/.cache/torch/hub/checkpoints/pt_inception-2015-12-05-6726825d.pth\n"
          ],
          "name": "stderr"
        },
        {
          "output_type": "display_data",
          "data": {
            "application/vnd.jupyter.widget-view+json": {
              "model_id": "b0499748ec7f490eb17b97310817fbea",
              "version_minor": 0,
              "version_major": 2
            },
            "text/plain": [
              "HBox(children=(FloatProgress(value=0.0, max=95628359.0), HTML(value='')))"
            ]
          },
          "metadata": {
            "tags": []
          }
        },
        {
          "output_type": "stream",
          "text": [
            "\n"
          ],
          "name": "stdout"
        },
        {
          "output_type": "stream",
          "text": [
            "100%|██████████| 1/1 [00:00<00:00,  3.78it/s]\n",
            "100%|██████████| 1/1 [00:00<00:00,  5.16it/s]\n"
          ],
          "name": "stderr"
        },
        {
          "output_type": "stream",
          "text": [
            "FID score: 126.27289586481359\n"
          ],
          "name": "stdout"
        }
      ]
    }
  ]
}