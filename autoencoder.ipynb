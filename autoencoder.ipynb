{
  "nbformat": 4,
  "nbformat_minor": 0,
  "metadata": {
    "colab": {
      "name": "autoencoder.ipynb",
      "provenance": [],
      "authorship_tag": "ABX9TyONsvjIn9uJ+7wH3Ym9eUr2",
      "include_colab_link": true
    },
    "kernelspec": {
      "name": "python3",
      "display_name": "Python 3"
    },
    "accelerator": "GPU",
    "widgets": {
      "application/vnd.jupyter.widget-state+json": {
        "f77c4f7fce0f491c92f6d29da184be2c": {
          "model_module": "@jupyter-widgets/controls",
          "model_name": "HBoxModel",
          "state": {
            "_view_name": "HBoxView",
            "_dom_classes": [],
            "_model_name": "HBoxModel",
            "_view_module": "@jupyter-widgets/controls",
            "_model_module_version": "1.5.0",
            "_view_count": null,
            "_view_module_version": "1.5.0",
            "box_style": "",
            "layout": "IPY_MODEL_edc6d48ef0e2419989954c3e8f46e0cf",
            "_model_module": "@jupyter-widgets/controls",
            "children": [
              "IPY_MODEL_d51f8237eb2e4335b783c1e534c2e342",
              "IPY_MODEL_5f0628a13be54ce4a2971254733591a4"
            ]
          }
        },
        "edc6d48ef0e2419989954c3e8f46e0cf": {
          "model_module": "@jupyter-widgets/base",
          "model_name": "LayoutModel",
          "state": {
            "_view_name": "LayoutView",
            "grid_template_rows": null,
            "right": null,
            "justify_content": null,
            "_view_module": "@jupyter-widgets/base",
            "overflow": null,
            "_model_module_version": "1.2.0",
            "_view_count": null,
            "flex_flow": null,
            "width": null,
            "min_width": null,
            "border": null,
            "align_items": null,
            "bottom": null,
            "_model_module": "@jupyter-widgets/base",
            "top": null,
            "grid_column": null,
            "overflow_y": null,
            "overflow_x": null,
            "grid_auto_flow": null,
            "grid_area": null,
            "grid_template_columns": null,
            "flex": null,
            "_model_name": "LayoutModel",
            "justify_items": null,
            "grid_row": null,
            "max_height": null,
            "align_content": null,
            "visibility": null,
            "align_self": null,
            "height": null,
            "min_height": null,
            "padding": null,
            "grid_auto_rows": null,
            "grid_gap": null,
            "max_width": null,
            "order": null,
            "_view_module_version": "1.2.0",
            "grid_template_areas": null,
            "object_position": null,
            "object_fit": null,
            "grid_auto_columns": null,
            "margin": null,
            "display": null,
            "left": null
          }
        },
        "d51f8237eb2e4335b783c1e534c2e342": {
          "model_module": "@jupyter-widgets/controls",
          "model_name": "FloatProgressModel",
          "state": {
            "_view_name": "ProgressView",
            "style": "IPY_MODEL_0fee70e4b26343c5a02a1dcf761f7628",
            "_dom_classes": [],
            "description": "",
            "_model_name": "FloatProgressModel",
            "bar_style": "info",
            "max": 1,
            "_view_module": "@jupyter-widgets/controls",
            "_model_module_version": "1.5.0",
            "value": 1,
            "_view_count": null,
            "_view_module_version": "1.5.0",
            "orientation": "horizontal",
            "min": 0,
            "description_tooltip": null,
            "_model_module": "@jupyter-widgets/controls",
            "layout": "IPY_MODEL_7c3c49364f8c4784bc7bfbd30abdb856"
          }
        },
        "5f0628a13be54ce4a2971254733591a4": {
          "model_module": "@jupyter-widgets/controls",
          "model_name": "HTMLModel",
          "state": {
            "_view_name": "HTMLView",
            "style": "IPY_MODEL_3b284deaadc44fe18e10bf37e24d66df",
            "_dom_classes": [],
            "description": "",
            "_model_name": "HTMLModel",
            "placeholder": "​",
            "_view_module": "@jupyter-widgets/controls",
            "_model_module_version": "1.5.0",
            "value": " 9920512/? [00:20&lt;00:00, 1457601.58it/s]",
            "_view_count": null,
            "_view_module_version": "1.5.0",
            "description_tooltip": null,
            "_model_module": "@jupyter-widgets/controls",
            "layout": "IPY_MODEL_36beb3fbef7a4405abf826f5da52b60a"
          }
        },
        "0fee70e4b26343c5a02a1dcf761f7628": {
          "model_module": "@jupyter-widgets/controls",
          "model_name": "ProgressStyleModel",
          "state": {
            "_view_name": "StyleView",
            "_model_name": "ProgressStyleModel",
            "description_width": "initial",
            "_view_module": "@jupyter-widgets/base",
            "_model_module_version": "1.5.0",
            "_view_count": null,
            "_view_module_version": "1.2.0",
            "bar_color": null,
            "_model_module": "@jupyter-widgets/controls"
          }
        },
        "7c3c49364f8c4784bc7bfbd30abdb856": {
          "model_module": "@jupyter-widgets/base",
          "model_name": "LayoutModel",
          "state": {
            "_view_name": "LayoutView",
            "grid_template_rows": null,
            "right": null,
            "justify_content": null,
            "_view_module": "@jupyter-widgets/base",
            "overflow": null,
            "_model_module_version": "1.2.0",
            "_view_count": null,
            "flex_flow": null,
            "width": null,
            "min_width": null,
            "border": null,
            "align_items": null,
            "bottom": null,
            "_model_module": "@jupyter-widgets/base",
            "top": null,
            "grid_column": null,
            "overflow_y": null,
            "overflow_x": null,
            "grid_auto_flow": null,
            "grid_area": null,
            "grid_template_columns": null,
            "flex": null,
            "_model_name": "LayoutModel",
            "justify_items": null,
            "grid_row": null,
            "max_height": null,
            "align_content": null,
            "visibility": null,
            "align_self": null,
            "height": null,
            "min_height": null,
            "padding": null,
            "grid_auto_rows": null,
            "grid_gap": null,
            "max_width": null,
            "order": null,
            "_view_module_version": "1.2.0",
            "grid_template_areas": null,
            "object_position": null,
            "object_fit": null,
            "grid_auto_columns": null,
            "margin": null,
            "display": null,
            "left": null
          }
        },
        "3b284deaadc44fe18e10bf37e24d66df": {
          "model_module": "@jupyter-widgets/controls",
          "model_name": "DescriptionStyleModel",
          "state": {
            "_view_name": "StyleView",
            "_model_name": "DescriptionStyleModel",
            "description_width": "",
            "_view_module": "@jupyter-widgets/base",
            "_model_module_version": "1.5.0",
            "_view_count": null,
            "_view_module_version": "1.2.0",
            "_model_module": "@jupyter-widgets/controls"
          }
        },
        "36beb3fbef7a4405abf826f5da52b60a": {
          "model_module": "@jupyter-widgets/base",
          "model_name": "LayoutModel",
          "state": {
            "_view_name": "LayoutView",
            "grid_template_rows": null,
            "right": null,
            "justify_content": null,
            "_view_module": "@jupyter-widgets/base",
            "overflow": null,
            "_model_module_version": "1.2.0",
            "_view_count": null,
            "flex_flow": null,
            "width": null,
            "min_width": null,
            "border": null,
            "align_items": null,
            "bottom": null,
            "_model_module": "@jupyter-widgets/base",
            "top": null,
            "grid_column": null,
            "overflow_y": null,
            "overflow_x": null,
            "grid_auto_flow": null,
            "grid_area": null,
            "grid_template_columns": null,
            "flex": null,
            "_model_name": "LayoutModel",
            "justify_items": null,
            "grid_row": null,
            "max_height": null,
            "align_content": null,
            "visibility": null,
            "align_self": null,
            "height": null,
            "min_height": null,
            "padding": null,
            "grid_auto_rows": null,
            "grid_gap": null,
            "max_width": null,
            "order": null,
            "_view_module_version": "1.2.0",
            "grid_template_areas": null,
            "object_position": null,
            "object_fit": null,
            "grid_auto_columns": null,
            "margin": null,
            "display": null,
            "left": null
          }
        },
        "c3b98ffafcc34263a0f36e094c9d2b7d": {
          "model_module": "@jupyter-widgets/controls",
          "model_name": "HBoxModel",
          "state": {
            "_view_name": "HBoxView",
            "_dom_classes": [],
            "_model_name": "HBoxModel",
            "_view_module": "@jupyter-widgets/controls",
            "_model_module_version": "1.5.0",
            "_view_count": null,
            "_view_module_version": "1.5.0",
            "box_style": "",
            "layout": "IPY_MODEL_12544fb05536453a97167f908d4ad84c",
            "_model_module": "@jupyter-widgets/controls",
            "children": [
              "IPY_MODEL_912450fd5439484bb086a514fb7f0079",
              "IPY_MODEL_42a45aa3e8e84c369deb370f5cc11b66"
            ]
          }
        },
        "12544fb05536453a97167f908d4ad84c": {
          "model_module": "@jupyter-widgets/base",
          "model_name": "LayoutModel",
          "state": {
            "_view_name": "LayoutView",
            "grid_template_rows": null,
            "right": null,
            "justify_content": null,
            "_view_module": "@jupyter-widgets/base",
            "overflow": null,
            "_model_module_version": "1.2.0",
            "_view_count": null,
            "flex_flow": null,
            "width": null,
            "min_width": null,
            "border": null,
            "align_items": null,
            "bottom": null,
            "_model_module": "@jupyter-widgets/base",
            "top": null,
            "grid_column": null,
            "overflow_y": null,
            "overflow_x": null,
            "grid_auto_flow": null,
            "grid_area": null,
            "grid_template_columns": null,
            "flex": null,
            "_model_name": "LayoutModel",
            "justify_items": null,
            "grid_row": null,
            "max_height": null,
            "align_content": null,
            "visibility": null,
            "align_self": null,
            "height": null,
            "min_height": null,
            "padding": null,
            "grid_auto_rows": null,
            "grid_gap": null,
            "max_width": null,
            "order": null,
            "_view_module_version": "1.2.0",
            "grid_template_areas": null,
            "object_position": null,
            "object_fit": null,
            "grid_auto_columns": null,
            "margin": null,
            "display": null,
            "left": null
          }
        },
        "912450fd5439484bb086a514fb7f0079": {
          "model_module": "@jupyter-widgets/controls",
          "model_name": "FloatProgressModel",
          "state": {
            "_view_name": "ProgressView",
            "style": "IPY_MODEL_68eab854fdd74a32bf105422c32ce075",
            "_dom_classes": [],
            "description": "",
            "_model_name": "FloatProgressModel",
            "bar_style": "success",
            "max": 1,
            "_view_module": "@jupyter-widgets/controls",
            "_model_module_version": "1.5.0",
            "value": 1,
            "_view_count": null,
            "_view_module_version": "1.5.0",
            "orientation": "horizontal",
            "min": 0,
            "description_tooltip": null,
            "_model_module": "@jupyter-widgets/controls",
            "layout": "IPY_MODEL_3a30b35a76d5409c85282f24aa796cb4"
          }
        },
        "42a45aa3e8e84c369deb370f5cc11b66": {
          "model_module": "@jupyter-widgets/controls",
          "model_name": "HTMLModel",
          "state": {
            "_view_name": "HTMLView",
            "style": "IPY_MODEL_a3dffcaf141545b590a04b81b1d54a23",
            "_dom_classes": [],
            "description": "",
            "_model_name": "HTMLModel",
            "placeholder": "​",
            "_view_module": "@jupyter-widgets/controls",
            "_model_module_version": "1.5.0",
            "value": " 32768/? [00:00&lt;00:00, 112625.52it/s]",
            "_view_count": null,
            "_view_module_version": "1.5.0",
            "description_tooltip": null,
            "_model_module": "@jupyter-widgets/controls",
            "layout": "IPY_MODEL_9fa563991a8f4806a96e95d123a2d764"
          }
        },
        "68eab854fdd74a32bf105422c32ce075": {
          "model_module": "@jupyter-widgets/controls",
          "model_name": "ProgressStyleModel",
          "state": {
            "_view_name": "StyleView",
            "_model_name": "ProgressStyleModel",
            "description_width": "initial",
            "_view_module": "@jupyter-widgets/base",
            "_model_module_version": "1.5.0",
            "_view_count": null,
            "_view_module_version": "1.2.0",
            "bar_color": null,
            "_model_module": "@jupyter-widgets/controls"
          }
        },
        "3a30b35a76d5409c85282f24aa796cb4": {
          "model_module": "@jupyter-widgets/base",
          "model_name": "LayoutModel",
          "state": {
            "_view_name": "LayoutView",
            "grid_template_rows": null,
            "right": null,
            "justify_content": null,
            "_view_module": "@jupyter-widgets/base",
            "overflow": null,
            "_model_module_version": "1.2.0",
            "_view_count": null,
            "flex_flow": null,
            "width": null,
            "min_width": null,
            "border": null,
            "align_items": null,
            "bottom": null,
            "_model_module": "@jupyter-widgets/base",
            "top": null,
            "grid_column": null,
            "overflow_y": null,
            "overflow_x": null,
            "grid_auto_flow": null,
            "grid_area": null,
            "grid_template_columns": null,
            "flex": null,
            "_model_name": "LayoutModel",
            "justify_items": null,
            "grid_row": null,
            "max_height": null,
            "align_content": null,
            "visibility": null,
            "align_self": null,
            "height": null,
            "min_height": null,
            "padding": null,
            "grid_auto_rows": null,
            "grid_gap": null,
            "max_width": null,
            "order": null,
            "_view_module_version": "1.2.0",
            "grid_template_areas": null,
            "object_position": null,
            "object_fit": null,
            "grid_auto_columns": null,
            "margin": null,
            "display": null,
            "left": null
          }
        },
        "a3dffcaf141545b590a04b81b1d54a23": {
          "model_module": "@jupyter-widgets/controls",
          "model_name": "DescriptionStyleModel",
          "state": {
            "_view_name": "StyleView",
            "_model_name": "DescriptionStyleModel",
            "description_width": "",
            "_view_module": "@jupyter-widgets/base",
            "_model_module_version": "1.5.0",
            "_view_count": null,
            "_view_module_version": "1.2.0",
            "_model_module": "@jupyter-widgets/controls"
          }
        },
        "9fa563991a8f4806a96e95d123a2d764": {
          "model_module": "@jupyter-widgets/base",
          "model_name": "LayoutModel",
          "state": {
            "_view_name": "LayoutView",
            "grid_template_rows": null,
            "right": null,
            "justify_content": null,
            "_view_module": "@jupyter-widgets/base",
            "overflow": null,
            "_model_module_version": "1.2.0",
            "_view_count": null,
            "flex_flow": null,
            "width": null,
            "min_width": null,
            "border": null,
            "align_items": null,
            "bottom": null,
            "_model_module": "@jupyter-widgets/base",
            "top": null,
            "grid_column": null,
            "overflow_y": null,
            "overflow_x": null,
            "grid_auto_flow": null,
            "grid_area": null,
            "grid_template_columns": null,
            "flex": null,
            "_model_name": "LayoutModel",
            "justify_items": null,
            "grid_row": null,
            "max_height": null,
            "align_content": null,
            "visibility": null,
            "align_self": null,
            "height": null,
            "min_height": null,
            "padding": null,
            "grid_auto_rows": null,
            "grid_gap": null,
            "max_width": null,
            "order": null,
            "_view_module_version": "1.2.0",
            "grid_template_areas": null,
            "object_position": null,
            "object_fit": null,
            "grid_auto_columns": null,
            "margin": null,
            "display": null,
            "left": null
          }
        },
        "90761fcaa1de4e99b51a3bf88201ef22": {
          "model_module": "@jupyter-widgets/controls",
          "model_name": "HBoxModel",
          "state": {
            "_view_name": "HBoxView",
            "_dom_classes": [],
            "_model_name": "HBoxModel",
            "_view_module": "@jupyter-widgets/controls",
            "_model_module_version": "1.5.0",
            "_view_count": null,
            "_view_module_version": "1.5.0",
            "box_style": "",
            "layout": "IPY_MODEL_91785f81bf1047c1a0355bf4e7c606c6",
            "_model_module": "@jupyter-widgets/controls",
            "children": [
              "IPY_MODEL_2c9c3091c00d4b9ca3db8c0a9351a41d",
              "IPY_MODEL_1578a8d593a54a7da7bc668df730e207"
            ]
          }
        },
        "91785f81bf1047c1a0355bf4e7c606c6": {
          "model_module": "@jupyter-widgets/base",
          "model_name": "LayoutModel",
          "state": {
            "_view_name": "LayoutView",
            "grid_template_rows": null,
            "right": null,
            "justify_content": null,
            "_view_module": "@jupyter-widgets/base",
            "overflow": null,
            "_model_module_version": "1.2.0",
            "_view_count": null,
            "flex_flow": null,
            "width": null,
            "min_width": null,
            "border": null,
            "align_items": null,
            "bottom": null,
            "_model_module": "@jupyter-widgets/base",
            "top": null,
            "grid_column": null,
            "overflow_y": null,
            "overflow_x": null,
            "grid_auto_flow": null,
            "grid_area": null,
            "grid_template_columns": null,
            "flex": null,
            "_model_name": "LayoutModel",
            "justify_items": null,
            "grid_row": null,
            "max_height": null,
            "align_content": null,
            "visibility": null,
            "align_self": null,
            "height": null,
            "min_height": null,
            "padding": null,
            "grid_auto_rows": null,
            "grid_gap": null,
            "max_width": null,
            "order": null,
            "_view_module_version": "1.2.0",
            "grid_template_areas": null,
            "object_position": null,
            "object_fit": null,
            "grid_auto_columns": null,
            "margin": null,
            "display": null,
            "left": null
          }
        },
        "2c9c3091c00d4b9ca3db8c0a9351a41d": {
          "model_module": "@jupyter-widgets/controls",
          "model_name": "FloatProgressModel",
          "state": {
            "_view_name": "ProgressView",
            "style": "IPY_MODEL_44a00398006f4e0eab156affdddee020",
            "_dom_classes": [],
            "description": "",
            "_model_name": "FloatProgressModel",
            "bar_style": "info",
            "max": 1,
            "_view_module": "@jupyter-widgets/controls",
            "_model_module_version": "1.5.0",
            "value": 1,
            "_view_count": null,
            "_view_module_version": "1.5.0",
            "orientation": "horizontal",
            "min": 0,
            "description_tooltip": null,
            "_model_module": "@jupyter-widgets/controls",
            "layout": "IPY_MODEL_6ed750c6509545f098a3cfaaeeb2a744"
          }
        },
        "1578a8d593a54a7da7bc668df730e207": {
          "model_module": "@jupyter-widgets/controls",
          "model_name": "HTMLModel",
          "state": {
            "_view_name": "HTMLView",
            "style": "IPY_MODEL_8a39cc5950a442649bfab825d370a83f",
            "_dom_classes": [],
            "description": "",
            "_model_name": "HTMLModel",
            "placeholder": "​",
            "_view_module": "@jupyter-widgets/controls",
            "_model_module_version": "1.5.0",
            "value": " 1654784/? [00:18&lt;00:00, 521513.57it/s]",
            "_view_count": null,
            "_view_module_version": "1.5.0",
            "description_tooltip": null,
            "_model_module": "@jupyter-widgets/controls",
            "layout": "IPY_MODEL_7ec22e8a1dc6486993eae687c6d06f7a"
          }
        },
        "44a00398006f4e0eab156affdddee020": {
          "model_module": "@jupyter-widgets/controls",
          "model_name": "ProgressStyleModel",
          "state": {
            "_view_name": "StyleView",
            "_model_name": "ProgressStyleModel",
            "description_width": "initial",
            "_view_module": "@jupyter-widgets/base",
            "_model_module_version": "1.5.0",
            "_view_count": null,
            "_view_module_version": "1.2.0",
            "bar_color": null,
            "_model_module": "@jupyter-widgets/controls"
          }
        },
        "6ed750c6509545f098a3cfaaeeb2a744": {
          "model_module": "@jupyter-widgets/base",
          "model_name": "LayoutModel",
          "state": {
            "_view_name": "LayoutView",
            "grid_template_rows": null,
            "right": null,
            "justify_content": null,
            "_view_module": "@jupyter-widgets/base",
            "overflow": null,
            "_model_module_version": "1.2.0",
            "_view_count": null,
            "flex_flow": null,
            "width": null,
            "min_width": null,
            "border": null,
            "align_items": null,
            "bottom": null,
            "_model_module": "@jupyter-widgets/base",
            "top": null,
            "grid_column": null,
            "overflow_y": null,
            "overflow_x": null,
            "grid_auto_flow": null,
            "grid_area": null,
            "grid_template_columns": null,
            "flex": null,
            "_model_name": "LayoutModel",
            "justify_items": null,
            "grid_row": null,
            "max_height": null,
            "align_content": null,
            "visibility": null,
            "align_self": null,
            "height": null,
            "min_height": null,
            "padding": null,
            "grid_auto_rows": null,
            "grid_gap": null,
            "max_width": null,
            "order": null,
            "_view_module_version": "1.2.0",
            "grid_template_areas": null,
            "object_position": null,
            "object_fit": null,
            "grid_auto_columns": null,
            "margin": null,
            "display": null,
            "left": null
          }
        },
        "8a39cc5950a442649bfab825d370a83f": {
          "model_module": "@jupyter-widgets/controls",
          "model_name": "DescriptionStyleModel",
          "state": {
            "_view_name": "StyleView",
            "_model_name": "DescriptionStyleModel",
            "description_width": "",
            "_view_module": "@jupyter-widgets/base",
            "_model_module_version": "1.5.0",
            "_view_count": null,
            "_view_module_version": "1.2.0",
            "_model_module": "@jupyter-widgets/controls"
          }
        },
        "7ec22e8a1dc6486993eae687c6d06f7a": {
          "model_module": "@jupyter-widgets/base",
          "model_name": "LayoutModel",
          "state": {
            "_view_name": "LayoutView",
            "grid_template_rows": null,
            "right": null,
            "justify_content": null,
            "_view_module": "@jupyter-widgets/base",
            "overflow": null,
            "_model_module_version": "1.2.0",
            "_view_count": null,
            "flex_flow": null,
            "width": null,
            "min_width": null,
            "border": null,
            "align_items": null,
            "bottom": null,
            "_model_module": "@jupyter-widgets/base",
            "top": null,
            "grid_column": null,
            "overflow_y": null,
            "overflow_x": null,
            "grid_auto_flow": null,
            "grid_area": null,
            "grid_template_columns": null,
            "flex": null,
            "_model_name": "LayoutModel",
            "justify_items": null,
            "grid_row": null,
            "max_height": null,
            "align_content": null,
            "visibility": null,
            "align_self": null,
            "height": null,
            "min_height": null,
            "padding": null,
            "grid_auto_rows": null,
            "grid_gap": null,
            "max_width": null,
            "order": null,
            "_view_module_version": "1.2.0",
            "grid_template_areas": null,
            "object_position": null,
            "object_fit": null,
            "grid_auto_columns": null,
            "margin": null,
            "display": null,
            "left": null
          }
        },
        "7dfa6c2e61bf4509b413bb6aa450da12": {
          "model_module": "@jupyter-widgets/controls",
          "model_name": "HBoxModel",
          "state": {
            "_view_name": "HBoxView",
            "_dom_classes": [],
            "_model_name": "HBoxModel",
            "_view_module": "@jupyter-widgets/controls",
            "_model_module_version": "1.5.0",
            "_view_count": null,
            "_view_module_version": "1.5.0",
            "box_style": "",
            "layout": "IPY_MODEL_fe4b3d6554444092ba45f156afddbf7d",
            "_model_module": "@jupyter-widgets/controls",
            "children": [
              "IPY_MODEL_6575e133a289417b8552f9edde925791",
              "IPY_MODEL_08bbd72830b5453080bb077532777620"
            ]
          }
        },
        "fe4b3d6554444092ba45f156afddbf7d": {
          "model_module": "@jupyter-widgets/base",
          "model_name": "LayoutModel",
          "state": {
            "_view_name": "LayoutView",
            "grid_template_rows": null,
            "right": null,
            "justify_content": null,
            "_view_module": "@jupyter-widgets/base",
            "overflow": null,
            "_model_module_version": "1.2.0",
            "_view_count": null,
            "flex_flow": null,
            "width": null,
            "min_width": null,
            "border": null,
            "align_items": null,
            "bottom": null,
            "_model_module": "@jupyter-widgets/base",
            "top": null,
            "grid_column": null,
            "overflow_y": null,
            "overflow_x": null,
            "grid_auto_flow": null,
            "grid_area": null,
            "grid_template_columns": null,
            "flex": null,
            "_model_name": "LayoutModel",
            "justify_items": null,
            "grid_row": null,
            "max_height": null,
            "align_content": null,
            "visibility": null,
            "align_self": null,
            "height": null,
            "min_height": null,
            "padding": null,
            "grid_auto_rows": null,
            "grid_gap": null,
            "max_width": null,
            "order": null,
            "_view_module_version": "1.2.0",
            "grid_template_areas": null,
            "object_position": null,
            "object_fit": null,
            "grid_auto_columns": null,
            "margin": null,
            "display": null,
            "left": null
          }
        },
        "6575e133a289417b8552f9edde925791": {
          "model_module": "@jupyter-widgets/controls",
          "model_name": "FloatProgressModel",
          "state": {
            "_view_name": "ProgressView",
            "style": "IPY_MODEL_f4dbcb3f129143719cfaf0704aee799c",
            "_dom_classes": [],
            "description": "  0%",
            "_model_name": "FloatProgressModel",
            "bar_style": "info",
            "max": 1,
            "_view_module": "@jupyter-widgets/controls",
            "_model_module_version": "1.5.0",
            "value": 0,
            "_view_count": null,
            "_view_module_version": "1.5.0",
            "orientation": "horizontal",
            "min": 0,
            "description_tooltip": null,
            "_model_module": "@jupyter-widgets/controls",
            "layout": "IPY_MODEL_0c4835e18c7b46ef98eea835d1eaad4c"
          }
        },
        "08bbd72830b5453080bb077532777620": {
          "model_module": "@jupyter-widgets/controls",
          "model_name": "HTMLModel",
          "state": {
            "_view_name": "HTMLView",
            "style": "IPY_MODEL_377f1f2c5d6340c4833048ada134c518",
            "_dom_classes": [],
            "description": "",
            "_model_name": "HTMLModel",
            "placeholder": "​",
            "_view_module": "@jupyter-widgets/controls",
            "_model_module_version": "1.5.0",
            "value": " 0/4542 [00:00&lt;?, ?it/s]",
            "_view_count": null,
            "_view_module_version": "1.5.0",
            "description_tooltip": null,
            "_model_module": "@jupyter-widgets/controls",
            "layout": "IPY_MODEL_3578b66850864d9eb3f928724f8da58a"
          }
        },
        "f4dbcb3f129143719cfaf0704aee799c": {
          "model_module": "@jupyter-widgets/controls",
          "model_name": "ProgressStyleModel",
          "state": {
            "_view_name": "StyleView",
            "_model_name": "ProgressStyleModel",
            "description_width": "initial",
            "_view_module": "@jupyter-widgets/base",
            "_model_module_version": "1.5.0",
            "_view_count": null,
            "_view_module_version": "1.2.0",
            "bar_color": null,
            "_model_module": "@jupyter-widgets/controls"
          }
        },
        "0c4835e18c7b46ef98eea835d1eaad4c": {
          "model_module": "@jupyter-widgets/base",
          "model_name": "LayoutModel",
          "state": {
            "_view_name": "LayoutView",
            "grid_template_rows": null,
            "right": null,
            "justify_content": null,
            "_view_module": "@jupyter-widgets/base",
            "overflow": null,
            "_model_module_version": "1.2.0",
            "_view_count": null,
            "flex_flow": null,
            "width": null,
            "min_width": null,
            "border": null,
            "align_items": null,
            "bottom": null,
            "_model_module": "@jupyter-widgets/base",
            "top": null,
            "grid_column": null,
            "overflow_y": null,
            "overflow_x": null,
            "grid_auto_flow": null,
            "grid_area": null,
            "grid_template_columns": null,
            "flex": null,
            "_model_name": "LayoutModel",
            "justify_items": null,
            "grid_row": null,
            "max_height": null,
            "align_content": null,
            "visibility": null,
            "align_self": null,
            "height": null,
            "min_height": null,
            "padding": null,
            "grid_auto_rows": null,
            "grid_gap": null,
            "max_width": null,
            "order": null,
            "_view_module_version": "1.2.0",
            "grid_template_areas": null,
            "object_position": null,
            "object_fit": null,
            "grid_auto_columns": null,
            "margin": null,
            "display": null,
            "left": null
          }
        },
        "377f1f2c5d6340c4833048ada134c518": {
          "model_module": "@jupyter-widgets/controls",
          "model_name": "DescriptionStyleModel",
          "state": {
            "_view_name": "StyleView",
            "_model_name": "DescriptionStyleModel",
            "description_width": "",
            "_view_module": "@jupyter-widgets/base",
            "_model_module_version": "1.5.0",
            "_view_count": null,
            "_view_module_version": "1.2.0",
            "_model_module": "@jupyter-widgets/controls"
          }
        },
        "3578b66850864d9eb3f928724f8da58a": {
          "model_module": "@jupyter-widgets/base",
          "model_name": "LayoutModel",
          "state": {
            "_view_name": "LayoutView",
            "grid_template_rows": null,
            "right": null,
            "justify_content": null,
            "_view_module": "@jupyter-widgets/base",
            "overflow": null,
            "_model_module_version": "1.2.0",
            "_view_count": null,
            "flex_flow": null,
            "width": null,
            "min_width": null,
            "border": null,
            "align_items": null,
            "bottom": null,
            "_model_module": "@jupyter-widgets/base",
            "top": null,
            "grid_column": null,
            "overflow_y": null,
            "overflow_x": null,
            "grid_auto_flow": null,
            "grid_area": null,
            "grid_template_columns": null,
            "flex": null,
            "_model_name": "LayoutModel",
            "justify_items": null,
            "grid_row": null,
            "max_height": null,
            "align_content": null,
            "visibility": null,
            "align_self": null,
            "height": null,
            "min_height": null,
            "padding": null,
            "grid_auto_rows": null,
            "grid_gap": null,
            "max_width": null,
            "order": null,
            "_view_module_version": "1.2.0",
            "grid_template_areas": null,
            "object_position": null,
            "object_fit": null,
            "grid_auto_columns": null,
            "margin": null,
            "display": null,
            "left": null
          }
        }
      }
    }
  },
  "cells": [
    {
      "cell_type": "markdown",
      "metadata": {
        "id": "view-in-github",
        "colab_type": "text"
      },
      "source": [
        "<a href=\"https://colab.research.google.com/github/Seouyang/Today-I-Learned/blob/master/autoencoder.ipynb\" target=\"_parent\"><img src=\"https://colab.research.google.com/assets/colab-badge.svg\" alt=\"Open In Colab\"/></a>"
      ]
    },
    {
      "cell_type": "markdown",
      "metadata": {
        "id": "XijzLnJApMGu"
      },
      "source": [
        "# Autoencoder"
      ]
    },
    {
      "cell_type": "code",
      "metadata": {
        "id": "oaKIRENdpKKH"
      },
      "source": [
        "#import required libraries\r\n",
        "import numpy as np\r\n",
        "import torch\r\n",
        "import torch.nn as nn\r\n",
        "import torch.optim as optim\r\n",
        "import torch.nn.init as init\r\n",
        "import torchvision.datasets as dset\r\n",
        "import torchvision.transforms as transforms\r\n",
        "from torch.utils.data import DataLoader\r\n",
        "import matplotlib.pyplot as plt\r\n",
        "import matplotlib as mpl"
      ],
      "execution_count": 1,
      "outputs": []
    },
    {
      "cell_type": "code",
      "metadata": {
        "id": "VH8zzyJapnRb"
      },
      "source": [
        "#set hyperparameters\r\n",
        "batch_size = 256\r\n",
        "learning_rate = 0.0002\r\n",
        "num_epochs = 10"
      ],
      "execution_count": 2,
      "outputs": []
    },
    {
      "cell_type": "markdown",
      "metadata": {
        "id": "h7q1e78bqzuG"
      },
      "source": [
        "**MNIST dataset:** a dataset of 60,000 small square 28×28 pixel grayscale images of handwritten single digits between 0 and 9."
      ]
    },
    {
      "cell_type": "code",
      "metadata": {
        "colab": {
          "base_uri": "https://localhost:8080/",
          "height": 401,
          "referenced_widgets": [
            "f77c4f7fce0f491c92f6d29da184be2c",
            "edc6d48ef0e2419989954c3e8f46e0cf",
            "d51f8237eb2e4335b783c1e534c2e342",
            "5f0628a13be54ce4a2971254733591a4",
            "0fee70e4b26343c5a02a1dcf761f7628",
            "7c3c49364f8c4784bc7bfbd30abdb856",
            "3b284deaadc44fe18e10bf37e24d66df",
            "36beb3fbef7a4405abf826f5da52b60a",
            "c3b98ffafcc34263a0f36e094c9d2b7d",
            "12544fb05536453a97167f908d4ad84c",
            "912450fd5439484bb086a514fb7f0079",
            "42a45aa3e8e84c369deb370f5cc11b66",
            "68eab854fdd74a32bf105422c32ce075",
            "3a30b35a76d5409c85282f24aa796cb4",
            "a3dffcaf141545b590a04b81b1d54a23",
            "9fa563991a8f4806a96e95d123a2d764",
            "90761fcaa1de4e99b51a3bf88201ef22",
            "91785f81bf1047c1a0355bf4e7c606c6",
            "2c9c3091c00d4b9ca3db8c0a9351a41d",
            "1578a8d593a54a7da7bc668df730e207",
            "44a00398006f4e0eab156affdddee020",
            "6ed750c6509545f098a3cfaaeeb2a744",
            "8a39cc5950a442649bfab825d370a83f",
            "7ec22e8a1dc6486993eae687c6d06f7a",
            "7dfa6c2e61bf4509b413bb6aa450da12",
            "fe4b3d6554444092ba45f156afddbf7d",
            "6575e133a289417b8552f9edde925791",
            "08bbd72830b5453080bb077532777620",
            "f4dbcb3f129143719cfaf0704aee799c",
            "0c4835e18c7b46ef98eea835d1eaad4c",
            "377f1f2c5d6340c4833048ada134c518",
            "3578b66850864d9eb3f928724f8da58a"
          ]
        },
        "id": "wJLVS6owp0hu",
        "outputId": "69832525-e999-46e5-f701-6c00b92472ac"
      },
      "source": [
        "#download data\r\n",
        "mnist_train = dset.MNIST(\"./\", train=True, transform=transforms.ToTensor(), target_transform=None, download=True)\r\n",
        "mnist_test = dset.MNIST(\"./\", train=False, transform=transforms.ToTensor(), target_transform=None, download=True)\r\n",
        "mnist_train, mnist_val = torch.utils.data.random_split(mnist_train, [50000, 10000])"
      ],
      "execution_count": 3,
      "outputs": [
        {
          "output_type": "stream",
          "text": [
            "Downloading http://yann.lecun.com/exdb/mnist/train-images-idx3-ubyte.gz to ./MNIST/raw/train-images-idx3-ubyte.gz\n"
          ],
          "name": "stdout"
        },
        {
          "output_type": "display_data",
          "data": {
            "application/vnd.jupyter.widget-view+json": {
              "model_id": "f77c4f7fce0f491c92f6d29da184be2c",
              "version_minor": 0,
              "version_major": 2
            },
            "text/plain": [
              "HBox(children=(FloatProgress(value=1.0, bar_style='info', max=1.0), HTML(value='')))"
            ]
          },
          "metadata": {
            "tags": []
          }
        },
        {
          "output_type": "stream",
          "text": [
            "Extracting ./MNIST/raw/train-images-idx3-ubyte.gz to ./MNIST/raw\n",
            "Downloading http://yann.lecun.com/exdb/mnist/train-labels-idx1-ubyte.gz to ./MNIST/raw/train-labels-idx1-ubyte.gz\n"
          ],
          "name": "stdout"
        },
        {
          "output_type": "display_data",
          "data": {
            "application/vnd.jupyter.widget-view+json": {
              "model_id": "c3b98ffafcc34263a0f36e094c9d2b7d",
              "version_minor": 0,
              "version_major": 2
            },
            "text/plain": [
              "HBox(children=(FloatProgress(value=1.0, bar_style='info', max=1.0), HTML(value='')))"
            ]
          },
          "metadata": {
            "tags": []
          }
        },
        {
          "output_type": "stream",
          "text": [
            "Extracting ./MNIST/raw/train-labels-idx1-ubyte.gz to ./MNIST/raw\n",
            "Downloading http://yann.lecun.com/exdb/mnist/t10k-images-idx3-ubyte.gz to ./MNIST/raw/t10k-images-idx3-ubyte.gz\n",
            "\n"
          ],
          "name": "stdout"
        },
        {
          "output_type": "display_data",
          "data": {
            "application/vnd.jupyter.widget-view+json": {
              "model_id": "90761fcaa1de4e99b51a3bf88201ef22",
              "version_minor": 0,
              "version_major": 2
            },
            "text/plain": [
              "HBox(children=(FloatProgress(value=1.0, bar_style='info', max=1.0), HTML(value='')))"
            ]
          },
          "metadata": {
            "tags": []
          }
        },
        {
          "output_type": "stream",
          "text": [
            "Extracting ./MNIST/raw/t10k-images-idx3-ubyte.gz to ./MNIST/raw\n",
            "Downloading http://yann.lecun.com/exdb/mnist/t10k-labels-idx1-ubyte.gz to ./MNIST/raw/t10k-labels-idx1-ubyte.gz\n"
          ],
          "name": "stdout"
        },
        {
          "output_type": "display_data",
          "data": {
            "application/vnd.jupyter.widget-view+json": {
              "model_id": "7dfa6c2e61bf4509b413bb6aa450da12",
              "version_minor": 0,
              "version_major": 2
            },
            "text/plain": [
              "HBox(children=(FloatProgress(value=1.0, bar_style='info', max=1.0), HTML(value='')))"
            ]
          },
          "metadata": {
            "tags": []
          }
        },
        {
          "output_type": "stream",
          "text": [
            "Extracting ./MNIST/raw/t10k-labels-idx1-ubyte.gz to ./MNIST/raw\n",
            "Processing...\n",
            "Done!\n"
          ],
          "name": "stdout"
        },
        {
          "output_type": "stream",
          "text": [
            "/usr/local/lib/python3.6/dist-packages/torchvision/datasets/mnist.py:480: UserWarning: The given NumPy array is not writeable, and PyTorch does not support non-writeable tensors. This means you can write to the underlying (supposedly non-writeable) NumPy array using the tensor. You may want to copy the array to protect its data or make it writeable before converting it to a tensor. This type of warning will be suppressed for the rest of this program. (Triggered internally at  /pytorch/torch/csrc/utils/tensor_numpy.cpp:141.)\n",
            "  return torch.from_numpy(parsed.astype(m[2], copy=False)).view(*s)\n"
          ],
          "name": "stderr"
        }
      ]
    },
    {
      "cell_type": "code",
      "metadata": {
        "colab": {
          "base_uri": "https://localhost:8080/"
        },
        "id": "r_xhZGqQqSdc",
        "outputId": "aa30034f-74d6-4f29-8216-70430afaf3d6"
      },
      "source": [
        "mnist_train[49999][0].size()"
      ],
      "execution_count": 4,
      "outputs": [
        {
          "output_type": "execute_result",
          "data": {
            "text/plain": [
              "torch.Size([1, 28, 28])"
            ]
          },
          "metadata": {
            "tags": []
          },
          "execution_count": 4
        }
      ]
    },
    {
      "cell_type": "code",
      "metadata": {
        "colab": {
          "base_uri": "https://localhost:8080/"
        },
        "id": "ZDSHHEJcqW0V",
        "outputId": "aae7a9be-764a-422f-9108-6ec578dffc75"
      },
      "source": [
        "mnist_train[49999][1]     #label"
      ],
      "execution_count": 5,
      "outputs": [
        {
          "output_type": "execute_result",
          "data": {
            "text/plain": [
              "9"
            ]
          },
          "metadata": {
            "tags": []
          },
          "execution_count": 5
        }
      ]
    },
    {
      "cell_type": "code",
      "metadata": {
        "colab": {
          "base_uri": "https://localhost:8080/"
        },
        "id": "Ku-zbaHNrHwq",
        "outputId": "39461b01-fe9e-45e1-e3b6-af9e2c52218b"
      },
      "source": [
        "#set dataloader\r\n",
        "dataloaders = {}\r\n",
        "dataloaders['train'] = DataLoader(mnist_train, batch_size=batch_size, shuffle=True)\r\n",
        "dataloaders['val'] = DataLoader(mnist_val, batch_size=batch_size, shuffle=False)\r\n",
        "dataloaders['test'] = DataLoader(mnist_test, batch_size=batch_size, shuffle=False)\r\n",
        "\r\n",
        "print(len(dataloaders['train'])) #50000/256\r\n",
        "print(len(dataloaders['val']))\r\n",
        "print(len(dataloaders['test']))"
      ],
      "execution_count": 6,
      "outputs": [
        {
          "output_type": "stream",
          "text": [
            "196\n",
            "40\n",
            "40\n"
          ],
          "name": "stdout"
        }
      ]
    },
    {
      "cell_type": "code",
      "metadata": {
        "id": "O5lqiWdrripn"
      },
      "source": [
        "#model\r\n",
        "\r\n",
        "class Autoencoder(nn.Module):\r\n",
        "  def __init__(self):\r\n",
        "    super(Autoencoder, self).__init__()\r\n",
        "    self.encoder = nn.Sequential(\r\n",
        "        nn.Linear(28*28, 100),\r\n",
        "        nn.ReLU(),\r\n",
        "        nn.Linear(100, 30),\r\n",
        "        nn.ReLU()\r\n",
        "    )\r\n",
        "    self.decoder = nn.Sequential(\r\n",
        "        nn.Linear(30, 100),\r\n",
        "        nn.ReLU(),\r\n",
        "        nn.Linear(100, 28*28),\r\n",
        "        nn.Sigmoid()\r\n",
        "    )\r\n",
        "\r\n",
        "  def forward(self, x):\r\n",
        "    batch_size = x.size(0)\r\n",
        "    x = x.view(-1, 28*28)\r\n",
        "    encoded = self.encoder(x)\r\n",
        "    out = self.decoder(encoded).view(batch_size, 1, 28, 28)\r\n",
        "    return out, encoded"
      ],
      "execution_count": 7,
      "outputs": []
    },
    {
      "cell_type": "code",
      "metadata": {
        "colab": {
          "base_uri": "https://localhost:8080/"
        },
        "id": "4Td3Uitdt5cb",
        "outputId": "35c14b76-d1db-408f-8ea0-7418846c33bb"
      },
      "source": [
        "#loss function & optimizer\r\n",
        "device = torch.device(\"cuda:0\" if torch.cuda.is_available() else \"cpu\")\r\n",
        "print(device)\r\n",
        "\r\n",
        "model = Autoencoder().to(device)\r\n",
        "loss_func = nn.MSELoss()\r\n",
        "optimizer = torch.optim.Adam(model.parameters(), lr=learning_rate)"
      ],
      "execution_count": 8,
      "outputs": [
        {
          "output_type": "stream",
          "text": [
            "cuda:0\n"
          ],
          "name": "stdout"
        }
      ]
    },
    {
      "cell_type": "code",
      "metadata": {
        "id": "Bg9jFXwcuMpm"
      },
      "source": [
        "#train\r\n",
        "import time\r\n",
        "import copy\r\n",
        "\r\n",
        "def train_model(model, dataloaders, criterion, optimizer, num_epochs=10):\r\n",
        "  since = time.time()\r\n",
        "  train_loss_history = []\r\n",
        "  val_loss_history = []\r\n",
        "  \r\n",
        "  best_model_wts = copy.deepcopy(model.state_dict())\r\n",
        "  best_val_loss = 100000000\r\n",
        "\r\n",
        "  for epoch in range(num_epochs): #1 epoch uses whole dataset\r\n",
        "    print('Epoch {}/{}'.format(epoch, num_epochs - 1))\r\n",
        "    print('-' * 10)\r\n",
        "\r\n",
        "    #each epoch has a training and validation phase\r\n",
        "    for phase in ['train', 'val']:\r\n",
        "      if phase == 'train':\r\n",
        "        model.train()\r\n",
        "      else:\r\n",
        "        model.eval()\r\n",
        "\r\n",
        "      running_loss = 0.0\r\n",
        "      \r\n",
        "      for inputs, labels in dataloaders[phase]:\r\n",
        "        inputs = inputs.to(device)\r\n",
        "        optimizer.zero_grad()\r\n",
        "        with torch.set_grad_enabled(phase == 'train'):\r\n",
        "          outputs, encoded = model(inputs)\r\n",
        "          loss = criterion(outputs, inputs)\r\n",
        "\r\n",
        "          if phase == 'train':\r\n",
        "            loss.backward()\r\n",
        "            optimizer.step()\r\n",
        "\r\n",
        "        running_loss += loss.item() * inputs.size(0)\r\n",
        "\r\n",
        "      epoch_loss = running_loss / len(dataloaders[phase].dataset)\r\n",
        "      print('{} Loss: {:.4f}'.format(phase, epoch_loss))\r\n",
        "\r\n",
        "      if phase == 'train':\r\n",
        "        train_loss_history.append(epoch_loss)\r\n",
        "      if phase == 'val':\r\n",
        "        val_loss_history.append(epoch_loss)\r\n",
        "      if phase == 'val' and epoch_loss < best_val_loss:\r\n",
        "        best_val_loss = epoch_loss\r\n",
        "        best_model_wts = copy.deepcopy(model.state_dict())\r\n",
        "\r\n",
        "    print()\r\n",
        "  \r\n",
        "  time_elapsed = time.time() - since\r\n",
        "  print('Training complete in {:.0f}m {:.0f}s'.format(time_elapsed // 60, time_elapsed % 60))\r\n",
        "  print('Best val Loss: {:4f}'.format(best_val_loss))\r\n",
        "\r\n",
        "  model.load_state_dict(best_model_wts)\r\n",
        "  return model, train_loss_history, val_loss_history"
      ],
      "execution_count": 12,
      "outputs": []
    },
    {
      "cell_type": "code",
      "metadata": {
        "colab": {
          "base_uri": "https://localhost:8080/"
        },
        "id": "0myWhWPbRat5",
        "outputId": "d8c9bada-4b36-4bae-8561-42ad70a3d781"
      },
      "source": [
        "best_model, train_loss_history, val_loss_history = train_model(model, dataloaders, loss_func, optimizer, num_epochs=num_epochs)"
      ],
      "execution_count": 13,
      "outputs": [
        {
          "output_type": "stream",
          "text": [
            "Epoch 0/9\n",
            "----------\n",
            "train Loss: 0.1159\n",
            "val Loss: 0.0699\n",
            "\n",
            "Epoch 1/9\n",
            "----------\n",
            "train Loss: 0.0661\n",
            "val Loss: 0.0603\n",
            "\n",
            "Epoch 2/9\n",
            "----------\n",
            "train Loss: 0.0555\n",
            "val Loss: 0.0503\n",
            "\n",
            "Epoch 3/9\n",
            "----------\n",
            "train Loss: 0.0460\n",
            "val Loss: 0.0423\n",
            "\n",
            "Epoch 4/9\n",
            "----------\n",
            "train Loss: 0.0397\n",
            "val Loss: 0.0376\n",
            "\n",
            "Epoch 5/9\n",
            "----------\n",
            "train Loss: 0.0360\n",
            "val Loss: 0.0348\n",
            "\n",
            "Epoch 6/9\n",
            "----------\n",
            "train Loss: 0.0335\n",
            "val Loss: 0.0325\n",
            "\n",
            "Epoch 7/9\n",
            "----------\n",
            "train Loss: 0.0311\n",
            "val Loss: 0.0301\n",
            "\n",
            "Epoch 8/9\n",
            "----------\n",
            "train Loss: 0.0290\n",
            "val Loss: 0.0282\n",
            "\n",
            "Epoch 9/9\n",
            "----------\n",
            "train Loss: 0.0273\n",
            "val Loss: 0.0268\n",
            "\n",
            "Training complete in 0m 44s\n",
            "Best val Loss: 0.026767\n"
          ],
          "name": "stdout"
        }
      ]
    },
    {
      "cell_type": "code",
      "metadata": {
        "colab": {
          "base_uri": "https://localhost:8080/",
          "height": 283
        },
        "id": "Paz-REacRp1g",
        "outputId": "eff77ef7-78b1-4399-872f-c080ff0c6c1f"
      },
      "source": [
        "#learning curve\r\n",
        "plt.plot(train_loss_history, label='train')\r\n",
        "plt.plot(val_loss_history, label='val')\r\n",
        "plt.xlabel('epoch')\r\n",
        "plt.ylabel('loss')\r\n",
        "plt.legend()\r\n",
        "plt.show()"
      ],
      "execution_count": 14,
      "outputs": [
        {
          "output_type": "display_data",
          "data": {
            "image/png": "[encoded data removed]",
            "text/plain": [
              "<Figure size 432x288 with 1 Axes>"
            ]
          },
          "metadata": {
            "tags": [],
            "needs_background": "light"
          }
        }
      ]
    },
    {
      "cell_type": "code",
      "metadata": {
        "colab": {
          "base_uri": "https://localhost:8080/"
        },
        "id": "vXy2HnicVW6Q",
        "outputId": "d5df7c6e-bda0-4d3e-fb45-d5d49e74c453"
      },
      "source": [
        "#test\r\n",
        "with torch.no_grad():\r\n",
        "  running_loss = 0.0\r\n",
        "  for inputs, labels in dataloaders['test']:\r\n",
        "    inputs = inputs.to(device)\r\n",
        "    outputs, encoded = best_model(inputs)\r\n",
        "    test_loss = loss_func(outputs, inputs)\r\n",
        "    running_loss += test_loss.item() * inputs.size(0)\r\n",
        "  test_loss = running_loss / len(dataloaders['test'].dataset)\r\n",
        "  print(test_loss)"
      ],
      "execution_count": 15,
      "outputs": [
        {
          "output_type": "stream",
          "text": [
            "0.026162280970811844\n"
          ],
          "name": "stdout"
        }
      ]
    },
    {
      "cell_type": "code",
      "metadata": {
        "colab": {
          "base_uri": "https://localhost:8080/",
          "height": 955
        },
        "id": "c3F2bSkQVztf",
        "outputId": "778c1a6a-222e-4383-d29c-5b90f0ef62ed"
      },
      "source": [
        "out_img = torch.squeeze(outputs.cpu().data)\r\n",
        "print(out_img.size())\r\n",
        "\r\n",
        "for i in range(5):\r\n",
        "  plt.subplot(1, 2, 1)\r\n",
        "  plt.imshow(torch.squeeze(inputs[i]).cpu().numpy(), cmap='gray')\r\n",
        "  plt.subplot(1, 2, 2)\r\n",
        "  plt.imshow(out_img[i].numpy(), cmap='gray')\r\n",
        "  plt.show()"
      ],
      "execution_count": 16,
      "outputs": [
        {
          "output_type": "stream",
          "text": [
            "torch.Size([16, 28, 28])\n"
          ],
          "name": "stdout"
        },
        {
          "output_type": "display_data",
          "data": {
            "image/png": "[encoded data removed]",
            "text/plain": [
              "<Figure size 432x288 with 2 Axes>"
            ]
          },
          "metadata": {
            "tags": [],
            "needs_background": "light"
          }
        },
        {
          "output_type": "display_data",
          "data": {
            "image/png": "[encoded data removed]",
            "text/plain": [
              "<Figure size 432x288 with 2 Axes>"
            ]
          },
          "metadata": {
            "tags": [],
            "needs_background": "light"
          }
        },
        {
          "output_type": "display_data",
          "data": {
            "image/png": "[encoded data removed]",
            "text/plain": [
              "<Figure size 432x288 with 2 Axes>"
            ]
          },
          "metadata": {
            "tags": [],
            "needs_background": "light"
          }
        },
        {
          "output_type": "display_data",
          "data": {
            "image/png": "[encoded data removed]",
            "text/plain": [
              "<Figure size 432x288 with 2 Axes>"
            ]
          },
          "metadata": {
            "tags": [],
            "needs_background": "light"
          }
        },
        {
          "output_type": "display_data",
          "data": {
            "image/png": "[encoded data removed]",
            "text/plain": [
              "<Figure size 432x288 with 2 Axes>"
            ]
          },
          "metadata": {
            "tags": [],
            "needs_background": "light"
          }
        }
      ]
    },
    {
      "cell_type": "code",
      "metadata": {
        "id": "yX5fhxhuW-hn"
      },
      "source": [
        "#visualization\r\n",
        "np.random.seed(42)\r\n",
        "from sklearn.manifold import TSNE\r\n",
        "\r\n",
        "test_dataset_array = mnist_test.data.numpy() / 255\r\n",
        "test_dataset_array = np.float32(test_dataset_array)\r\n",
        "labels = mnist_test.targets.numpy()"
      ],
      "execution_count": 17,
      "outputs": []
    },
    {
      "cell_type": "code",
      "metadata": {
        "id": "F01ZcqcOYXEr"
      },
      "source": [
        "test_dataset_array = torch.tensor(test_dataset_array)\r\n",
        "inputs = test_dataset_array.to(device)\r\n",
        "outputs, encoded = best_model(inputs)"
      ],
      "execution_count": 18,
      "outputs": []
    },
    {
      "cell_type": "code",
      "metadata": {
        "colab": {
          "base_uri": "https://localhost:8080/",
          "height": 248
        },
        "id": "UR2yU5GCYoIv",
        "outputId": "0aa2da51-cc59-4a08-8c4b-4f997249596c"
      },
      "source": [
        "encoded = encoded.cpu().detach().numpy()\r\n",
        "tsne = TSNE()\r\n",
        "X_test_2D = tsne.fit_transform(encoded)\r\n",
        "X_test_2D = (X_test_2D - X_test_2D.min()) / (X_test_2D.max() - X_test_2D.min())\r\n",
        "\r\n",
        "plt.scatter(X_test_2D[:, 0], X_test_2D[:, 1], c=labels, s=10, cmap=\"tab10\")\r\n",
        "plt.axis(\"off\")\r\n",
        "plt.show()"
      ],
      "execution_count": 19,
      "outputs": [
        {
          "output_type": "display_data",
          "data": {
            "image/png": "[encoded data removed]",
            "text/plain": [
              "<Figure size 432x288 with 1 Axes>"
            ]
          },
          "metadata": {
            "tags": [],
            "needs_background": "light"
          }
        }
      ]
    },
    {
      "cell_type": "markdown",
      "metadata": {
        "id": "Q-s6jJg5ZPJm"
      },
      "source": [
        "# Denoising autoencoder"
      ]
    },
    {
      "cell_type": "code",
      "metadata": {
        "id": "X9A1R_QxZH5Z"
      },
      "source": [
        "model_D = Autoencoder().to(device)\r\n",
        "loss_func = nn.MSELoss()\r\n",
        "optimizer = torch.optim.Adam(model_D.parameters(), lr=learning_rate)"
      ],
      "execution_count": 20,
      "outputs": []
    },
    {
      "cell_type": "code",
      "metadata": {
        "id": "Ih33v8ouZhPk"
      },
      "source": [
        "#adding noise to inputs\r\n",
        "def train_model_D(model, dataloaders, criterion, optimizer, num_epochs=10):\r\n",
        "  since = time.time()\r\n",
        "  train_loss_history = []\r\n",
        "  val_loss_history = []\r\n",
        "  \r\n",
        "  best_model_wts = copy.deepcopy(model.state_dict())\r\n",
        "  best_val_loss = 100000000\r\n",
        "\r\n",
        "  for epoch in range(num_epochs): #1 epoch uses whole dataset\r\n",
        "    print('Epoch {}/{}'.format(epoch, num_epochs - 1))\r\n",
        "    print('-' * 10)\r\n",
        "\r\n",
        "    #each epoch has a training and validation phase\r\n",
        "    for phase in ['train', 'val']:\r\n",
        "      if phase == 'train':\r\n",
        "        model.train()\r\n",
        "      else:\r\n",
        "        model.eval()\r\n",
        "\r\n",
        "      running_loss = 0.0\r\n",
        "      \r\n",
        "      for inputs, labels in dataloaders[phase]:\r\n",
        "        noise = torch.zeros(inputs.size(0), 1, 28, 28)\r\n",
        "        nn.init.normal_(noise, 0, 0.1)\r\n",
        "        noise = noise.to(device)\r\n",
        "        inputs = inputs.to(device)\r\n",
        "        noise_inputs = noise + inputs\r\n",
        "\r\n",
        "        optimizer.zero_grad()\r\n",
        "        with torch.set_grad_enabled(phase == 'train'):\r\n",
        "          outputs, encoded = model(noise_inputs)\r\n",
        "          loss = criterion(outputs, inputs)\r\n",
        "\r\n",
        "          if phase == 'train':\r\n",
        "            loss.backward()\r\n",
        "            optimizer.step()\r\n",
        "\r\n",
        "        running_loss += loss.item() * inputs.size(0)\r\n",
        "\r\n",
        "      epoch_loss = running_loss / len(dataloaders[phase].dataset)\r\n",
        "      print('{} Loss: {:.4f}'.format(phase, epoch_loss))\r\n",
        "\r\n",
        "      if phase == 'train':\r\n",
        "        train_loss_history.append(epoch_loss)\r\n",
        "      if phase == 'val':\r\n",
        "        val_loss_history.append(epoch_loss)\r\n",
        "      if phase == 'val' and epoch_loss < best_val_loss:\r\n",
        "        best_val_loss = epoch_loss\r\n",
        "        best_model_wts = copy.deepcopy(model.state_dict())\r\n",
        "\r\n",
        "    print()\r\n",
        "  \r\n",
        "  time_elapsed = time.time() - since\r\n",
        "  print('Training complete in {:.0f}m {:.0f}s'.format(time_elapsed // 60, time_elapsed % 60))\r\n",
        "  print('Best val Loss: {:4f}'.format(best_val_loss))\r\n",
        "\r\n",
        "  model.load_state_dict(best_model_wts)\r\n",
        "  return model, train_loss_history, val_loss_history"
      ],
      "execution_count": 21,
      "outputs": []
    },
    {
      "cell_type": "code",
      "metadata": {
        "colab": {
          "base_uri": "https://localhost:8080/"
        },
        "id": "_iVibpk_aJej",
        "outputId": "fcf69749-6964-4669-c681-f62c202f4df7"
      },
      "source": [
        "best_model_D, train_loss_history_D, val_loss_history_D = train_model_D(model_D, dataloaders, loss_func, optimizer, num_epochs=num_epochs)"
      ],
      "execution_count": 22,
      "outputs": [
        {
          "output_type": "stream",
          "text": [
            "Epoch 0/9\n",
            "----------\n",
            "train Loss: 0.1153\n",
            "val Loss: 0.0694\n",
            "\n",
            "Epoch 1/9\n",
            "----------\n",
            "train Loss: 0.0645\n",
            "val Loss: 0.0605\n",
            "\n",
            "Epoch 2/9\n",
            "----------\n",
            "train Loss: 0.0542\n",
            "val Loss: 0.0477\n",
            "\n",
            "Epoch 3/9\n",
            "----------\n",
            "train Loss: 0.0437\n",
            "val Loss: 0.0406\n",
            "\n",
            "Epoch 4/9\n",
            "----------\n",
            "train Loss: 0.0385\n",
            "val Loss: 0.0367\n",
            "\n",
            "Epoch 5/9\n",
            "----------\n",
            "train Loss: 0.0349\n",
            "val Loss: 0.0334\n",
            "\n",
            "Epoch 6/9\n",
            "----------\n",
            "train Loss: 0.0318\n",
            "val Loss: 0.0305\n",
            "\n",
            "Epoch 7/9\n",
            "----------\n",
            "train Loss: 0.0294\n",
            "val Loss: 0.0287\n",
            "\n",
            "Epoch 8/9\n",
            "----------\n",
            "train Loss: 0.0276\n",
            "val Loss: 0.0268\n",
            "\n",
            "Epoch 9/9\n",
            "----------\n",
            "train Loss: 0.0257\n",
            "val Loss: 0.0250\n",
            "\n",
            "Training complete in 0m 51s\n",
            "Best val Loss: 0.025028\n"
          ],
          "name": "stdout"
        }
      ]
    },
    {
      "cell_type": "code",
      "metadata": {
        "colab": {
          "base_uri": "https://localhost:8080/",
          "height": 279
        },
        "id": "BWD44pE-a0U-",
        "outputId": "89751575-2249-4ee5-89ae-3eff2f5c7c7c"
      },
      "source": [
        "plt.plot(train_loss_history_D, label='train')\r\n",
        "plt.plot(val_loss_history_D, label='val')\r\n",
        "plt.xlabel('epoch')\r\n",
        "plt.ylabel('loss')\r\n",
        "plt.legend()\r\n",
        "plt.show()"
      ],
      "execution_count": 23,
      "outputs": [
        {
          "output_type": "display_data",
          "data": {
            "image/png": "[encoded data removed]",
            "text/plain": [
              "<Figure size 432x288 with 1 Axes>"
            ]
          },
          "metadata": {
            "tags": [],
            "needs_background": "light"
          }
        }
      ]
    },
    {
      "cell_type": "code",
      "metadata": {
        "colab": {
          "base_uri": "https://localhost:8080/"
        },
        "id": "nI-vOcora3Yu",
        "outputId": "6192cdf0-c685-4127-b977-9fe187ea6675"
      },
      "source": [
        "#test\r\n",
        "with torch.no_grad():\r\n",
        "  running_loss = 0.0\r\n",
        "  for inputs, labels in dataloaders['test']:\r\n",
        "    noise = nn.init.normal_(torch.FloatTensor(inputs.size(0), 1, 28, 28), 0, 0.1)\r\n",
        "    noise = noise.to(device)\r\n",
        "    inputs = inputs.to(device)\r\n",
        "    noise_inputs = noise + inputs\r\n",
        "\r\n",
        "    outputs, encoded = best_model_D(noise_inputs)\r\n",
        "    test_loss = loss_func(outputs, inputs)\r\n",
        "    running_loss += test_loss.item() * inputs.size(0)\r\n",
        "  test_loss = running_loss / len(dataloaders['test'].dataset)\r\n",
        "  print(test_loss)"
      ],
      "execution_count": 24,
      "outputs": [
        {
          "output_type": "stream",
          "text": [
            "0.024403921738266946\n"
          ],
          "name": "stdout"
        }
      ]
    },
    {
      "cell_type": "code",
      "metadata": {
        "colab": {
          "base_uri": "https://localhost:8080/",
          "height": 955
        },
        "id": "JVndT_-abY1M",
        "outputId": "e6aededf-9e37-4072-fb0e-1d3998ec8416"
      },
      "source": [
        "out_img = torch.squeeze(outputs.cpu().data)\r\n",
        "print(out_img.size())\r\n",
        "\r\n",
        "for i in range(5):\r\n",
        "  plt.subplot(1, 2, 1)\r\n",
        "  plt.imshow(torch.squeeze(noise_inputs[i]).cpu().numpy(), cmap='gray')\r\n",
        "  plt.subplot(1, 2, 2)\r\n",
        "  plt.imshow(out_img[i].numpy(), cmap='gray')\r\n",
        "  plt.show()"
      ],
      "execution_count": 25,
      "outputs": [
        {
          "output_type": "stream",
          "text": [
            "torch.Size([16, 28, 28])\n"
          ],
          "name": "stdout"
        },
        {
          "output_type": "display_data",
          "data": {
            "image/png": "[encoded data removed]",
            "text/plain": [
              "<Figure size 432x288 with 2 Axes>"
            ]
          },
          "metadata": {
            "tags": [],
            "needs_background": "light"
          }
        },
        {
          "output_type": "display_data",
          "data": {
            "image/png": "[encoded data removed]",
            "text/plain": [
              "<Figure size 432x288 with 2 Axes>"
            ]
          },
          "metadata": {
            "tags": [],
            "needs_background": "light"
          }
        },
        {
          "output_type": "display_data",
          "data": {
            "image/png": "[encoded data removed]",
            "text/plain": [
              "<Figure size 432x288 with 2 Axes>"
            ]
          },
          "metadata": {
            "tags": [],
            "needs_background": "light"
          }
        },
        {
          "output_type": "display_data",
          "data": {
            "image/png": "[encoded data removed]",
            "text/plain": [
              "<Figure size 432x288 with 2 Axes>"
            ]
          },
          "metadata": {
            "tags": [],
            "needs_background": "light"
          }
        },
        {
          "output_type": "display_data",
          "data": {
            "image/png": "[encoded data removed]",
            "text/plain": [
              "<Figure size 432x288 with 2 Axes>"
            ]
          },
          "metadata": {
            "tags": [],
            "needs_background": "light"
          }
        }
      ]
    }
  ]
}