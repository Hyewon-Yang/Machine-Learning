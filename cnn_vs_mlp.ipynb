{
  "nbformat": 4,
  "nbformat_minor": 0,
  "metadata": {
    "colab": {
      "name": "cnn_vs_mlp.ipynb",
      "provenance": [],
      "authorship_tag": "ABX9TyPgeRzMO+YTZTYfij0zFXPI",
      "include_colab_link": true
    },
    "kernelspec": {
      "name": "python3",
      "display_name": "Python 3"
    },
    "accelerator": "GPU",
    "widgets": {
      "application/vnd.jupyter.widget-state+json": {
        "7353a02340de4146ade861bd32d30137": {
          "model_module": "@jupyter-widgets/controls",
          "model_name": "HBoxModel",
          "state": {
            "_view_name": "HBoxView",
            "_dom_classes": [],
            "_model_name": "HBoxModel",
            "_view_module": "@jupyter-widgets/controls",
            "_model_module_version": "1.5.0",
            "_view_count": null,
            "_view_module_version": "1.5.0",
            "box_style": "",
            "layout": "IPY_MODEL_2af1df9adfdb4fa6b4d9c5a289b69065",
            "_model_module": "@jupyter-widgets/controls",
            "children": [
              "IPY_MODEL_0998e2b062524c0ea47bb564f6769e08",
              "IPY_MODEL_88f6de342fdf40eb9c833c4eaeb3416b"
            ]
          }
        },
        "2af1df9adfdb4fa6b4d9c5a289b69065": {
          "model_module": "@jupyter-widgets/base",
          "model_name": "LayoutModel",
          "state": {
            "_view_name": "LayoutView",
            "grid_template_rows": null,
            "right": null,
            "justify_content": null,
            "_view_module": "@jupyter-widgets/base",
            "overflow": null,
            "_model_module_version": "1.2.0",
            "_view_count": null,
            "flex_flow": null,
            "width": null,
            "min_width": null,
            "border": null,
            "align_items": null,
            "bottom": null,
            "_model_module": "@jupyter-widgets/base",
            "top": null,
            "grid_column": null,
            "overflow_y": null,
            "overflow_x": null,
            "grid_auto_flow": null,
            "grid_area": null,
            "grid_template_columns": null,
            "flex": null,
            "_model_name": "LayoutModel",
            "justify_items": null,
            "grid_row": null,
            "max_height": null,
            "align_content": null,
            "visibility": null,
            "align_self": null,
            "height": null,
            "min_height": null,
            "padding": null,
            "grid_auto_rows": null,
            "grid_gap": null,
            "max_width": null,
            "order": null,
            "_view_module_version": "1.2.0",
            "grid_template_areas": null,
            "object_position": null,
            "object_fit": null,
            "grid_auto_columns": null,
            "margin": null,
            "display": null,
            "left": null
          }
        },
        "0998e2b062524c0ea47bb564f6769e08": {
          "model_module": "@jupyter-widgets/controls",
          "model_name": "FloatProgressModel",
          "state": {
            "_view_name": "ProgressView",
            "style": "IPY_MODEL_75d77a5970b84a92a8993e733ba1f58e",
            "_dom_classes": [],
            "description": "",
            "_model_name": "FloatProgressModel",
            "bar_style": "info",
            "max": 1,
            "_view_module": "@jupyter-widgets/controls",
            "_model_module_version": "1.5.0",
            "value": 1,
            "_view_count": null,
            "_view_module_version": "1.5.0",
            "orientation": "horizontal",
            "min": 0,
            "description_tooltip": null,
            "_model_module": "@jupyter-widgets/controls",
            "layout": "IPY_MODEL_fb190bc45ffd44d2962a8bc5dc15222f"
          }
        },
        "88f6de342fdf40eb9c833c4eaeb3416b": {
          "model_module": "@jupyter-widgets/controls",
          "model_name": "HTMLModel",
          "state": {
            "_view_name": "HTMLView",
            "style": "IPY_MODEL_3c1913bb9ea3480498d94e4f4ae24d6d",
            "_dom_classes": [],
            "description": "",
            "_model_name": "HTMLModel",
            "placeholder": "​",
            "_view_module": "@jupyter-widgets/controls",
            "_model_module_version": "1.5.0",
            "value": " 9920512/? [00:20&lt;00:00, 20123768.96it/s]",
            "_view_count": null,
            "_view_module_version": "1.5.0",
            "description_tooltip": null,
            "_model_module": "@jupyter-widgets/controls",
            "layout": "IPY_MODEL_fd9fa90daafe475cb45ad8c350df0ec1"
          }
        },
        "75d77a5970b84a92a8993e733ba1f58e": {
          "model_module": "@jupyter-widgets/controls",
          "model_name": "ProgressStyleModel",
          "state": {
            "_view_name": "StyleView",
            "_model_name": "ProgressStyleModel",
            "description_width": "initial",
            "_view_module": "@jupyter-widgets/base",
            "_model_module_version": "1.5.0",
            "_view_count": null,
            "_view_module_version": "1.2.0",
            "bar_color": null,
            "_model_module": "@jupyter-widgets/controls"
          }
        },
        "fb190bc45ffd44d2962a8bc5dc15222f": {
          "model_module": "@jupyter-widgets/base",
          "model_name": "LayoutModel",
          "state": {
            "_view_name": "LayoutView",
            "grid_template_rows": null,
            "right": null,
            "justify_content": null,
            "_view_module": "@jupyter-widgets/base",
            "overflow": null,
            "_model_module_version": "1.2.0",
            "_view_count": null,
            "flex_flow": null,
            "width": null,
            "min_width": null,
            "border": null,
            "align_items": null,
            "bottom": null,
            "_model_module": "@jupyter-widgets/base",
            "top": null,
            "grid_column": null,
            "overflow_y": null,
            "overflow_x": null,
            "grid_auto_flow": null,
            "grid_area": null,
            "grid_template_columns": null,
            "flex": null,
            "_model_name": "LayoutModel",
            "justify_items": null,
            "grid_row": null,
            "max_height": null,
            "align_content": null,
            "visibility": null,
            "align_self": null,
            "height": null,
            "min_height": null,
            "padding": null,
            "grid_auto_rows": null,
            "grid_gap": null,
            "max_width": null,
            "order": null,
            "_view_module_version": "1.2.0",
            "grid_template_areas": null,
            "object_position": null,
            "object_fit": null,
            "grid_auto_columns": null,
            "margin": null,
            "display": null,
            "left": null
          }
        },
        "3c1913bb9ea3480498d94e4f4ae24d6d": {
          "model_module": "@jupyter-widgets/controls",
          "model_name": "DescriptionStyleModel",
          "state": {
            "_view_name": "StyleView",
            "_model_name": "DescriptionStyleModel",
            "description_width": "",
            "_view_module": "@jupyter-widgets/base",
            "_model_module_version": "1.5.0",
            "_view_count": null,
            "_view_module_version": "1.2.0",
            "_model_module": "@jupyter-widgets/controls"
          }
        },
        "fd9fa90daafe475cb45ad8c350df0ec1": {
          "model_module": "@jupyter-widgets/base",
          "model_name": "LayoutModel",
          "state": {
            "_view_name": "LayoutView",
            "grid_template_rows": null,
            "right": null,
            "justify_content": null,
            "_view_module": "@jupyter-widgets/base",
            "overflow": null,
            "_model_module_version": "1.2.0",
            "_view_count": null,
            "flex_flow": null,
            "width": null,
            "min_width": null,
            "border": null,
            "align_items": null,
            "bottom": null,
            "_model_module": "@jupyter-widgets/base",
            "top": null,
            "grid_column": null,
            "overflow_y": null,
            "overflow_x": null,
            "grid_auto_flow": null,
            "grid_area": null,
            "grid_template_columns": null,
            "flex": null,
            "_model_name": "LayoutModel",
            "justify_items": null,
            "grid_row": null,
            "max_height": null,
            "align_content": null,
            "visibility": null,
            "align_self": null,
            "height": null,
            "min_height": null,
            "padding": null,
            "grid_auto_rows": null,
            "grid_gap": null,
            "max_width": null,
            "order": null,
            "_view_module_version": "1.2.0",
            "grid_template_areas": null,
            "object_position": null,
            "object_fit": null,
            "grid_auto_columns": null,
            "margin": null,
            "display": null,
            "left": null
          }
        },
        "9b165acc9f224d539d427364cd736df6": {
          "model_module": "@jupyter-widgets/controls",
          "model_name": "HBoxModel",
          "state": {
            "_view_name": "HBoxView",
            "_dom_classes": [],
            "_model_name": "HBoxModel",
            "_view_module": "@jupyter-widgets/controls",
            "_model_module_version": "1.5.0",
            "_view_count": null,
            "_view_module_version": "1.5.0",
            "box_style": "",
            "layout": "IPY_MODEL_b6a03c68665e4fe2841e92f43afbf3f0",
            "_model_module": "@jupyter-widgets/controls",
            "children": [
              "IPY_MODEL_4b5f5528e4a8461a8c26d3aa0b8d0b04",
              "IPY_MODEL_d8b01f41486e483aad8272798cb689b3"
            ]
          }
        },
        "b6a03c68665e4fe2841e92f43afbf3f0": {
          "model_module": "@jupyter-widgets/base",
          "model_name": "LayoutModel",
          "state": {
            "_view_name": "LayoutView",
            "grid_template_rows": null,
            "right": null,
            "justify_content": null,
            "_view_module": "@jupyter-widgets/base",
            "overflow": null,
            "_model_module_version": "1.2.0",
            "_view_count": null,
            "flex_flow": null,
            "width": null,
            "min_width": null,
            "border": null,
            "align_items": null,
            "bottom": null,
            "_model_module": "@jupyter-widgets/base",
            "top": null,
            "grid_column": null,
            "overflow_y": null,
            "overflow_x": null,
            "grid_auto_flow": null,
            "grid_area": null,
            "grid_template_columns": null,
            "flex": null,
            "_model_name": "LayoutModel",
            "justify_items": null,
            "grid_row": null,
            "max_height": null,
            "align_content": null,
            "visibility": null,
            "align_self": null,
            "height": null,
            "min_height": null,
            "padding": null,
            "grid_auto_rows": null,
            "grid_gap": null,
            "max_width": null,
            "order": null,
            "_view_module_version": "1.2.0",
            "grid_template_areas": null,
            "object_position": null,
            "object_fit": null,
            "grid_auto_columns": null,
            "margin": null,
            "display": null,
            "left": null
          }
        },
        "4b5f5528e4a8461a8c26d3aa0b8d0b04": {
          "model_module": "@jupyter-widgets/controls",
          "model_name": "FloatProgressModel",
          "state": {
            "_view_name": "ProgressView",
            "style": "IPY_MODEL_2c6890516e2044a38e76f50c261cf9e1",
            "_dom_classes": [],
            "description": "",
            "_model_name": "FloatProgressModel",
            "bar_style": "success",
            "max": 1,
            "_view_module": "@jupyter-widgets/controls",
            "_model_module_version": "1.5.0",
            "value": 1,
            "_view_count": null,
            "_view_module_version": "1.5.0",
            "orientation": "horizontal",
            "min": 0,
            "description_tooltip": null,
            "_model_module": "@jupyter-widgets/controls",
            "layout": "IPY_MODEL_f0e84f9b3cd44c07a29cb185cd5d1d22"
          }
        },
        "d8b01f41486e483aad8272798cb689b3": {
          "model_module": "@jupyter-widgets/controls",
          "model_name": "HTMLModel",
          "state": {
            "_view_name": "HTMLView",
            "style": "IPY_MODEL_4eb9f33256294cef9f6c39444a84b28b",
            "_dom_classes": [],
            "description": "",
            "_model_name": "HTMLModel",
            "placeholder": "​",
            "_view_module": "@jupyter-widgets/controls",
            "_model_module_version": "1.5.0",
            "value": " 32768/? [00:00&lt;00:00, 364004.38it/s]",
            "_view_count": null,
            "_view_module_version": "1.5.0",
            "description_tooltip": null,
            "_model_module": "@jupyter-widgets/controls",
            "layout": "IPY_MODEL_9abda538177b414e8c578ca821d9023f"
          }
        },
        "2c6890516e2044a38e76f50c261cf9e1": {
          "model_module": "@jupyter-widgets/controls",
          "model_name": "ProgressStyleModel",
          "state": {
            "_view_name": "StyleView",
            "_model_name": "ProgressStyleModel",
            "description_width": "initial",
            "_view_module": "@jupyter-widgets/base",
            "_model_module_version": "1.5.0",
            "_view_count": null,
            "_view_module_version": "1.2.0",
            "bar_color": null,
            "_model_module": "@jupyter-widgets/controls"
          }
        },
        "f0e84f9b3cd44c07a29cb185cd5d1d22": {
          "model_module": "@jupyter-widgets/base",
          "model_name": "LayoutModel",
          "state": {
            "_view_name": "LayoutView",
            "grid_template_rows": null,
            "right": null,
            "justify_content": null,
            "_view_module": "@jupyter-widgets/base",
            "overflow": null,
            "_model_module_version": "1.2.0",
            "_view_count": null,
            "flex_flow": null,
            "width": null,
            "min_width": null,
            "border": null,
            "align_items": null,
            "bottom": null,
            "_model_module": "@jupyter-widgets/base",
            "top": null,
            "grid_column": null,
            "overflow_y": null,
            "overflow_x": null,
            "grid_auto_flow": null,
            "grid_area": null,
            "grid_template_columns": null,
            "flex": null,
            "_model_name": "LayoutModel",
            "justify_items": null,
            "grid_row": null,
            "max_height": null,
            "align_content": null,
            "visibility": null,
            "align_self": null,
            "height": null,
            "min_height": null,
            "padding": null,
            "grid_auto_rows": null,
            "grid_gap": null,
            "max_width": null,
            "order": null,
            "_view_module_version": "1.2.0",
            "grid_template_areas": null,
            "object_position": null,
            "object_fit": null,
            "grid_auto_columns": null,
            "margin": null,
            "display": null,
            "left": null
          }
        },
        "4eb9f33256294cef9f6c39444a84b28b": {
          "model_module": "@jupyter-widgets/controls",
          "model_name": "DescriptionStyleModel",
          "state": {
            "_view_name": "StyleView",
            "_model_name": "DescriptionStyleModel",
            "description_width": "",
            "_view_module": "@jupyter-widgets/base",
            "_model_module_version": "1.5.0",
            "_view_count": null,
            "_view_module_version": "1.2.0",
            "_model_module": "@jupyter-widgets/controls"
          }
        },
        "9abda538177b414e8c578ca821d9023f": {
          "model_module": "@jupyter-widgets/base",
          "model_name": "LayoutModel",
          "state": {
            "_view_name": "LayoutView",
            "grid_template_rows": null,
            "right": null,
            "justify_content": null,
            "_view_module": "@jupyter-widgets/base",
            "overflow": null,
            "_model_module_version": "1.2.0",
            "_view_count": null,
            "flex_flow": null,
            "width": null,
            "min_width": null,
            "border": null,
            "align_items": null,
            "bottom": null,
            "_model_module": "@jupyter-widgets/base",
            "top": null,
            "grid_column": null,
            "overflow_y": null,
            "overflow_x": null,
            "grid_auto_flow": null,
            "grid_area": null,
            "grid_template_columns": null,
            "flex": null,
            "_model_name": "LayoutModel",
            "justify_items": null,
            "grid_row": null,
            "max_height": null,
            "align_content": null,
            "visibility": null,
            "align_self": null,
            "height": null,
            "min_height": null,
            "padding": null,
            "grid_auto_rows": null,
            "grid_gap": null,
            "max_width": null,
            "order": null,
            "_view_module_version": "1.2.0",
            "grid_template_areas": null,
            "object_position": null,
            "object_fit": null,
            "grid_auto_columns": null,
            "margin": null,
            "display": null,
            "left": null
          }
        },
        "bf83f9b4aac043819624558f69faa9f4": {
          "model_module": "@jupyter-widgets/controls",
          "model_name": "HBoxModel",
          "state": {
            "_view_name": "HBoxView",
            "_dom_classes": [],
            "_model_name": "HBoxModel",
            "_view_module": "@jupyter-widgets/controls",
            "_model_module_version": "1.5.0",
            "_view_count": null,
            "_view_module_version": "1.5.0",
            "box_style": "",
            "layout": "IPY_MODEL_dc3524471e11460a98a2e966f571a48c",
            "_model_module": "@jupyter-widgets/controls",
            "children": [
              "IPY_MODEL_14fbe02834e748678bb8b7d1447c54b8",
              "IPY_MODEL_25f1f0bc18874f26b0a82ba3336ce9f4"
            ]
          }
        },
        "dc3524471e11460a98a2e966f571a48c": {
          "model_module": "@jupyter-widgets/base",
          "model_name": "LayoutModel",
          "state": {
            "_view_name": "LayoutView",
            "grid_template_rows": null,
            "right": null,
            "justify_content": null,
            "_view_module": "@jupyter-widgets/base",
            "overflow": null,
            "_model_module_version": "1.2.0",
            "_view_count": null,
            "flex_flow": null,
            "width": null,
            "min_width": null,
            "border": null,
            "align_items": null,
            "bottom": null,
            "_model_module": "@jupyter-widgets/base",
            "top": null,
            "grid_column": null,
            "overflow_y": null,
            "overflow_x": null,
            "grid_auto_flow": null,
            "grid_area": null,
            "grid_template_columns": null,
            "flex": null,
            "_model_name": "LayoutModel",
            "justify_items": null,
            "grid_row": null,
            "max_height": null,
            "align_content": null,
            "visibility": null,
            "align_self": null,
            "height": null,
            "min_height": null,
            "padding": null,
            "grid_auto_rows": null,
            "grid_gap": null,
            "max_width": null,
            "order": null,
            "_view_module_version": "1.2.0",
            "grid_template_areas": null,
            "object_position": null,
            "object_fit": null,
            "grid_auto_columns": null,
            "margin": null,
            "display": null,
            "left": null
          }
        },
        "14fbe02834e748678bb8b7d1447c54b8": {
          "model_module": "@jupyter-widgets/controls",
          "model_name": "FloatProgressModel",
          "state": {
            "_view_name": "ProgressView",
            "style": "IPY_MODEL_d5690e3fc5da41cab56bf69d32deb7e6",
            "_dom_classes": [],
            "description": "",
            "_model_name": "FloatProgressModel",
            "bar_style": "info",
            "max": 1,
            "_view_module": "@jupyter-widgets/controls",
            "_model_module_version": "1.5.0",
            "value": 1,
            "_view_count": null,
            "_view_module_version": "1.5.0",
            "orientation": "horizontal",
            "min": 0,
            "description_tooltip": null,
            "_model_module": "@jupyter-widgets/controls",
            "layout": "IPY_MODEL_391889b827164225892ca63837995118"
          }
        },
        "25f1f0bc18874f26b0a82ba3336ce9f4": {
          "model_module": "@jupyter-widgets/controls",
          "model_name": "HTMLModel",
          "state": {
            "_view_name": "HTMLView",
            "style": "IPY_MODEL_a5f4bbe6d17745d08191c173b4308fbd",
            "_dom_classes": [],
            "description": "",
            "_model_name": "HTMLModel",
            "placeholder": "​",
            "_view_module": "@jupyter-widgets/controls",
            "_model_module_version": "1.5.0",
            "value": " 1654784/? [00:19&lt;00:00, 136336.81it/s]",
            "_view_count": null,
            "_view_module_version": "1.5.0",
            "description_tooltip": null,
            "_model_module": "@jupyter-widgets/controls",
            "layout": "IPY_MODEL_1f88cd9d3e06430bb72dc4846116d514"
          }
        },
        "d5690e3fc5da41cab56bf69d32deb7e6": {
          "model_module": "@jupyter-widgets/controls",
          "model_name": "ProgressStyleModel",
          "state": {
            "_view_name": "StyleView",
            "_model_name": "ProgressStyleModel",
            "description_width": "initial",
            "_view_module": "@jupyter-widgets/base",
            "_model_module_version": "1.5.0",
            "_view_count": null,
            "_view_module_version": "1.2.0",
            "bar_color": null,
            "_model_module": "@jupyter-widgets/controls"
          }
        },
        "391889b827164225892ca63837995118": {
          "model_module": "@jupyter-widgets/base",
          "model_name": "LayoutModel",
          "state": {
            "_view_name": "LayoutView",
            "grid_template_rows": null,
            "right": null,
            "justify_content": null,
            "_view_module": "@jupyter-widgets/base",
            "overflow": null,
            "_model_module_version": "1.2.0",
            "_view_count": null,
            "flex_flow": null,
            "width": null,
            "min_width": null,
            "border": null,
            "align_items": null,
            "bottom": null,
            "_model_module": "@jupyter-widgets/base",
            "top": null,
            "grid_column": null,
            "overflow_y": null,
            "overflow_x": null,
            "grid_auto_flow": null,
            "grid_area": null,
            "grid_template_columns": null,
            "flex": null,
            "_model_name": "LayoutModel",
            "justify_items": null,
            "grid_row": null,
            "max_height": null,
            "align_content": null,
            "visibility": null,
            "align_self": null,
            "height": null,
            "min_height": null,
            "padding": null,
            "grid_auto_rows": null,
            "grid_gap": null,
            "max_width": null,
            "order": null,
            "_view_module_version": "1.2.0",
            "grid_template_areas": null,
            "object_position": null,
            "object_fit": null,
            "grid_auto_columns": null,
            "margin": null,
            "display": null,
            "left": null
          }
        },
        "a5f4bbe6d17745d08191c173b4308fbd": {
          "model_module": "@jupyter-widgets/controls",
          "model_name": "DescriptionStyleModel",
          "state": {
            "_view_name": "StyleView",
            "_model_name": "DescriptionStyleModel",
            "description_width": "",
            "_view_module": "@jupyter-widgets/base",
            "_model_module_version": "1.5.0",
            "_view_count": null,
            "_view_module_version": "1.2.0",
            "_model_module": "@jupyter-widgets/controls"
          }
        },
        "1f88cd9d3e06430bb72dc4846116d514": {
          "model_module": "@jupyter-widgets/base",
          "model_name": "LayoutModel",
          "state": {
            "_view_name": "LayoutView",
            "grid_template_rows": null,
            "right": null,
            "justify_content": null,
            "_view_module": "@jupyter-widgets/base",
            "overflow": null,
            "_model_module_version": "1.2.0",
            "_view_count": null,
            "flex_flow": null,
            "width": null,
            "min_width": null,
            "border": null,
            "align_items": null,
            "bottom": null,
            "_model_module": "@jupyter-widgets/base",
            "top": null,
            "grid_column": null,
            "overflow_y": null,
            "overflow_x": null,
            "grid_auto_flow": null,
            "grid_area": null,
            "grid_template_columns": null,
            "flex": null,
            "_model_name": "LayoutModel",
            "justify_items": null,
            "grid_row": null,
            "max_height": null,
            "align_content": null,
            "visibility": null,
            "align_self": null,
            "height": null,
            "min_height": null,
            "padding": null,
            "grid_auto_rows": null,
            "grid_gap": null,
            "max_width": null,
            "order": null,
            "_view_module_version": "1.2.0",
            "grid_template_areas": null,
            "object_position": null,
            "object_fit": null,
            "grid_auto_columns": null,
            "margin": null,
            "display": null,
            "left": null
          }
        },
        "a37cc8fb2eab4839b29de5aaa9e7a969": {
          "model_module": "@jupyter-widgets/controls",
          "model_name": "HBoxModel",
          "state": {
            "_view_name": "HBoxView",
            "_dom_classes": [],
            "_model_name": "HBoxModel",
            "_view_module": "@jupyter-widgets/controls",
            "_model_module_version": "1.5.0",
            "_view_count": null,
            "_view_module_version": "1.5.0",
            "box_style": "",
            "layout": "IPY_MODEL_6f56d8d7e6fa4a66b4d4b5278dad7aad",
            "_model_module": "@jupyter-widgets/controls",
            "children": [
              "IPY_MODEL_e1bca39856d248f38a0e0692f96fc988",
              "IPY_MODEL_a5a60554cd8941c6a6b29ff9ce974dad"
            ]
          }
        },
        "6f56d8d7e6fa4a66b4d4b5278dad7aad": {
          "model_module": "@jupyter-widgets/base",
          "model_name": "LayoutModel",
          "state": {
            "_view_name": "LayoutView",
            "grid_template_rows": null,
            "right": null,
            "justify_content": null,
            "_view_module": "@jupyter-widgets/base",
            "overflow": null,
            "_model_module_version": "1.2.0",
            "_view_count": null,
            "flex_flow": null,
            "width": null,
            "min_width": null,
            "border": null,
            "align_items": null,
            "bottom": null,
            "_model_module": "@jupyter-widgets/base",
            "top": null,
            "grid_column": null,
            "overflow_y": null,
            "overflow_x": null,
            "grid_auto_flow": null,
            "grid_area": null,
            "grid_template_columns": null,
            "flex": null,
            "_model_name": "LayoutModel",
            "justify_items": null,
            "grid_row": null,
            "max_height": null,
            "align_content": null,
            "visibility": null,
            "align_self": null,
            "height": null,
            "min_height": null,
            "padding": null,
            "grid_auto_rows": null,
            "grid_gap": null,
            "max_width": null,
            "order": null,
            "_view_module_version": "1.2.0",
            "grid_template_areas": null,
            "object_position": null,
            "object_fit": null,
            "grid_auto_columns": null,
            "margin": null,
            "display": null,
            "left": null
          }
        },
        "e1bca39856d248f38a0e0692f96fc988": {
          "model_module": "@jupyter-widgets/controls",
          "model_name": "FloatProgressModel",
          "state": {
            "_view_name": "ProgressView",
            "style": "IPY_MODEL_ddc83d44d6784b8dbc82bf1533798ebe",
            "_dom_classes": [],
            "description": "",
            "_model_name": "FloatProgressModel",
            "bar_style": "success",
            "max": 1,
            "_view_module": "@jupyter-widgets/controls",
            "_model_module_version": "1.5.0",
            "value": 1,
            "_view_count": null,
            "_view_module_version": "1.5.0",
            "orientation": "horizontal",
            "min": 0,
            "description_tooltip": null,
            "_model_module": "@jupyter-widgets/controls",
            "layout": "IPY_MODEL_0b2f5ca09e02456fa7400b622f972298"
          }
        },
        "a5a60554cd8941c6a6b29ff9ce974dad": {
          "model_module": "@jupyter-widgets/controls",
          "model_name": "HTMLModel",
          "state": {
            "_view_name": "HTMLView",
            "style": "IPY_MODEL_06335a0920c642958b43667ef6fc59c7",
            "_dom_classes": [],
            "description": "",
            "_model_name": "HTMLModel",
            "placeholder": "​",
            "_view_module": "@jupyter-widgets/controls",
            "_model_module_version": "1.5.0",
            "value": " 8192/? [00:03&lt;00:00, 2255.14it/s]",
            "_view_count": null,
            "_view_module_version": "1.5.0",
            "description_tooltip": null,
            "_model_module": "@jupyter-widgets/controls",
            "layout": "IPY_MODEL_8963df69e758436d868ff64872f1ef84"
          }
        },
        "ddc83d44d6784b8dbc82bf1533798ebe": {
          "model_module": "@jupyter-widgets/controls",
          "model_name": "ProgressStyleModel",
          "state": {
            "_view_name": "StyleView",
            "_model_name": "ProgressStyleModel",
            "description_width": "initial",
            "_view_module": "@jupyter-widgets/base",
            "_model_module_version": "1.5.0",
            "_view_count": null,
            "_view_module_version": "1.2.0",
            "bar_color": null,
            "_model_module": "@jupyter-widgets/controls"
          }
        },
        "0b2f5ca09e02456fa7400b622f972298": {
          "model_module": "@jupyter-widgets/base",
          "model_name": "LayoutModel",
          "state": {
            "_view_name": "LayoutView",
            "grid_template_rows": null,
            "right": null,
            "justify_content": null,
            "_view_module": "@jupyter-widgets/base",
            "overflow": null,
            "_model_module_version": "1.2.0",
            "_view_count": null,
            "flex_flow": null,
            "width": null,
            "min_width": null,
            "border": null,
            "align_items": null,
            "bottom": null,
            "_model_module": "@jupyter-widgets/base",
            "top": null,
            "grid_column": null,
            "overflow_y": null,
            "overflow_x": null,
            "grid_auto_flow": null,
            "grid_area": null,
            "grid_template_columns": null,
            "flex": null,
            "_model_name": "LayoutModel",
            "justify_items": null,
            "grid_row": null,
            "max_height": null,
            "align_content": null,
            "visibility": null,
            "align_self": null,
            "height": null,
            "min_height": null,
            "padding": null,
            "grid_auto_rows": null,
            "grid_gap": null,
            "max_width": null,
            "order": null,
            "_view_module_version": "1.2.0",
            "grid_template_areas": null,
            "object_position": null,
            "object_fit": null,
            "grid_auto_columns": null,
            "margin": null,
            "display": null,
            "left": null
          }
        },
        "06335a0920c642958b43667ef6fc59c7": {
          "model_module": "@jupyter-widgets/controls",
          "model_name": "DescriptionStyleModel",
          "state": {
            "_view_name": "StyleView",
            "_model_name": "DescriptionStyleModel",
            "description_width": "",
            "_view_module": "@jupyter-widgets/base",
            "_model_module_version": "1.5.0",
            "_view_count": null,
            "_view_module_version": "1.2.0",
            "_model_module": "@jupyter-widgets/controls"
          }
        },
        "8963df69e758436d868ff64872f1ef84": {
          "model_module": "@jupyter-widgets/base",
          "model_name": "LayoutModel",
          "state": {
            "_view_name": "LayoutView",
            "grid_template_rows": null,
            "right": null,
            "justify_content": null,
            "_view_module": "@jupyter-widgets/base",
            "overflow": null,
            "_model_module_version": "1.2.0",
            "_view_count": null,
            "flex_flow": null,
            "width": null,
            "min_width": null,
            "border": null,
            "align_items": null,
            "bottom": null,
            "_model_module": "@jupyter-widgets/base",
            "top": null,
            "grid_column": null,
            "overflow_y": null,
            "overflow_x": null,
            "grid_auto_flow": null,
            "grid_area": null,
            "grid_template_columns": null,
            "flex": null,
            "_model_name": "LayoutModel",
            "justify_items": null,
            "grid_row": null,
            "max_height": null,
            "align_content": null,
            "visibility": null,
            "align_self": null,
            "height": null,
            "min_height": null,
            "padding": null,
            "grid_auto_rows": null,
            "grid_gap": null,
            "max_width": null,
            "order": null,
            "_view_module_version": "1.2.0",
            "grid_template_areas": null,
            "object_position": null,
            "object_fit": null,
            "grid_auto_columns": null,
            "margin": null,
            "display": null,
            "left": null
          }
        }
      }
    }
  },
  "cells": [
    {
      "cell_type": "markdown",
      "metadata": {
        "id": "view-in-github",
        "colab_type": "text"
      },
      "source": [
        "<a href=\"https://colab.research.google.com/github/Seouyang/Today-I-Learned/blob/master/cnn_vs_mlp.ipynb\" target=\"_parent\"><img src=\"https://colab.research.google.com/assets/colab-badge.svg\" alt=\"Open In Colab\"/></a>"
      ]
    },
    {
      "cell_type": "markdown",
      "metadata": {
        "id": "1wb-OgcZb4Mo"
      },
      "source": [
        "# Convolutional Neural Network (CNN)\r\n",
        "Implement CNN using pytorch and compare it with MLP"
      ]
    },
    {
      "cell_type": "code",
      "metadata": {
        "id": "WRwH96B1WX_S"
      },
      "source": [
        "import torch\r\n",
        "import torch.nn as nn\r\n",
        "import torch.nn.functional as F\r\n",
        "import torch.optim as optim\r\n",
        "\r\n",
        "import torchvision\r\n",
        "import torchvision.transforms as transforms\r\n",
        "from torchsummary import summary\r\n",
        "\r\n",
        "from tqdm import tqdm\r\n",
        "import time \r\n",
        "from sklearn.preprocessing import StandardScaler\r\n",
        "\r\n",
        "import matplotlib.pyplot as plt"
      ],
      "execution_count": 1,
      "outputs": []
    },
    {
      "cell_type": "code",
      "metadata": {
        "id": "8yudki_SbFu5",
        "colab": {
          "base_uri": "https://localhost:8080/"
        },
        "outputId": "5228cb02-7d6a-42e5-ca64-ee64ce86ddbe"
      },
      "source": [
        "linear_layer = nn.Linear(in_features=784, out_features=400)\r\n",
        "convolutional_layer = nn.Conv2d(in_channels=3, out_channels=32, kernel_size=(5, 5))\r\n",
        "print(linear_layer.weight.shape) #(output feature size, input feature size)\r\n",
        "print(convolutional_layer.weight.shape) #(output channel size, input channel size, kernel height, kernel width)"
      ],
      "execution_count": 2,
      "outputs": [
        {
          "output_type": "stream",
          "text": [
            "torch.Size([400, 784])\n",
            "torch.Size([32, 3, 5, 5])\n"
          ],
          "name": "stdout"
        }
      ]
    },
    {
      "cell_type": "code",
      "metadata": {
        "colab": {
          "base_uri": "https://localhost:8080/",
          "height": 394,
          "referenced_widgets": [
            "7353a02340de4146ade861bd32d30137",
            "2af1df9adfdb4fa6b4d9c5a289b69065",
            "0998e2b062524c0ea47bb564f6769e08",
            "88f6de342fdf40eb9c833c4eaeb3416b",
            "75d77a5970b84a92a8993e733ba1f58e",
            "fb190bc45ffd44d2962a8bc5dc15222f",
            "3c1913bb9ea3480498d94e4f4ae24d6d",
            "fd9fa90daafe475cb45ad8c350df0ec1",
            "9b165acc9f224d539d427364cd736df6",
            "b6a03c68665e4fe2841e92f43afbf3f0",
            "4b5f5528e4a8461a8c26d3aa0b8d0b04",
            "d8b01f41486e483aad8272798cb689b3",
            "2c6890516e2044a38e76f50c261cf9e1",
            "f0e84f9b3cd44c07a29cb185cd5d1d22",
            "4eb9f33256294cef9f6c39444a84b28b",
            "9abda538177b414e8c578ca821d9023f",
            "bf83f9b4aac043819624558f69faa9f4",
            "dc3524471e11460a98a2e966f571a48c",
            "14fbe02834e748678bb8b7d1447c54b8",
            "25f1f0bc18874f26b0a82ba3336ce9f4",
            "d5690e3fc5da41cab56bf69d32deb7e6",
            "391889b827164225892ca63837995118",
            "a5f4bbe6d17745d08191c173b4308fbd",
            "1f88cd9d3e06430bb72dc4846116d514",
            "a37cc8fb2eab4839b29de5aaa9e7a969",
            "6f56d8d7e6fa4a66b4d4b5278dad7aad",
            "e1bca39856d248f38a0e0692f96fc988",
            "a5a60554cd8941c6a6b29ff9ce974dad",
            "ddc83d44d6784b8dbc82bf1533798ebe",
            "0b2f5ca09e02456fa7400b622f972298",
            "06335a0920c642958b43667ef6fc59c7",
            "8963df69e758436d868ff64872f1ef84"
          ]
        },
        "id": "iIdlYPde1NSK",
        "outputId": "04f8332c-5235-4cf3-9891-28ec3e54c49a"
      },
      "source": [
        "trainset = torchvision.datasets.MNIST(root='./data', train=True, download=True, transform=transforms.ToTensor())\r\n",
        "testset = torchvision.datasets.MNIST(root='./data', train=False, download=True, transform=transforms.ToTensor())\r\n",
        "trainloader = torch.utils.data.DataLoader(trainset, batch_size=200, shuffle=True)\r\n",
        "testloader = torch.utils.data.DataLoader(testset, batch_size=200, shuffle=False)"
      ],
      "execution_count": 3,
      "outputs": [
        {
          "output_type": "stream",
          "text": [
            "Downloading http://yann.lecun.com/exdb/mnist/train-images-idx3-ubyte.gz to ./data/MNIST/raw/train-images-idx3-ubyte.gz\n"
          ],
          "name": "stdout"
        },
        {
          "output_type": "display_data",
          "data": {
            "application/vnd.jupyter.widget-view+json": {
              "model_id": "7353a02340de4146ade861bd32d30137",
              "version_minor": 0,
              "version_major": 2
            },
            "text/plain": [
              "HBox(children=(FloatProgress(value=1.0, bar_style='info', max=1.0), HTML(value='')))"
            ]
          },
          "metadata": {
            "tags": []
          }
        },
        {
          "output_type": "stream",
          "text": [
            "Extracting ./data/MNIST/raw/train-images-idx3-ubyte.gz to ./data/MNIST/raw\n",
            "Downloading http://yann.lecun.com/exdb/mnist/train-labels-idx1-ubyte.gz to ./data/MNIST/raw/train-labels-idx1-ubyte.gz\n"
          ],
          "name": "stdout"
        },
        {
          "output_type": "display_data",
          "data": {
            "application/vnd.jupyter.widget-view+json": {
              "model_id": "9b165acc9f224d539d427364cd736df6",
              "version_minor": 0,
              "version_major": 2
            },
            "text/plain": [
              "HBox(children=(FloatProgress(value=1.0, bar_style='info', max=1.0), HTML(value='')))"
            ]
          },
          "metadata": {
            "tags": []
          }
        },
        {
          "output_type": "stream",
          "text": [
            "Extracting ./data/MNIST/raw/train-labels-idx1-ubyte.gz to ./data/MNIST/raw\n",
            "Downloading http://yann.lecun.com/exdb/mnist/t10k-images-idx3-ubyte.gz to ./data/MNIST/raw/t10k-images-idx3-ubyte.gz\n",
            "\n"
          ],
          "name": "stdout"
        },
        {
          "output_type": "display_data",
          "data": {
            "application/vnd.jupyter.widget-view+json": {
              "model_id": "bf83f9b4aac043819624558f69faa9f4",
              "version_minor": 0,
              "version_major": 2
            },
            "text/plain": [
              "HBox(children=(FloatProgress(value=1.0, bar_style='info', max=1.0), HTML(value='')))"
            ]
          },
          "metadata": {
            "tags": []
          }
        },
        {
          "output_type": "stream",
          "text": [
            "Extracting ./data/MNIST/raw/t10k-images-idx3-ubyte.gz to ./data/MNIST/raw\n",
            "Downloading http://yann.lecun.com/exdb/mnist/t10k-labels-idx1-ubyte.gz to ./data/MNIST/raw/t10k-labels-idx1-ubyte.gz\n"
          ],
          "name": "stdout"
        },
        {
          "output_type": "display_data",
          "data": {
            "application/vnd.jupyter.widget-view+json": {
              "model_id": "a37cc8fb2eab4839b29de5aaa9e7a969",
              "version_minor": 0,
              "version_major": 2
            },
            "text/plain": [
              "HBox(children=(FloatProgress(value=1.0, bar_style='info', max=1.0), HTML(value='')))"
            ]
          },
          "metadata": {
            "tags": []
          }
        },
        {
          "output_type": "stream",
          "text": [
            "Extracting ./data/MNIST/raw/t10k-labels-idx1-ubyte.gz to ./data/MNIST/raw\n",
            "Processing...\n",
            "Done!\n"
          ],
          "name": "stdout"
        },
        {
          "output_type": "stream",
          "text": [
            "/usr/local/lib/python3.6/dist-packages/torchvision/datasets/mnist.py:480: UserWarning: The given NumPy array is not writeable, and PyTorch does not support non-writeable tensors. This means you can write to the underlying (supposedly non-writeable) NumPy array using the tensor. You may want to copy the array to protect its data or make it writeable before converting it to a tensor. This type of warning will be suppressed for the rest of this program. (Triggered internally at  /pytorch/torch/csrc/utils/tensor_numpy.cpp:141.)\n",
            "  return torch.from_numpy(parsed.astype(m[2], copy=False)).view(*s)\n"
          ],
          "name": "stderr"
        }
      ]
    },
    {
      "cell_type": "code",
      "metadata": {
        "colab": {
          "base_uri": "https://localhost:8080/"
        },
        "id": "ta8u7LKn1ze2",
        "outputId": "34f98ef2-29aa-4aa0-a2b3-9331bfeeaba8"
      },
      "source": [
        "#visualization\r\n",
        "def vis_feat(f1, f2, inp):\r\n",
        "  l = [f1, f2]\r\n",
        "  fig, axes = plt.subplots(11, 8, figsize=(12.5, 12.5))\r\n",
        "  plt.subplots_adjust(left=0, bottom=0, right=1, top=1, wspace=0, hspace=0.1)\r\n",
        "  ax = axes[0, 0]\r\n",
        "  ax.imshow(inp[0], cmap='gray_r')\r\n",
        "  ax.set_title('Original image')\r\n",
        "  ax.axis('off')\r\n",
        "\r\n",
        "  for i in range(7):\r\n",
        "    ax = axes[0, i+1]\r\n",
        "    ax.axis('off')\r\n",
        "  \r\n",
        "  for i in range(32):\r\n",
        "    r = 2 + i // 8\r\n",
        "    c = i % 8\r\n",
        "    ax = axes[r, c]             \r\n",
        "    ax.imshow(f1[i], cmap='gray_r')\r\n",
        "    if i == 0:\r\n",
        "      ax.set_title('Output from conv1')      \r\n",
        "    ax.axis('off')\r\n",
        "    if i < 8:\r\n",
        "      ax = axes[1, i]\r\n",
        "      ax.axis('off')\r\n",
        "\r\n",
        "  for i in range(32):\r\n",
        "    r = 7 + i // 8\r\n",
        "    c = i % 8\r\n",
        "    ax = axes[r, c]             \r\n",
        "    ax.imshow(f2[i], cmap='gray_r')\r\n",
        "    if i == 0:\r\n",
        "      ax.set_title('Output from conv2')      \r\n",
        "    ax.axis('off')\r\n",
        "    if i < 8:\r\n",
        "        ax = axes[6, i]\r\n",
        "        ax.axis('off')\r\n",
        "\r\n",
        "  plt.xticks([]), plt.yticks([])\r\n",
        "  plt.show()"
      ],
      "execution_count": 4,
      "outputs": [
        {
          "output_type": "stream",
          "text": [
            "\n"
          ],
          "name": "stdout"
        }
      ]
    },
    {
      "cell_type": "code",
      "metadata": {
        "id": "Mssh_B_S2dfS"
      },
      "source": [
        "def vis(model, loader):\r\n",
        "  with torch.no_grad():\r\n",
        "    for i, data in enumerate(loader, 0):\r\n",
        "      images, labels = data\r\n",
        "      f1 = model.conv1(images)\r\n",
        "      f2 = model.conv2(model.pool(F.relu(f1)))\r\n",
        "\r\n",
        "      vis_feat(f1[0], f2[0], images[0])\r\n",
        "      break"
      ],
      "execution_count": 5,
      "outputs": []
    },
    {
      "cell_type": "markdown",
      "metadata": {
        "id": "MbxnGMPMhyQ6"
      },
      "source": [
        "**Implement of CNN using pytorch**\r\n",
        "\r\n",
        "\r\n",
        "![image.png](data:image/png;base64,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)"
      ]
    },
    {
      "cell_type": "code",
      "metadata": {
        "id": "Gdi1UoJs3GjZ"
      },
      "source": [
        "class CNN(nn.Module):\r\n",
        "  def __init__(self):\r\n",
        "    super(CNN, self).__init__()\r\n",
        "    self.conv1 = nn.Conv2d(in_channels=1, out_channels=32, kernel_size=(5, 5))\r\n",
        "    self.pool = nn.MaxPool2d(kernel_size=2, stride=2)\r\n",
        "    self.conv2 = nn.Conv2d(in_channels=32, out_channels=32, kernel_size=5)\r\n",
        "    self.fc1 = nn.Linear(in_features=512, out_features=128)\r\n",
        "    self.fc2 = nn.Linear(in_features=128, out_features=10)\r\n",
        "  \r\n",
        "  def forward(self, x):\r\n",
        "    batchsize = x.size(0)\r\n",
        "    x = self.conv1(x)\r\n",
        "    x = self.pool(F.relu(x))\r\n",
        "    x = self.conv2(x)\r\n",
        "    x = self.pool(F.relu(x))\r\n",
        "    x = x.view(batchsize, -1)\r\n",
        "    x = F.relu(self.fc1(x))\r\n",
        "    out = self.fc2(x)\r\n",
        "    return out"
      ],
      "execution_count": 6,
      "outputs": []
    },
    {
      "cell_type": "code",
      "metadata": {
        "id": "fbbt9guhBw-Z"
      },
      "source": [
        "def train(model, n_epoch, loader, optimizer, criterion, device='cpu'):\r\n",
        "  model.train()\r\n",
        "  for epoch in tqdm(range(n_epoch)):\r\n",
        "    running_loss = 0.0\r\n",
        "    for i, data in enumerate(loader, 0):\r\n",
        "      images, labels = data\r\n",
        "      images = images.to(device)\r\n",
        "      labels = labels.to(device)\r\n",
        "      \r\n",
        "      optimizer.zero_grad()\r\n",
        "      outputs = model(images)\r\n",
        "      loss = criterion(outputs, labels)\r\n",
        "      loss.backward()\r\n",
        "      optimizer.step()\r\n",
        "      running_loss += loss.item()\r\n",
        "    print('Epoch {}, loss = {:.3f}'.format(epoch, running_loss / len(loader)))\r\n",
        "  print('Training Finished')"
      ],
      "execution_count": 7,
      "outputs": []
    },
    {
      "cell_type": "code",
      "metadata": {
        "id": "yfR2O_4FDU5y"
      },
      "source": [
        "def evaluate(model, loader, device='cpu'):\r\n",
        "  model.eval()\r\n",
        "  total = 0\r\n",
        "  correct = 0\r\n",
        "  with torch.no_grad():\r\n",
        "    for data in loader:\r\n",
        "      images, labels = data\r\n",
        "      images = images.to(device)\r\n",
        "      labels = labels.to(device)\r\n",
        "      outputs = model(images)\r\n",
        "      _, predicted = torch.max(outputs.data, 1)\r\n",
        "      total += labels.size(0)\r\n",
        "      correct += (predicted == labels).sum().item()\r\n",
        "  acc = 100 * correct / total\r\n",
        "  return acc"
      ],
      "execution_count": 8,
      "outputs": []
    },
    {
      "cell_type": "code",
      "metadata": {
        "colab": {
          "base_uri": "https://localhost:8080/"
        },
        "id": "i_5lwQ71EBfK",
        "outputId": "67ceaf26-b480-4160-b5c2-cb5384c13abe"
      },
      "source": [
        "cnn_model = CNN().to(\"cuda\")\r\n",
        "optimizer = optim.SGD(params=cnn_model.parameters(), lr=0.001, momentum=0.9)\r\n",
        "criterion = nn.CrossEntropyLoss()\r\n",
        "train(model=cnn_model, n_epoch=15, loader=trainloader, optimizer=optimizer, criterion=criterion, device=\"cuda\")\r\n",
        "acc = evaluate(cnn_model, testloader, device=\"cuda\")\r\n",
        "print('Test accuracy: {:.2f}%'.format(acc))"
      ],
      "execution_count": 10,
      "outputs": [
        {
          "output_type": "stream",
          "text": [
            "  7%|▋         | 1/15 [00:05<01:18,  5.57s/it]"
          ],
          "name": "stderr"
        },
        {
          "output_type": "stream",
          "text": [
            "Epoch 0, loss = 2.273\n"
          ],
          "name": "stdout"
        },
        {
          "output_type": "stream",
          "text": [
            "\r 13%|█▎        | 2/15 [00:11<01:12,  5.56s/it]"
          ],
          "name": "stderr"
        },
        {
          "output_type": "stream",
          "text": [
            "Epoch 1, loss = 1.565\n"
          ],
          "name": "stdout"
        },
        {
          "output_type": "stream",
          "text": [
            "\r 20%|██        | 3/15 [00:16<01:06,  5.55s/it]"
          ],
          "name": "stderr"
        },
        {
          "output_type": "stream",
          "text": [
            "Epoch 2, loss = 0.507\n"
          ],
          "name": "stdout"
        },
        {
          "output_type": "stream",
          "text": [
            "\r 27%|██▋       | 4/15 [00:22<01:00,  5.51s/it]"
          ],
          "name": "stderr"
        },
        {
          "output_type": "stream",
          "text": [
            "Epoch 3, loss = 0.369\n"
          ],
          "name": "stdout"
        },
        {
          "output_type": "stream",
          "text": [
            "\r 33%|███▎      | 5/15 [00:27<00:55,  5.56s/it]"
          ],
          "name": "stderr"
        },
        {
          "output_type": "stream",
          "text": [
            "Epoch 4, loss = 0.304\n"
          ],
          "name": "stdout"
        },
        {
          "output_type": "stream",
          "text": [
            "\r 40%|████      | 6/15 [00:33<00:50,  5.59s/it]"
          ],
          "name": "stderr"
        },
        {
          "output_type": "stream",
          "text": [
            "Epoch 5, loss = 0.260\n"
          ],
          "name": "stdout"
        },
        {
          "output_type": "stream",
          "text": [
            "\r 47%|████▋     | 7/15 [00:39<00:44,  5.61s/it]"
          ],
          "name": "stderr"
        },
        {
          "output_type": "stream",
          "text": [
            "Epoch 6, loss = 0.227\n"
          ],
          "name": "stdout"
        },
        {
          "output_type": "stream",
          "text": [
            "\r 53%|█████▎    | 8/15 [00:44<00:38,  5.55s/it]"
          ],
          "name": "stderr"
        },
        {
          "output_type": "stream",
          "text": [
            "Epoch 7, loss = 0.200\n"
          ],
          "name": "stdout"
        },
        {
          "output_type": "stream",
          "text": [
            "\r 60%|██████    | 9/15 [00:50<00:33,  5.63s/it]"
          ],
          "name": "stderr"
        },
        {
          "output_type": "stream",
          "text": [
            "Epoch 8, loss = 0.178\n"
          ],
          "name": "stdout"
        },
        {
          "output_type": "stream",
          "text": [
            "\r 67%|██████▋   | 10/15 [00:55<00:28,  5.61s/it]"
          ],
          "name": "stderr"
        },
        {
          "output_type": "stream",
          "text": [
            "Epoch 9, loss = 0.161\n"
          ],
          "name": "stdout"
        },
        {
          "output_type": "stream",
          "text": [
            "\r 73%|███████▎  | 11/15 [01:01<00:22,  5.55s/it]"
          ],
          "name": "stderr"
        },
        {
          "output_type": "stream",
          "text": [
            "Epoch 10, loss = 0.146\n"
          ],
          "name": "stdout"
        },
        {
          "output_type": "stream",
          "text": [
            "\r 80%|████████  | 12/15 [01:06<00:16,  5.54s/it]"
          ],
          "name": "stderr"
        },
        {
          "output_type": "stream",
          "text": [
            "Epoch 11, loss = 0.134\n"
          ],
          "name": "stdout"
        },
        {
          "output_type": "stream",
          "text": [
            "\r 87%|████████▋ | 13/15 [01:12<00:11,  5.71s/it]"
          ],
          "name": "stderr"
        },
        {
          "output_type": "stream",
          "text": [
            "Epoch 12, loss = 0.124\n"
          ],
          "name": "stdout"
        },
        {
          "output_type": "stream",
          "text": [
            "\r 93%|█████████▎| 14/15 [01:18<00:05,  5.73s/it]"
          ],
          "name": "stderr"
        },
        {
          "output_type": "stream",
          "text": [
            "Epoch 13, loss = 0.116\n"
          ],
          "name": "stdout"
        },
        {
          "output_type": "stream",
          "text": [
            "100%|██████████| 15/15 [01:24<00:00,  5.62s/it]"
          ],
          "name": "stderr"
        },
        {
          "output_type": "stream",
          "text": [
            "Epoch 14, loss = 0.110\n",
            "Training Finished\n"
          ],
          "name": "stdout"
        },
        {
          "output_type": "stream",
          "text": [
            "\n"
          ],
          "name": "stderr"
        },
        {
          "output_type": "stream",
          "text": [
            "Test accuracy: 97.28%\n"
          ],
          "name": "stdout"
        }
      ]
    },
    {
      "cell_type": "code",
      "metadata": {
        "id": "094H1x47EeTy",
        "colab": {
          "base_uri": "https://localhost:8080/",
          "height": 674
        },
        "outputId": "49776562-3411-47f1-b0ba-53fff38f6578"
      },
      "source": [
        "vis(cnn_model.cpu(), trainloader)"
      ],
      "execution_count": 11,
      "outputs": [
        {
          "output_type": "display_data",
          "data": {
            "image/png": "[encoded data removed]",
            "text/plain": [
              "<Figure size 900x900 with 88 Axes>"
            ]
          },
          "metadata": {
            "tags": [],
            "needs_background": "light"
          }
        }
      ]
    },
    {
      "cell_type": "markdown",
      "metadata": {
        "id": "rGcNX9yDiRT7"
      },
      "source": [
        "**Comparison between CNN and MLP**\r\n",
        "\r\n",
        "\r\n",
        "*   CNN needs more computations and longer training time\r\n",
        "*   CNN has fewer parameters\r\n",
        "*   CNN shows higher performance in image processing task\r\n",
        "\r\n",
        "\r\n",
        "Construct MLP below.\r\n",
        "![image.png](data:image/png;base64,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)\r\n",
        "\r\n"
      ]
    },
    {
      "cell_type": "code",
      "metadata": {
        "id": "yePws9SWiyn3"
      },
      "source": [
        "class MLP(nn.Module):\r\n",
        "  def __init__(self):\r\n",
        "    super(MLP, self).__init__()\r\n",
        "    self.layer1 = nn.Linear(in_features=784, out_features=400)\r\n",
        "    self.layer2 = nn.Linear(in_features=400, out_features=100)\r\n",
        "    self.layer3 = nn.Linear(in_features=100, out_features=10)\r\n",
        "  \r\n",
        "  def forward(self, x):\r\n",
        "    batchsize = x.size(0)\r\n",
        "    x = x.view(batchsize, -1)\r\n",
        "    x = F.relu(self.layer1(x))\r\n",
        "    x = F.relu(self.layer2(x))\r\n",
        "    out = self.layer3(x)\r\n",
        "    return out"
      ],
      "execution_count": 12,
      "outputs": []
    },
    {
      "cell_type": "code",
      "metadata": {
        "colab": {
          "base_uri": "https://localhost:8080/"
        },
        "id": "meBk6OzZjSFY",
        "outputId": "b523826e-9f16-4127-ce3e-4e9c5e28e9b3"
      },
      "source": [
        "mlp_model = MLP().to(\"cuda\")\r\n",
        "optimizer = optim.SGD(params=mlp_model.parameters(), lr=0.001, momentum=0.9)\r\n",
        "criterion = nn.CrossEntropyLoss()\r\n",
        "train(model=mlp_model, n_epoch=15, loader=trainloader, optimizer=optimizer, criterion=criterion, device=\"cuda\")\r\n",
        "acc = evaluate(mlp_model, testloader, device=\"cuda\")\r\n",
        "print('Test accuracy: {:.2f}%'.format(acc))"
      ],
      "execution_count": 13,
      "outputs": [
        {
          "output_type": "stream",
          "text": [
            "  7%|▋         | 1/15 [00:04<01:05,  4.70s/it]"
          ],
          "name": "stderr"
        },
        {
          "output_type": "stream",
          "text": [
            "Epoch 0, loss = 2.214\n"
          ],
          "name": "stdout"
        },
        {
          "output_type": "stream",
          "text": [
            "\r 13%|█▎        | 2/15 [00:08<00:58,  4.50s/it]"
          ],
          "name": "stderr"
        },
        {
          "output_type": "stream",
          "text": [
            "Epoch 1, loss = 1.758\n"
          ],
          "name": "stdout"
        },
        {
          "output_type": "stream",
          "text": [
            "\r 20%|██        | 3/15 [00:13<00:53,  4.44s/it]"
          ],
          "name": "stderr"
        },
        {
          "output_type": "stream",
          "text": [
            "Epoch 2, loss = 1.013\n"
          ],
          "name": "stdout"
        },
        {
          "output_type": "stream",
          "text": [
            "\r 27%|██▋       | 4/15 [00:17<00:48,  4.39s/it]"
          ],
          "name": "stderr"
        },
        {
          "output_type": "stream",
          "text": [
            "Epoch 3, loss = 0.667\n"
          ],
          "name": "stdout"
        },
        {
          "output_type": "stream",
          "text": [
            "\r 33%|███▎      | 5/15 [00:21<00:43,  4.37s/it]"
          ],
          "name": "stderr"
        },
        {
          "output_type": "stream",
          "text": [
            "Epoch 4, loss = 0.529\n"
          ],
          "name": "stdout"
        },
        {
          "output_type": "stream",
          "text": [
            "\r 40%|████      | 6/15 [00:25<00:38,  4.26s/it]"
          ],
          "name": "stderr"
        },
        {
          "output_type": "stream",
          "text": [
            "Epoch 5, loss = 0.457\n"
          ],
          "name": "stdout"
        },
        {
          "output_type": "stream",
          "text": [
            "\r 47%|████▋     | 7/15 [00:30<00:34,  4.32s/it]"
          ],
          "name": "stderr"
        },
        {
          "output_type": "stream",
          "text": [
            "Epoch 6, loss = 0.415\n"
          ],
          "name": "stdout"
        },
        {
          "output_type": "stream",
          "text": [
            "\r 53%|█████▎    | 8/15 [00:34<00:30,  4.32s/it]"
          ],
          "name": "stderr"
        },
        {
          "output_type": "stream",
          "text": [
            "Epoch 7, loss = 0.387\n"
          ],
          "name": "stdout"
        },
        {
          "output_type": "stream",
          "text": [
            "\r 60%|██████    | 9/15 [00:39<00:26,  4.43s/it]"
          ],
          "name": "stderr"
        },
        {
          "output_type": "stream",
          "text": [
            "Epoch 8, loss = 0.367\n"
          ],
          "name": "stdout"
        },
        {
          "output_type": "stream",
          "text": [
            "\r 67%|██████▋   | 10/15 [00:43<00:21,  4.39s/it]"
          ],
          "name": "stderr"
        },
        {
          "output_type": "stream",
          "text": [
            "Epoch 9, loss = 0.351\n"
          ],
          "name": "stdout"
        },
        {
          "output_type": "stream",
          "text": [
            "\r 73%|███████▎  | 11/15 [00:47<00:17,  4.31s/it]"
          ],
          "name": "stderr"
        },
        {
          "output_type": "stream",
          "text": [
            "Epoch 10, loss = 0.339\n"
          ],
          "name": "stdout"
        },
        {
          "output_type": "stream",
          "text": [
            "\r 80%|████████  | 12/15 [00:51<00:13,  4.36s/it]"
          ],
          "name": "stderr"
        },
        {
          "output_type": "stream",
          "text": [
            "Epoch 11, loss = 0.328\n"
          ],
          "name": "stdout"
        },
        {
          "output_type": "stream",
          "text": [
            "\r 87%|████████▋ | 13/15 [00:56<00:08,  4.26s/it]"
          ],
          "name": "stderr"
        },
        {
          "output_type": "stream",
          "text": [
            "Epoch 12, loss = 0.319\n"
          ],
          "name": "stdout"
        },
        {
          "output_type": "stream",
          "text": [
            "\r 93%|█████████▎| 14/15 [01:00<00:04,  4.24s/it]"
          ],
          "name": "stderr"
        },
        {
          "output_type": "stream",
          "text": [
            "Epoch 13, loss = 0.310\n"
          ],
          "name": "stdout"
        },
        {
          "output_type": "stream",
          "text": [
            "100%|██████████| 15/15 [01:04<00:00,  4.31s/it]"
          ],
          "name": "stderr"
        },
        {
          "output_type": "stream",
          "text": [
            "Epoch 14, loss = 0.302\n",
            "Training Finished\n"
          ],
          "name": "stdout"
        },
        {
          "output_type": "stream",
          "text": [
            "\n"
          ],
          "name": "stderr"
        },
        {
          "output_type": "stream",
          "text": [
            "Test accuracy: 91.67%\n"
          ],
          "name": "stdout"
        }
      ]
    },
    {
      "cell_type": "code",
      "metadata": {
        "id": "eAF02lI9jxLA"
      },
      "source": [
        "mlp_num_parameters = sum(param.numel() for param in mlp_model.parameters() if param.requires_grad)\r\n",
        "mlp_acc = evaluate(mlp_model, testloader, device=\"cuda\")\r\n",
        "print('Total Number of trainable parameters of MLP: {}, Accuracy of MLP: {:.2f}%'.format(mlp_num_parameters, mlp_acc))\r\n",
        "\r\n",
        "cnn_num_parameters = sum(param.numel() for param in cnn_model.parameters() if param.requires_grad)\r\n",
        "cnn_acc = evaluate(cnn_model, testloader, device=\"cuda\")\r\n",
        "print('Total Number of trainable parameters of CNN: {}, Accuracy of CNN: {:.2f}%'.format(cnn_num_parameters, cnn_acc))"
      ],
      "execution_count": null,
      "outputs": []
    },
    {
      "cell_type": "markdown",
      "metadata": {
        "id": "l2tJ2WWeA000"
      },
      "source": [
        "Reference: KAIST EE488 lecture practice materials"
      ]
    }
  ]
}