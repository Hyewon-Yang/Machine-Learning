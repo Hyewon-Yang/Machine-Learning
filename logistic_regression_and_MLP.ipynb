{
  "nbformat": 4,
  "nbformat_minor": 0,
  "metadata": {
    "colab": {
      "name": "logistic_regression_and_MLP.ipynb",
      "provenance": [],
      "authorship_tag": "ABX9TyNCdXoCX500ryxZepehvcig",
      "include_colab_link": true
    },
    "kernelspec": {
      "name": "python3",
      "display_name": "Python 3"
    },
    "accelerator": "GPU",
    "widgets": {
      "application/vnd.jupyter.widget-state+json": {
        "96c13adaf77243a4907eed7f2f4a608e": {
          "model_module": "@jupyter-widgets/controls",
          "model_name": "HBoxModel",
          "state": {
            "_view_name": "HBoxView",
            "_dom_classes": [],
            "_model_name": "HBoxModel",
            "_view_module": "@jupyter-widgets/controls",
            "_model_module_version": "1.5.0",
            "_view_count": null,
            "_view_module_version": "1.5.0",
            "box_style": "",
            "layout": "IPY_MODEL_678043d9a19a47fc94510e39a0640d7a",
            "_model_module": "@jupyter-widgets/controls",
            "children": [
              "IPY_MODEL_85ca860067b148a4a218a48654b27f88",
              "IPY_MODEL_ec8b7adc1cba416f93e335dd19f4df58"
            ]
          }
        },
        "678043d9a19a47fc94510e39a0640d7a": {
          "model_module": "@jupyter-widgets/base",
          "model_name": "LayoutModel",
          "state": {
            "_view_name": "LayoutView",
            "grid_template_rows": null,
            "right": null,
            "justify_content": null,
            "_view_module": "@jupyter-widgets/base",
            "overflow": null,
            "_model_module_version": "1.2.0",
            "_view_count": null,
            "flex_flow": null,
            "width": null,
            "min_width": null,
            "border": null,
            "align_items": null,
            "bottom": null,
            "_model_module": "@jupyter-widgets/base",
            "top": null,
            "grid_column": null,
            "overflow_y": null,
            "overflow_x": null,
            "grid_auto_flow": null,
            "grid_area": null,
            "grid_template_columns": null,
            "flex": null,
            "_model_name": "LayoutModel",
            "justify_items": null,
            "grid_row": null,
            "max_height": null,
            "align_content": null,
            "visibility": null,
            "align_self": null,
            "height": null,
            "min_height": null,
            "padding": null,
            "grid_auto_rows": null,
            "grid_gap": null,
            "max_width": null,
            "order": null,
            "_view_module_version": "1.2.0",
            "grid_template_areas": null,
            "object_position": null,
            "object_fit": null,
            "grid_auto_columns": null,
            "margin": null,
            "display": null,
            "left": null
          }
        },
        "85ca860067b148a4a218a48654b27f88": {
          "model_module": "@jupyter-widgets/controls",
          "model_name": "FloatProgressModel",
          "state": {
            "_view_name": "ProgressView",
            "style": "IPY_MODEL_b54941da86554d8483399ab369628de7",
            "_dom_classes": [],
            "description": "",
            "_model_name": "FloatProgressModel",
            "bar_style": "info",
            "max": 1,
            "_view_module": "@jupyter-widgets/controls",
            "_model_module_version": "1.5.0",
            "value": 1,
            "_view_count": null,
            "_view_module_version": "1.5.0",
            "orientation": "horizontal",
            "min": 0,
            "description_tooltip": null,
            "_model_module": "@jupyter-widgets/controls",
            "layout": "IPY_MODEL_dc498f0c12f54bfe87e1bd0a508cc182"
          }
        },
        "ec8b7adc1cba416f93e335dd19f4df58": {
          "model_module": "@jupyter-widgets/controls",
          "model_name": "HTMLModel",
          "state": {
            "_view_name": "HTMLView",
            "style": "IPY_MODEL_bfbb4b8731d84a9bbce8f692fcb6376b",
            "_dom_classes": [],
            "description": "",
            "_model_name": "HTMLModel",
            "placeholder": "​",
            "_view_module": "@jupyter-widgets/controls",
            "_model_module_version": "1.5.0",
            "value": " 9920512/? [00:20&lt;00:00, 785914.38it/s]",
            "_view_count": null,
            "_view_module_version": "1.5.0",
            "description_tooltip": null,
            "_model_module": "@jupyter-widgets/controls",
            "layout": "IPY_MODEL_718577fca2aa490a93d16d152f0c9ffd"
          }
        },
        "b54941da86554d8483399ab369628de7": {
          "model_module": "@jupyter-widgets/controls",
          "model_name": "ProgressStyleModel",
          "state": {
            "_view_name": "StyleView",
            "_model_name": "ProgressStyleModel",
            "description_width": "initial",
            "_view_module": "@jupyter-widgets/base",
            "_model_module_version": "1.5.0",
            "_view_count": null,
            "_view_module_version": "1.2.0",
            "bar_color": null,
            "_model_module": "@jupyter-widgets/controls"
          }
        },
        "dc498f0c12f54bfe87e1bd0a508cc182": {
          "model_module": "@jupyter-widgets/base",
          "model_name": "LayoutModel",
          "state": {
            "_view_name": "LayoutView",
            "grid_template_rows": null,
            "right": null,
            "justify_content": null,
            "_view_module": "@jupyter-widgets/base",
            "overflow": null,
            "_model_module_version": "1.2.0",
            "_view_count": null,
            "flex_flow": null,
            "width": null,
            "min_width": null,
            "border": null,
            "align_items": null,
            "bottom": null,
            "_model_module": "@jupyter-widgets/base",
            "top": null,
            "grid_column": null,
            "overflow_y": null,
            "overflow_x": null,
            "grid_auto_flow": null,
            "grid_area": null,
            "grid_template_columns": null,
            "flex": null,
            "_model_name": "LayoutModel",
            "justify_items": null,
            "grid_row": null,
            "max_height": null,
            "align_content": null,
            "visibility": null,
            "align_self": null,
            "height": null,
            "min_height": null,
            "padding": null,
            "grid_auto_rows": null,
            "grid_gap": null,
            "max_width": null,
            "order": null,
            "_view_module_version": "1.2.0",
            "grid_template_areas": null,
            "object_position": null,
            "object_fit": null,
            "grid_auto_columns": null,
            "margin": null,
            "display": null,
            "left": null
          }
        },
        "bfbb4b8731d84a9bbce8f692fcb6376b": {
          "model_module": "@jupyter-widgets/controls",
          "model_name": "DescriptionStyleModel",
          "state": {
            "_view_name": "StyleView",
            "_model_name": "DescriptionStyleModel",
            "description_width": "",
            "_view_module": "@jupyter-widgets/base",
            "_model_module_version": "1.5.0",
            "_view_count": null,
            "_view_module_version": "1.2.0",
            "_model_module": "@jupyter-widgets/controls"
          }
        },
        "718577fca2aa490a93d16d152f0c9ffd": {
          "model_module": "@jupyter-widgets/base",
          "model_name": "LayoutModel",
          "state": {
            "_view_name": "LayoutView",
            "grid_template_rows": null,
            "right": null,
            "justify_content": null,
            "_view_module": "@jupyter-widgets/base",
            "overflow": null,
            "_model_module_version": "1.2.0",
            "_view_count": null,
            "flex_flow": null,
            "width": null,
            "min_width": null,
            "border": null,
            "align_items": null,
            "bottom": null,
            "_model_module": "@jupyter-widgets/base",
            "top": null,
            "grid_column": null,
            "overflow_y": null,
            "overflow_x": null,
            "grid_auto_flow": null,
            "grid_area": null,
            "grid_template_columns": null,
            "flex": null,
            "_model_name": "LayoutModel",
            "justify_items": null,
            "grid_row": null,
            "max_height": null,
            "align_content": null,
            "visibility": null,
            "align_self": null,
            "height": null,
            "min_height": null,
            "padding": null,
            "grid_auto_rows": null,
            "grid_gap": null,
            "max_width": null,
            "order": null,
            "_view_module_version": "1.2.0",
            "grid_template_areas": null,
            "object_position": null,
            "object_fit": null,
            "grid_auto_columns": null,
            "margin": null,
            "display": null,
            "left": null
          }
        },
        "afcb959600e8467eb56bc62185466931": {
          "model_module": "@jupyter-widgets/controls",
          "model_name": "HBoxModel",
          "state": {
            "_view_name": "HBoxView",
            "_dom_classes": [],
            "_model_name": "HBoxModel",
            "_view_module": "@jupyter-widgets/controls",
            "_model_module_version": "1.5.0",
            "_view_count": null,
            "_view_module_version": "1.5.0",
            "box_style": "",
            "layout": "IPY_MODEL_40144750ec3444d4b296f3245e02deb1",
            "_model_module": "@jupyter-widgets/controls",
            "children": [
              "IPY_MODEL_bb1e796de7fb43b0929417c46f9b1a15",
              "IPY_MODEL_4e53786181e84c7b96fccffb43a0c21f"
            ]
          }
        },
        "40144750ec3444d4b296f3245e02deb1": {
          "model_module": "@jupyter-widgets/base",
          "model_name": "LayoutModel",
          "state": {
            "_view_name": "LayoutView",
            "grid_template_rows": null,
            "right": null,
            "justify_content": null,
            "_view_module": "@jupyter-widgets/base",
            "overflow": null,
            "_model_module_version": "1.2.0",
            "_view_count": null,
            "flex_flow": null,
            "width": null,
            "min_width": null,
            "border": null,
            "align_items": null,
            "bottom": null,
            "_model_module": "@jupyter-widgets/base",
            "top": null,
            "grid_column": null,
            "overflow_y": null,
            "overflow_x": null,
            "grid_auto_flow": null,
            "grid_area": null,
            "grid_template_columns": null,
            "flex": null,
            "_model_name": "LayoutModel",
            "justify_items": null,
            "grid_row": null,
            "max_height": null,
            "align_content": null,
            "visibility": null,
            "align_self": null,
            "height": null,
            "min_height": null,
            "padding": null,
            "grid_auto_rows": null,
            "grid_gap": null,
            "max_width": null,
            "order": null,
            "_view_module_version": "1.2.0",
            "grid_template_areas": null,
            "object_position": null,
            "object_fit": null,
            "grid_auto_columns": null,
            "margin": null,
            "display": null,
            "left": null
          }
        },
        "bb1e796de7fb43b0929417c46f9b1a15": {
          "model_module": "@jupyter-widgets/controls",
          "model_name": "FloatProgressModel",
          "state": {
            "_view_name": "ProgressView",
            "style": "IPY_MODEL_644afe6f99ef4284a802c84256cd72ca",
            "_dom_classes": [],
            "description": "",
            "_model_name": "FloatProgressModel",
            "bar_style": "success",
            "max": 1,
            "_view_module": "@jupyter-widgets/controls",
            "_model_module_version": "1.5.0",
            "value": 1,
            "_view_count": null,
            "_view_module_version": "1.5.0",
            "orientation": "horizontal",
            "min": 0,
            "description_tooltip": null,
            "_model_module": "@jupyter-widgets/controls",
            "layout": "IPY_MODEL_329e9efdf9c641ba937b08ac63b973c4"
          }
        },
        "4e53786181e84c7b96fccffb43a0c21f": {
          "model_module": "@jupyter-widgets/controls",
          "model_name": "HTMLModel",
          "state": {
            "_view_name": "HTMLView",
            "style": "IPY_MODEL_9db1de4e005d4299ade398a9f4f4a660",
            "_dom_classes": [],
            "description": "",
            "_model_name": "HTMLModel",
            "placeholder": "​",
            "_view_module": "@jupyter-widgets/controls",
            "_model_module_version": "1.5.0",
            "value": " 32768/? [00:03&lt;00:00, 8211.81it/s]",
            "_view_count": null,
            "_view_module_version": "1.5.0",
            "description_tooltip": null,
            "_model_module": "@jupyter-widgets/controls",
            "layout": "IPY_MODEL_490bbfe6207144efb18c3928bd8e303f"
          }
        },
        "644afe6f99ef4284a802c84256cd72ca": {
          "model_module": "@jupyter-widgets/controls",
          "model_name": "ProgressStyleModel",
          "state": {
            "_view_name": "StyleView",
            "_model_name": "ProgressStyleModel",
            "description_width": "initial",
            "_view_module": "@jupyter-widgets/base",
            "_model_module_version": "1.5.0",
            "_view_count": null,
            "_view_module_version": "1.2.0",
            "bar_color": null,
            "_model_module": "@jupyter-widgets/controls"
          }
        },
        "329e9efdf9c641ba937b08ac63b973c4": {
          "model_module": "@jupyter-widgets/base",
          "model_name": "LayoutModel",
          "state": {
            "_view_name": "LayoutView",
            "grid_template_rows": null,
            "right": null,
            "justify_content": null,
            "_view_module": "@jupyter-widgets/base",
            "overflow": null,
            "_model_module_version": "1.2.0",
            "_view_count": null,
            "flex_flow": null,
            "width": null,
            "min_width": null,
            "border": null,
            "align_items": null,
            "bottom": null,
            "_model_module": "@jupyter-widgets/base",
            "top": null,
            "grid_column": null,
            "overflow_y": null,
            "overflow_x": null,
            "grid_auto_flow": null,
            "grid_area": null,
            "grid_template_columns": null,
            "flex": null,
            "_model_name": "LayoutModel",
            "justify_items": null,
            "grid_row": null,
            "max_height": null,
            "align_content": null,
            "visibility": null,
            "align_self": null,
            "height": null,
            "min_height": null,
            "padding": null,
            "grid_auto_rows": null,
            "grid_gap": null,
            "max_width": null,
            "order": null,
            "_view_module_version": "1.2.0",
            "grid_template_areas": null,
            "object_position": null,
            "object_fit": null,
            "grid_auto_columns": null,
            "margin": null,
            "display": null,
            "left": null
          }
        },
        "9db1de4e005d4299ade398a9f4f4a660": {
          "model_module": "@jupyter-widgets/controls",
          "model_name": "DescriptionStyleModel",
          "state": {
            "_view_name": "StyleView",
            "_model_name": "DescriptionStyleModel",
            "description_width": "",
            "_view_module": "@jupyter-widgets/base",
            "_model_module_version": "1.5.0",
            "_view_count": null,
            "_view_module_version": "1.2.0",
            "_model_module": "@jupyter-widgets/controls"
          }
        },
        "490bbfe6207144efb18c3928bd8e303f": {
          "model_module": "@jupyter-widgets/base",
          "model_name": "LayoutModel",
          "state": {
            "_view_name": "LayoutView",
            "grid_template_rows": null,
            "right": null,
            "justify_content": null,
            "_view_module": "@jupyter-widgets/base",
            "overflow": null,
            "_model_module_version": "1.2.0",
            "_view_count": null,
            "flex_flow": null,
            "width": null,
            "min_width": null,
            "border": null,
            "align_items": null,
            "bottom": null,
            "_model_module": "@jupyter-widgets/base",
            "top": null,
            "grid_column": null,
            "overflow_y": null,
            "overflow_x": null,
            "grid_auto_flow": null,
            "grid_area": null,
            "grid_template_columns": null,
            "flex": null,
            "_model_name": "LayoutModel",
            "justify_items": null,
            "grid_row": null,
            "max_height": null,
            "align_content": null,
            "visibility": null,
            "align_self": null,
            "height": null,
            "min_height": null,
            "padding": null,
            "grid_auto_rows": null,
            "grid_gap": null,
            "max_width": null,
            "order": null,
            "_view_module_version": "1.2.0",
            "grid_template_areas": null,
            "object_position": null,
            "object_fit": null,
            "grid_auto_columns": null,
            "margin": null,
            "display": null,
            "left": null
          }
        },
        "9186cbf4d4ef4ce08c1cbf1c48924abb": {
          "model_module": "@jupyter-widgets/controls",
          "model_name": "HBoxModel",
          "state": {
            "_view_name": "HBoxView",
            "_dom_classes": [],
            "_model_name": "HBoxModel",
            "_view_module": "@jupyter-widgets/controls",
            "_model_module_version": "1.5.0",
            "_view_count": null,
            "_view_module_version": "1.5.0",
            "box_style": "",
            "layout": "IPY_MODEL_8b4cf3723d294c309bc379b860ff0a0b",
            "_model_module": "@jupyter-widgets/controls",
            "children": [
              "IPY_MODEL_3dc57f96c6c546b3b39ee56c64c12ea1",
              "IPY_MODEL_c04917c3ff984e1596ee0572c338793f"
            ]
          }
        },
        "8b4cf3723d294c309bc379b860ff0a0b": {
          "model_module": "@jupyter-widgets/base",
          "model_name": "LayoutModel",
          "state": {
            "_view_name": "LayoutView",
            "grid_template_rows": null,
            "right": null,
            "justify_content": null,
            "_view_module": "@jupyter-widgets/base",
            "overflow": null,
            "_model_module_version": "1.2.0",
            "_view_count": null,
            "flex_flow": null,
            "width": null,
            "min_width": null,
            "border": null,
            "align_items": null,
            "bottom": null,
            "_model_module": "@jupyter-widgets/base",
            "top": null,
            "grid_column": null,
            "overflow_y": null,
            "overflow_x": null,
            "grid_auto_flow": null,
            "grid_area": null,
            "grid_template_columns": null,
            "flex": null,
            "_model_name": "LayoutModel",
            "justify_items": null,
            "grid_row": null,
            "max_height": null,
            "align_content": null,
            "visibility": null,
            "align_self": null,
            "height": null,
            "min_height": null,
            "padding": null,
            "grid_auto_rows": null,
            "grid_gap": null,
            "max_width": null,
            "order": null,
            "_view_module_version": "1.2.0",
            "grid_template_areas": null,
            "object_position": null,
            "object_fit": null,
            "grid_auto_columns": null,
            "margin": null,
            "display": null,
            "left": null
          }
        },
        "3dc57f96c6c546b3b39ee56c64c12ea1": {
          "model_module": "@jupyter-widgets/controls",
          "model_name": "FloatProgressModel",
          "state": {
            "_view_name": "ProgressView",
            "style": "IPY_MODEL_aa39acc834ee40cd92a227b1a8ee584c",
            "_dom_classes": [],
            "description": "",
            "_model_name": "FloatProgressModel",
            "bar_style": "success",
            "max": 1,
            "_view_module": "@jupyter-widgets/controls",
            "_model_module_version": "1.5.0",
            "value": 1,
            "_view_count": null,
            "_view_module_version": "1.5.0",
            "orientation": "horizontal",
            "min": 0,
            "description_tooltip": null,
            "_model_module": "@jupyter-widgets/controls",
            "layout": "IPY_MODEL_0e17ff01d6d245bdb6031205c17d9a8e"
          }
        },
        "c04917c3ff984e1596ee0572c338793f": {
          "model_module": "@jupyter-widgets/controls",
          "model_name": "HTMLModel",
          "state": {
            "_view_name": "HTMLView",
            "style": "IPY_MODEL_dd1f06e6a7fb4096a9bc0b446774e975",
            "_dom_classes": [],
            "description": "",
            "_model_name": "HTMLModel",
            "placeholder": "​",
            "_view_module": "@jupyter-widgets/controls",
            "_model_module_version": "1.5.0",
            "value": " 1654784/? [00:03&lt;00:00, 444838.74it/s]",
            "_view_count": null,
            "_view_module_version": "1.5.0",
            "description_tooltip": null,
            "_model_module": "@jupyter-widgets/controls",
            "layout": "IPY_MODEL_a389876e65974d8598eeeab6b698f7c5"
          }
        },
        "aa39acc834ee40cd92a227b1a8ee584c": {
          "model_module": "@jupyter-widgets/controls",
          "model_name": "ProgressStyleModel",
          "state": {
            "_view_name": "StyleView",
            "_model_name": "ProgressStyleModel",
            "description_width": "initial",
            "_view_module": "@jupyter-widgets/base",
            "_model_module_version": "1.5.0",
            "_view_count": null,
            "_view_module_version": "1.2.0",
            "bar_color": null,
            "_model_module": "@jupyter-widgets/controls"
          }
        },
        "0e17ff01d6d245bdb6031205c17d9a8e": {
          "model_module": "@jupyter-widgets/base",
          "model_name": "LayoutModel",
          "state": {
            "_view_name": "LayoutView",
            "grid_template_rows": null,
            "right": null,
            "justify_content": null,
            "_view_module": "@jupyter-widgets/base",
            "overflow": null,
            "_model_module_version": "1.2.0",
            "_view_count": null,
            "flex_flow": null,
            "width": null,
            "min_width": null,
            "border": null,
            "align_items": null,
            "bottom": null,
            "_model_module": "@jupyter-widgets/base",
            "top": null,
            "grid_column": null,
            "overflow_y": null,
            "overflow_x": null,
            "grid_auto_flow": null,
            "grid_area": null,
            "grid_template_columns": null,
            "flex": null,
            "_model_name": "LayoutModel",
            "justify_items": null,
            "grid_row": null,
            "max_height": null,
            "align_content": null,
            "visibility": null,
            "align_self": null,
            "height": null,
            "min_height": null,
            "padding": null,
            "grid_auto_rows": null,
            "grid_gap": null,
            "max_width": null,
            "order": null,
            "_view_module_version": "1.2.0",
            "grid_template_areas": null,
            "object_position": null,
            "object_fit": null,
            "grid_auto_columns": null,
            "margin": null,
            "display": null,
            "left": null
          }
        },
        "dd1f06e6a7fb4096a9bc0b446774e975": {
          "model_module": "@jupyter-widgets/controls",
          "model_name": "DescriptionStyleModel",
          "state": {
            "_view_name": "StyleView",
            "_model_name": "DescriptionStyleModel",
            "description_width": "",
            "_view_module": "@jupyter-widgets/base",
            "_model_module_version": "1.5.0",
            "_view_count": null,
            "_view_module_version": "1.2.0",
            "_model_module": "@jupyter-widgets/controls"
          }
        },
        "a389876e65974d8598eeeab6b698f7c5": {
          "model_module": "@jupyter-widgets/base",
          "model_name": "LayoutModel",
          "state": {
            "_view_name": "LayoutView",
            "grid_template_rows": null,
            "right": null,
            "justify_content": null,
            "_view_module": "@jupyter-widgets/base",
            "overflow": null,
            "_model_module_version": "1.2.0",
            "_view_count": null,
            "flex_flow": null,
            "width": null,
            "min_width": null,
            "border": null,
            "align_items": null,
            "bottom": null,
            "_model_module": "@jupyter-widgets/base",
            "top": null,
            "grid_column": null,
            "overflow_y": null,
            "overflow_x": null,
            "grid_auto_flow": null,
            "grid_area": null,
            "grid_template_columns": null,
            "flex": null,
            "_model_name": "LayoutModel",
            "justify_items": null,
            "grid_row": null,
            "max_height": null,
            "align_content": null,
            "visibility": null,
            "align_self": null,
            "height": null,
            "min_height": null,
            "padding": null,
            "grid_auto_rows": null,
            "grid_gap": null,
            "max_width": null,
            "order": null,
            "_view_module_version": "1.2.0",
            "grid_template_areas": null,
            "object_position": null,
            "object_fit": null,
            "grid_auto_columns": null,
            "margin": null,
            "display": null,
            "left": null
          }
        },
        "5cb42140ab9045968b62a6922acc0435": {
          "model_module": "@jupyter-widgets/controls",
          "model_name": "HBoxModel",
          "state": {
            "_view_name": "HBoxView",
            "_dom_classes": [],
            "_model_name": "HBoxModel",
            "_view_module": "@jupyter-widgets/controls",
            "_model_module_version": "1.5.0",
            "_view_count": null,
            "_view_module_version": "1.5.0",
            "box_style": "",
            "layout": "IPY_MODEL_5162ddf9ddec48c2bf3dc60f3bee6bae",
            "_model_module": "@jupyter-widgets/controls",
            "children": [
              "IPY_MODEL_0ea2d2a16eba45449b369af634007072",
              "IPY_MODEL_0868cd3e078b4bd4b6e14dc6bffea1a2"
            ]
          }
        },
        "5162ddf9ddec48c2bf3dc60f3bee6bae": {
          "model_module": "@jupyter-widgets/base",
          "model_name": "LayoutModel",
          "state": {
            "_view_name": "LayoutView",
            "grid_template_rows": null,
            "right": null,
            "justify_content": null,
            "_view_module": "@jupyter-widgets/base",
            "overflow": null,
            "_model_module_version": "1.2.0",
            "_view_count": null,
            "flex_flow": null,
            "width": null,
            "min_width": null,
            "border": null,
            "align_items": null,
            "bottom": null,
            "_model_module": "@jupyter-widgets/base",
            "top": null,
            "grid_column": null,
            "overflow_y": null,
            "overflow_x": null,
            "grid_auto_flow": null,
            "grid_area": null,
            "grid_template_columns": null,
            "flex": null,
            "_model_name": "LayoutModel",
            "justify_items": null,
            "grid_row": null,
            "max_height": null,
            "align_content": null,
            "visibility": null,
            "align_self": null,
            "height": null,
            "min_height": null,
            "padding": null,
            "grid_auto_rows": null,
            "grid_gap": null,
            "max_width": null,
            "order": null,
            "_view_module_version": "1.2.0",
            "grid_template_areas": null,
            "object_position": null,
            "object_fit": null,
            "grid_auto_columns": null,
            "margin": null,
            "display": null,
            "left": null
          }
        },
        "0ea2d2a16eba45449b369af634007072": {
          "model_module": "@jupyter-widgets/controls",
          "model_name": "FloatProgressModel",
          "state": {
            "_view_name": "ProgressView",
            "style": "IPY_MODEL_0ead2acab25c4901a908ef9500b11ccf",
            "_dom_classes": [],
            "description": "",
            "_model_name": "FloatProgressModel",
            "bar_style": "success",
            "max": 1,
            "_view_module": "@jupyter-widgets/controls",
            "_model_module_version": "1.5.0",
            "value": 1,
            "_view_count": null,
            "_view_module_version": "1.5.0",
            "orientation": "horizontal",
            "min": 0,
            "description_tooltip": null,
            "_model_module": "@jupyter-widgets/controls",
            "layout": "IPY_MODEL_35c8c842d31543bbaf97ef9cec95b136"
          }
        },
        "0868cd3e078b4bd4b6e14dc6bffea1a2": {
          "model_module": "@jupyter-widgets/controls",
          "model_name": "HTMLModel",
          "state": {
            "_view_name": "HTMLView",
            "style": "IPY_MODEL_0c2d7f97383d4d34a5ba61d93ae1dd85",
            "_dom_classes": [],
            "description": "",
            "_model_name": "HTMLModel",
            "placeholder": "​",
            "_view_module": "@jupyter-widgets/controls",
            "_model_module_version": "1.5.0",
            "value": " 8192/? [00:03&lt;00:00, 2724.36it/s]",
            "_view_count": null,
            "_view_module_version": "1.5.0",
            "description_tooltip": null,
            "_model_module": "@jupyter-widgets/controls",
            "layout": "IPY_MODEL_b77cc124c85b4a7680f684c956320a6e"
          }
        },
        "0ead2acab25c4901a908ef9500b11ccf": {
          "model_module": "@jupyter-widgets/controls",
          "model_name": "ProgressStyleModel",
          "state": {
            "_view_name": "StyleView",
            "_model_name": "ProgressStyleModel",
            "description_width": "initial",
            "_view_module": "@jupyter-widgets/base",
            "_model_module_version": "1.5.0",
            "_view_count": null,
            "_view_module_version": "1.2.0",
            "bar_color": null,
            "_model_module": "@jupyter-widgets/controls"
          }
        },
        "35c8c842d31543bbaf97ef9cec95b136": {
          "model_module": "@jupyter-widgets/base",
          "model_name": "LayoutModel",
          "state": {
            "_view_name": "LayoutView",
            "grid_template_rows": null,
            "right": null,
            "justify_content": null,
            "_view_module": "@jupyter-widgets/base",
            "overflow": null,
            "_model_module_version": "1.2.0",
            "_view_count": null,
            "flex_flow": null,
            "width": null,
            "min_width": null,
            "border": null,
            "align_items": null,
            "bottom": null,
            "_model_module": "@jupyter-widgets/base",
            "top": null,
            "grid_column": null,
            "overflow_y": null,
            "overflow_x": null,
            "grid_auto_flow": null,
            "grid_area": null,
            "grid_template_columns": null,
            "flex": null,
            "_model_name": "LayoutModel",
            "justify_items": null,
            "grid_row": null,
            "max_height": null,
            "align_content": null,
            "visibility": null,
            "align_self": null,
            "height": null,
            "min_height": null,
            "padding": null,
            "grid_auto_rows": null,
            "grid_gap": null,
            "max_width": null,
            "order": null,
            "_view_module_version": "1.2.0",
            "grid_template_areas": null,
            "object_position": null,
            "object_fit": null,
            "grid_auto_columns": null,
            "margin": null,
            "display": null,
            "left": null
          }
        },
        "0c2d7f97383d4d34a5ba61d93ae1dd85": {
          "model_module": "@jupyter-widgets/controls",
          "model_name": "DescriptionStyleModel",
          "state": {
            "_view_name": "StyleView",
            "_model_name": "DescriptionStyleModel",
            "description_width": "",
            "_view_module": "@jupyter-widgets/base",
            "_model_module_version": "1.5.0",
            "_view_count": null,
            "_view_module_version": "1.2.0",
            "_model_module": "@jupyter-widgets/controls"
          }
        },
        "b77cc124c85b4a7680f684c956320a6e": {
          "model_module": "@jupyter-widgets/base",
          "model_name": "LayoutModel",
          "state": {
            "_view_name": "LayoutView",
            "grid_template_rows": null,
            "right": null,
            "justify_content": null,
            "_view_module": "@jupyter-widgets/base",
            "overflow": null,
            "_model_module_version": "1.2.0",
            "_view_count": null,
            "flex_flow": null,
            "width": null,
            "min_width": null,
            "border": null,
            "align_items": null,
            "bottom": null,
            "_model_module": "@jupyter-widgets/base",
            "top": null,
            "grid_column": null,
            "overflow_y": null,
            "overflow_x": null,
            "grid_auto_flow": null,
            "grid_area": null,
            "grid_template_columns": null,
            "flex": null,
            "_model_name": "LayoutModel",
            "justify_items": null,
            "grid_row": null,
            "max_height": null,
            "align_content": null,
            "visibility": null,
            "align_self": null,
            "height": null,
            "min_height": null,
            "padding": null,
            "grid_auto_rows": null,
            "grid_gap": null,
            "max_width": null,
            "order": null,
            "_view_module_version": "1.2.0",
            "grid_template_areas": null,
            "object_position": null,
            "object_fit": null,
            "grid_auto_columns": null,
            "margin": null,
            "display": null,
            "left": null
          }
        }
      }
    }
  },
  "cells": [
    {
      "cell_type": "markdown",
      "metadata": {
        "id": "view-in-github",
        "colab_type": "text"
      },
      "source": [
        "<a href=\"https://colab.research.google.com/github/Seouyang/Today-I-Learned/blob/master/logistic_regression_and_MLP.ipynb\" target=\"_parent\"><img src=\"https://colab.research.google.com/assets/colab-badge.svg\" alt=\"Open In Colab\"/></a>"
      ]
    },
    {
      "cell_type": "code",
      "metadata": {
        "id": "UoQW_tV4Dan8"
      },
      "source": [
        "import torch\r\n",
        "import torch.nn as nn\r\n",
        "import torch.nn.functional as F\r\n",
        "import torch.optim as optim\r\n",
        "from torch.utils.data import DataLoader\r\n",
        "import torchvision\r\n",
        "import torchvision.transforms as transforms"
      ],
      "execution_count": 2,
      "outputs": []
    },
    {
      "cell_type": "code",
      "metadata": {
        "id": "fKpwPonYQtJk"
      },
      "source": [
        "print(torch.cuda.is_available())"
      ],
      "execution_count": null,
      "outputs": []
    },
    {
      "cell_type": "code",
      "metadata": {
        "colab": {
          "base_uri": "https://localhost:8080/",
          "height": 383,
          "referenced_widgets": [
            "96c13adaf77243a4907eed7f2f4a608e",
            "678043d9a19a47fc94510e39a0640d7a",
            "85ca860067b148a4a218a48654b27f88",
            "ec8b7adc1cba416f93e335dd19f4df58",
            "b54941da86554d8483399ab369628de7",
            "dc498f0c12f54bfe87e1bd0a508cc182",
            "bfbb4b8731d84a9bbce8f692fcb6376b",
            "718577fca2aa490a93d16d152f0c9ffd",
            "afcb959600e8467eb56bc62185466931",
            "40144750ec3444d4b296f3245e02deb1",
            "bb1e796de7fb43b0929417c46f9b1a15",
            "4e53786181e84c7b96fccffb43a0c21f",
            "644afe6f99ef4284a802c84256cd72ca",
            "329e9efdf9c641ba937b08ac63b973c4",
            "9db1de4e005d4299ade398a9f4f4a660",
            "490bbfe6207144efb18c3928bd8e303f",
            "9186cbf4d4ef4ce08c1cbf1c48924abb",
            "8b4cf3723d294c309bc379b860ff0a0b",
            "3dc57f96c6c546b3b39ee56c64c12ea1",
            "c04917c3ff984e1596ee0572c338793f",
            "aa39acc834ee40cd92a227b1a8ee584c",
            "0e17ff01d6d245bdb6031205c17d9a8e",
            "dd1f06e6a7fb4096a9bc0b446774e975",
            "a389876e65974d8598eeeab6b698f7c5",
            "5cb42140ab9045968b62a6922acc0435",
            "5162ddf9ddec48c2bf3dc60f3bee6bae",
            "0ea2d2a16eba45449b369af634007072",
            "0868cd3e078b4bd4b6e14dc6bffea1a2",
            "0ead2acab25c4901a908ef9500b11ccf",
            "35c8c842d31543bbaf97ef9cec95b136",
            "0c2d7f97383d4d34a5ba61d93ae1dd85",
            "b77cc124c85b4a7680f684c956320a6e"
          ]
        },
        "id": "XTy6nz3cO-h3",
        "outputId": "1b3904e9-6236-484e-bbbb-65e8561f6d50"
      },
      "source": [
        "#MNIST dataset\r\n",
        "train_dataset = torchvision.datasets.MNIST(root='./', train=True, transform=transforms.ToTensor(), download=True)\r\n",
        "test_dataset = torchvision.datasets.MNIST(root='./', train=False, transform=transforms.ToTensor())\r\n",
        "\r\n",
        "#Data loader\r\n",
        "train_loader = DataLoader(dataset=train_dataset, batch_size=128, shuffle=True)\r\n",
        "test_loader = DataLoader(dataset=test_dataset, batch_size=100, shuffle=False)"
      ],
      "execution_count": 4,
      "outputs": [
        {
          "output_type": "stream",
          "text": [
            "Downloading http://yann.lecun.com/exdb/mnist/train-images-idx3-ubyte.gz to ./MNIST/raw/train-images-idx3-ubyte.gz\n"
          ],
          "name": "stdout"
        },
        {
          "output_type": "display_data",
          "data": {
            "application/vnd.jupyter.widget-view+json": {
              "model_id": "96c13adaf77243a4907eed7f2f4a608e",
              "version_minor": 0,
              "version_major": 2
            },
            "text/plain": [
              "HBox(children=(FloatProgress(value=1.0, bar_style='info', max=1.0), HTML(value='')))"
            ]
          },
          "metadata": {
            "tags": []
          }
        },
        {
          "output_type": "stream",
          "text": [
            "Extracting ./MNIST/raw/train-images-idx3-ubyte.gz to ./MNIST/raw\n",
            "Downloading http://yann.lecun.com/exdb/mnist/train-labels-idx1-ubyte.gz to ./MNIST/raw/train-labels-idx1-ubyte.gz\n"
          ],
          "name": "stdout"
        },
        {
          "output_type": "display_data",
          "data": {
            "application/vnd.jupyter.widget-view+json": {
              "model_id": "afcb959600e8467eb56bc62185466931",
              "version_minor": 0,
              "version_major": 2
            },
            "text/plain": [
              "HBox(children=(FloatProgress(value=1.0, bar_style='info', max=1.0), HTML(value='')))"
            ]
          },
          "metadata": {
            "tags": []
          }
        },
        {
          "output_type": "stream",
          "text": [
            "Extracting ./MNIST/raw/train-labels-idx1-ubyte.gz to ./MNIST/raw\n",
            "Downloading http://yann.lecun.com/exdb/mnist/t10k-images-idx3-ubyte.gz to ./MNIST/raw/t10k-images-idx3-ubyte.gz\n"
          ],
          "name": "stdout"
        },
        {
          "output_type": "display_data",
          "data": {
            "application/vnd.jupyter.widget-view+json": {
              "model_id": "9186cbf4d4ef4ce08c1cbf1c48924abb",
              "version_minor": 0,
              "version_major": 2
            },
            "text/plain": [
              "HBox(children=(FloatProgress(value=1.0, bar_style='info', max=1.0), HTML(value='')))"
            ]
          },
          "metadata": {
            "tags": []
          }
        },
        {
          "output_type": "stream",
          "text": [
            "Extracting ./MNIST/raw/t10k-images-idx3-ubyte.gz to ./MNIST/raw\n",
            "Downloading http://yann.lecun.com/exdb/mnist/t10k-labels-idx1-ubyte.gz to ./MNIST/raw/t10k-labels-idx1-ubyte.gz\n"
          ],
          "name": "stdout"
        },
        {
          "output_type": "display_data",
          "data": {
            "application/vnd.jupyter.widget-view+json": {
              "model_id": "5cb42140ab9045968b62a6922acc0435",
              "version_minor": 0,
              "version_major": 2
            },
            "text/plain": [
              "HBox(children=(FloatProgress(value=1.0, bar_style='info', max=1.0), HTML(value='')))"
            ]
          },
          "metadata": {
            "tags": []
          }
        },
        {
          "output_type": "stream",
          "text": [
            "Extracting ./MNIST/raw/t10k-labels-idx1-ubyte.gz to ./MNIST/raw\n",
            "Processing...\n",
            "Done!\n"
          ],
          "name": "stdout"
        },
        {
          "output_type": "stream",
          "text": [
            "/usr/local/lib/python3.6/dist-packages/torchvision/datasets/mnist.py:480: UserWarning: The given NumPy array is not writeable, and PyTorch does not support non-writeable tensors. This means you can write to the underlying (supposedly non-writeable) NumPy array using the tensor. You may want to copy the array to protect its data or make it writeable before converting it to a tensor. This type of warning will be suppressed for the rest of this program. (Triggered internally at  /pytorch/torch/csrc/utils/tensor_numpy.cpp:141.)\n",
            "  return torch.from_numpy(parsed.astype(m[2], copy=False)).view(*s)\n"
          ],
          "name": "stderr"
        }
      ]
    },
    {
      "cell_type": "markdown",
      "metadata": {
        "id": "NKR9qfr0TL1S"
      },
      "source": [
        "# Logistic regression \r\n",
        "Logistic regression is a kind of single layer neural network.\r\n",
        "\r\n",
        "![image.png](data:image/png;base64,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)"
      ]
    },
    {
      "cell_type": "code",
      "metadata": {
        "colab": {
          "base_uri": "https://localhost:8080/"
        },
        "id": "II2Kx34APiAs",
        "outputId": "4501c69e-9909-4cbb-94d5-b268676aca0b"
      },
      "source": [
        "class Multinomial_logistic_regression(nn.Module):\r\n",
        "  def __init__(self, input_size, output_size):\r\n",
        "    super(Multinomial_logistic_regression, self).__init__()\r\n",
        "    self.fc = nn.Linear(input_size, output_size)\r\n",
        "\r\n",
        "  def forward(self, x):\r\n",
        "    out = self.fc(x)\r\n",
        "    return out"
      ],
      "execution_count": 5,
      "outputs": [
        {
          "output_type": "stream",
          "text": [
            "\n",
            "\n",
            "\n"
          ],
          "name": "stdout"
        }
      ]
    },
    {
      "cell_type": "code",
      "metadata": {
        "colab": {
          "base_uri": "https://localhost:8080/"
        },
        "id": "aYGAYyH0P5Cs",
        "outputId": "47418c6d-0d08-4177-d49e-ec02b5880b77"
      },
      "source": [
        "model = Multinomial_logistic_regression(784, 10)\r\n",
        "model"
      ],
      "execution_count": 6,
      "outputs": [
        {
          "output_type": "execute_result",
          "data": {
            "text/plain": [
              "Multinomial_logistic_regression(\n",
              "  (fc): Linear(in_features=784, out_features=10, bias=True)\n",
              ")"
            ]
          },
          "metadata": {
            "tags": []
          },
          "execution_count": 6
        }
      ]
    },
    {
      "cell_type": "code",
      "metadata": {
        "id": "qNoFa3K2P9Qr"
      },
      "source": [
        "model = model.to('cuda')"
      ],
      "execution_count": 7,
      "outputs": []
    },
    {
      "cell_type": "code",
      "metadata": {
        "id": "OwYS8dAiP_0T"
      },
      "source": [
        "#Optimizer define\r\n",
        "optimizer = torch.optim.SGD(model.parameters(), lr=0.05, momentum=0.9)"
      ],
      "execution_count": 8,
      "outputs": []
    },
    {
      "cell_type": "code",
      "metadata": {
        "colab": {
          "base_uri": "https://localhost:8080/"
        },
        "id": "ES0uCm58Q-q_",
        "outputId": "84ddb6ba-4a42-46f6-fa8d-717d7cf43612"
      },
      "source": [
        "#training\r\n",
        "loss_fn = nn.CrossEntropyLoss()\r\n",
        "total_step = len(train_loader)\r\n",
        "\r\n",
        "for epoch in range(10):\r\n",
        "  for i, (images, labels) in enumerate(train_loader):\r\n",
        "    images = images.reshape(-1, 28*28).to('cuda')\r\n",
        "    labels = labels.to('cuda')\r\n",
        "\r\n",
        "    #forward\r\n",
        "    outputs = model(images)\r\n",
        "    loss = loss_fn(outputs, labels)\r\n",
        "\r\n",
        "    #backward\r\n",
        "    optimizer.zero_grad()\r\n",
        "    loss.backward()\r\n",
        "    optimizer.step()\r\n",
        "\r\n",
        "    if (i+1) % 100 == 0:\r\n",
        "      print('Epoch [{}/{}], Step [{}/{}], Loss: {:.4f}'.format(epoch+1, 10, i+1, total_step, loss.item()))"
      ],
      "execution_count": 9,
      "outputs": [
        {
          "output_type": "stream",
          "text": [
            "Epoch [1/10], Step [100/469], Loss: 0.3318\n",
            "Epoch [1/10], Step [200/469], Loss: 0.3021\n",
            "Epoch [1/10], Step [300/469], Loss: 0.3264\n",
            "Epoch [1/10], Step [400/469], Loss: 0.3925\n",
            "Epoch [2/10], Step [100/469], Loss: 0.3167\n",
            "Epoch [2/10], Step [200/469], Loss: 0.3484\n",
            "Epoch [2/10], Step [300/469], Loss: 0.3375\n",
            "Epoch [2/10], Step [400/469], Loss: 0.2203\n",
            "Epoch [3/10], Step [100/469], Loss: 0.2376\n",
            "Epoch [3/10], Step [200/469], Loss: 0.3475\n",
            "Epoch [3/10], Step [300/469], Loss: 0.2735\n",
            "Epoch [3/10], Step [400/469], Loss: 0.3972\n",
            "Epoch [4/10], Step [100/469], Loss: 0.1696\n",
            "Epoch [4/10], Step [200/469], Loss: 0.3397\n",
            "Epoch [4/10], Step [300/469], Loss: 0.3669\n",
            "Epoch [4/10], Step [400/469], Loss: 0.5867\n",
            "Epoch [5/10], Step [100/469], Loss: 0.3101\n",
            "Epoch [5/10], Step [200/469], Loss: 0.3386\n",
            "Epoch [5/10], Step [300/469], Loss: 0.2643\n",
            "Epoch [5/10], Step [400/469], Loss: 0.2459\n",
            "Epoch [6/10], Step [100/469], Loss: 0.2250\n",
            "Epoch [6/10], Step [200/469], Loss: 0.2108\n",
            "Epoch [6/10], Step [300/469], Loss: 0.3551\n",
            "Epoch [6/10], Step [400/469], Loss: 0.2472\n",
            "Epoch [7/10], Step [100/469], Loss: 0.3195\n",
            "Epoch [7/10], Step [200/469], Loss: 0.3110\n",
            "Epoch [7/10], Step [300/469], Loss: 0.2567\n",
            "Epoch [7/10], Step [400/469], Loss: 0.1345\n",
            "Epoch [8/10], Step [100/469], Loss: 0.2346\n",
            "Epoch [8/10], Step [200/469], Loss: 0.2738\n",
            "Epoch [8/10], Step [300/469], Loss: 0.3890\n",
            "Epoch [8/10], Step [400/469], Loss: 0.3498\n",
            "Epoch [9/10], Step [100/469], Loss: 0.2957\n",
            "Epoch [9/10], Step [200/469], Loss: 0.2182\n",
            "Epoch [9/10], Step [300/469], Loss: 0.2959\n",
            "Epoch [9/10], Step [400/469], Loss: 0.1943\n",
            "Epoch [10/10], Step [100/469], Loss: 0.2449\n",
            "Epoch [10/10], Step [200/469], Loss: 0.1803\n",
            "Epoch [10/10], Step [300/469], Loss: 0.2950\n",
            "Epoch [10/10], Step [400/469], Loss: 0.3783\n"
          ],
          "name": "stdout"
        }
      ]
    },
    {
      "cell_type": "code",
      "metadata": {
        "id": "_CYcG6xDRogD"
      },
      "source": [
        "#test\r\n",
        "with torch.no_grad():\r\n",
        "  correct = 0\r\n",
        "  total = 0\r\n",
        "  for images, labels in test_loader:\r\n",
        "    images = images.reshape(-1, 28*28).to('cuda')\r\n",
        "    labels = labels.to('cuda')\r\n",
        "    outputs = model(images)\r\n",
        "    _, predicted = torch.max(outputs.data, 1) #max returns max_elements, max_idxs. We used dim=1 to find the maximum along the rows\r\n",
        "    total += labels.size(0)\r\n",
        "    correct += (predicted == labels).sum().item()\r\n",
        "  print('Accuracy of the network on the 10000 test images: {} %'.format(100*correct/total))"
      ],
      "execution_count": null,
      "outputs": []
    },
    {
      "cell_type": "markdown",
      "metadata": {
        "id": "FgfgLzSuTa2z"
      },
      "source": [
        "# MLP (Multi-layer perceptron)\r\n",
        "MLP is a neural network with multiple hidden layers."
      ]
    },
    {
      "cell_type": "code",
      "metadata": {
        "id": "kap48Mn2SUIK"
      },
      "source": [
        "class NeuralNet(nn.Module):\r\n",
        "  def __init__(self, input_size, hidden_size, output_size):\r\n",
        "    super(NeuralNet, self).__init__()\r\n",
        "    self.fc1 = nn.Linear(input_size, hidden_size)\r\n",
        "    self.fc2 = nn.Linear(hidden_size, hidden_size)\r\n",
        "    self.fc3 = nn.Linear(hidden_size, output_size)\r\n",
        "    self.sigmoid = nn.Sigmoid()\r\n",
        "  \r\n",
        "  def forward(self, x):\r\n",
        "    x = self.fc1(x)\r\n",
        "    x = self.sigmoid(x)\r\n",
        "    x = self.fc2(x)\r\n",
        "    x = self.sigmoid(x)\r\n",
        "    out = self.fc3(x)\r\n",
        "    return out"
      ],
      "execution_count": 11,
      "outputs": []
    },
    {
      "cell_type": "code",
      "metadata": {
        "id": "GUYrn_OMUWWC"
      },
      "source": [
        "model = NeuralNet(784, 20, 10)\r\n",
        "model = model.to('cuda')"
      ],
      "execution_count": 12,
      "outputs": []
    },
    {
      "cell_type": "code",
      "metadata": {
        "colab": {
          "base_uri": "https://localhost:8080/"
        },
        "id": "sJZFMhqGUcyw",
        "outputId": "aeb244f0-44bd-4911-db3b-aecc4194da98"
      },
      "source": [
        "#training\r\n",
        "loss_fn = nn.CrossEntropyLoss()\r\n",
        "optimizer = torch.optim.SGD(model.parameters(), lr=0.05, momentum=0.9)\r\n",
        "total_step = len(train_loader)\r\n",
        "\r\n",
        "for epoch in range(10):\r\n",
        "  for i, (images, labels) in enumerate(train_loader):\r\n",
        "    images = images.reshape(-1, 28*28).to('cuda')\r\n",
        "    labels = labels.to('cuda')\r\n",
        "\r\n",
        "    #forward\r\n",
        "    outputs = model(images)\r\n",
        "    loss = loss_fn(outputs, labels)\r\n",
        "\r\n",
        "    #backward\r\n",
        "    optimizer.zero_grad()\r\n",
        "    loss.backward()\r\n",
        "    optimizer.step()\r\n",
        "\r\n",
        "    if (i+1) % 100 == 0:\r\n",
        "      print('Epoch [{}/{}], Step [{}/{}], Loss: {:.4f}'.format(epoch+1, 10, i+1, total_step, loss.item()))"
      ],
      "execution_count": 13,
      "outputs": [
        {
          "output_type": "stream",
          "text": [
            "Epoch [1/10], Step [100/469], Loss: 2.2636\n",
            "Epoch [1/10], Step [200/469], Loss: 1.6955\n",
            "Epoch [1/10], Step [300/469], Loss: 1.0655\n",
            "Epoch [1/10], Step [400/469], Loss: 0.8552\n",
            "Epoch [2/10], Step [100/469], Loss: 0.6617\n",
            "Epoch [2/10], Step [200/469], Loss: 0.5099\n",
            "Epoch [2/10], Step [300/469], Loss: 0.4677\n",
            "Epoch [2/10], Step [400/469], Loss: 0.3045\n",
            "Epoch [3/10], Step [100/469], Loss: 0.5173\n",
            "Epoch [3/10], Step [200/469], Loss: 0.2599\n",
            "Epoch [3/10], Step [300/469], Loss: 0.3116\n",
            "Epoch [3/10], Step [400/469], Loss: 0.4061\n",
            "Epoch [4/10], Step [100/469], Loss: 0.3193\n",
            "Epoch [4/10], Step [200/469], Loss: 0.1540\n",
            "Epoch [4/10], Step [300/469], Loss: 0.1412\n",
            "Epoch [4/10], Step [400/469], Loss: 0.2230\n",
            "Epoch [5/10], Step [100/469], Loss: 0.2229\n",
            "Epoch [5/10], Step [200/469], Loss: 0.2728\n",
            "Epoch [5/10], Step [300/469], Loss: 0.2357\n",
            "Epoch [5/10], Step [400/469], Loss: 0.2102\n",
            "Epoch [6/10], Step [100/469], Loss: 0.1623\n",
            "Epoch [6/10], Step [200/469], Loss: 0.2182\n",
            "Epoch [6/10], Step [300/469], Loss: 0.1899\n",
            "Epoch [6/10], Step [400/469], Loss: 0.1495\n",
            "Epoch [7/10], Step [100/469], Loss: 0.1861\n",
            "Epoch [7/10], Step [200/469], Loss: 0.1839\n",
            "Epoch [7/10], Step [300/469], Loss: 0.2031\n",
            "Epoch [7/10], Step [400/469], Loss: 0.1692\n",
            "Epoch [8/10], Step [100/469], Loss: 0.2182\n",
            "Epoch [8/10], Step [200/469], Loss: 0.0671\n",
            "Epoch [8/10], Step [300/469], Loss: 0.2078\n",
            "Epoch [8/10], Step [400/469], Loss: 0.2267\n",
            "Epoch [9/10], Step [100/469], Loss: 0.1032\n",
            "Epoch [9/10], Step [200/469], Loss: 0.1528\n",
            "Epoch [9/10], Step [300/469], Loss: 0.1191\n",
            "Epoch [9/10], Step [400/469], Loss: 0.1721\n",
            "Epoch [10/10], Step [100/469], Loss: 0.1453\n",
            "Epoch [10/10], Step [200/469], Loss: 0.1484\n",
            "Epoch [10/10], Step [300/469], Loss: 0.2446\n",
            "Epoch [10/10], Step [400/469], Loss: 0.1590\n"
          ],
          "name": "stdout"
        }
      ]
    },
    {
      "cell_type": "code",
      "metadata": {
        "colab": {
          "base_uri": "https://localhost:8080/"
        },
        "id": "9flDBPp9VFeR",
        "outputId": "d69cb25e-0539-4d90-b2fd-443c20e4483b"
      },
      "source": [
        "#test\r\n",
        "with torch.no_grad():\r\n",
        "  correct = 0\r\n",
        "  total = 0\r\n",
        "  for images, labels in test_loader:\r\n",
        "    images = images.reshape(-1, 28*28).to('cuda')\r\n",
        "    labels = labels.to('cuda')\r\n",
        "    outputs = model(images)\r\n",
        "    _, predicted = torch.max(outputs.data, 1)\r\n",
        "    total += labels.size(0)\r\n",
        "    correct += (predicted == labels).sum().item()\r\n",
        "  print('Accuracy of the network on the 10000 test images: {} %'.format(100*correct/total))"
      ],
      "execution_count": 14,
      "outputs": [
        {
          "output_type": "stream",
          "text": [
            "Accuracy of the network on the 10000 test images: 95.09 %\n"
          ],
          "name": "stdout"
        }
      ]
    }
  ]
}